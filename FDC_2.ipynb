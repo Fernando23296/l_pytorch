{
 "cells": [
  {
   "cell_type": "code",
   "execution_count": 2,
   "metadata": {},
   "outputs": [],
   "source": [
    "import torch\n",
    "import numpy as np\n",
    "import torch.nn as nn\n",
    "import torch.optim as optim\n",
    "import matplotlib.pyplot as plt"
   ]
  },
  {
   "cell_type": "code",
   "execution_count": 9,
   "metadata": {},
   "outputs": [
    {
     "data": {
      "text/plain": [
       "[<matplotlib.lines.Line2D at 0x11e7ce6a0>]"
      ]
     },
     "execution_count": 9,
     "metadata": {},
     "output_type": "execute_result"
    },
    {
     "data": {
      "image/png": "[encoded data removed]",
      "text/plain": [
       "<Figure size 432x288 with 1 Axes>"
      ]
     },
     "metadata": {
      "needs_background": "light"
     },
     "output_type": "display_data"
    }
   ],
   "source": [
    "car_prices = [5,6,7,8,9,10]\n",
    "units_sold = [8.5,8,7.5,7.0,6.5,6.0]\n",
    "plt.plot(car_price,units_sold) #traza la linea"
   ]
  },
  {
   "cell_type": "code",
   "execution_count": 10,
   "metadata": {},
   "outputs": [
    {
     "data": {
      "text/plain": [
       "<matplotlib.collections.PathCollection at 0x11e81d198>"
      ]
     },
     "execution_count": 10,
     "metadata": {},
     "output_type": "execute_result"
    },
    {
     "data": {
      "image/png": "[encoded data removed]",
      "text/plain": [
       "<Figure size 432x288 with 1 Axes>"
      ]
     },
     "metadata": {
      "needs_background": "light"
     },
     "output_type": "display_data"
    }
   ],
   "source": [
    "plt.scatter(car_prices,units_sold) #traza los puntos"
   ]
  },
  {
   "cell_type": "code",
   "execution_count": 21,
   "metadata": {},
   "outputs": [
    {
     "name": "stdout",
     "output_type": "stream",
     "text": [
      "(6,)\n",
      "(6,)\n"
     ]
    }
   ],
   "source": [
    "prices_array = np.array(car_prices)\n",
    "units_array = np.array(units_sold)\n",
    "print(prices_array.shape)\n",
    "print(units_array.shape)"
   ]
  },
  {
   "cell_type": "code",
   "execution_count": 24,
   "metadata": {},
   "outputs": [
    {
     "name": "stdout",
     "output_type": "stream",
     "text": [
      "(6, 1)\n",
      "(6, 1)\n"
     ]
    }
   ],
   "source": [
    "# le añadimos una dimension más\n",
    "prices_array = prices_array.reshape(-1,1)\n",
    "units_array = units_array.reshape(-1,1)\n",
    "print(prices_array.shape)\n",
    "print(units_array.shape)"
   ]
  },
  {
   "cell_type": "markdown",
   "metadata": {},
   "source": [
    "### Gráficos de computación y diferenciación automática\n",
    "*Revisar el notebook de Entendiendo los Gráficos de computación y diferenciación automática* \n",
    "\n",
    "El concepto de un gráfico de cálculo es esencial para una programación eficiente de deep learning, ya que le permite no tener que escribir los gradientes de propagación hacia atrás usted mismo. Un gráfico de cálculo es simplemente una especificación de cómo se combinan sus datos para proporcionarle la salida. Dado que el gráfico especifica totalmente qué parámetros estaban involucrados con qué operaciones, contiene suficiente información para calcular derivados. Esto probablemente suene vago, así que veamos qué está sucediendo con el indicador fundamental **require_grad**.\n",
    "\n",
    "Primero, piense desde la perspectiva de los programadores. ¿Qué se almacena en la antorcha. Objetos tensoriales que estábamos creando arriba? Obviamente los datos y la forma, y tal vez algunas otras cosas. Pero cuando agregamos dos tensores juntos, obtuvimos un tensor de salida. Todo lo que este tensor de salida sabe es sus datos y su forma. No tiene idea de que era la suma de otros dos tensores (podría haberse leído de un archivo, podría ser el resultado de alguna otra operación, etc.)\n",
    "\n",
    "Si **require_grad = True**, el objeto Tensor realiza un seguimiento de cómo se creó. Vamos a verlo en acción."
   ]
  },
  {
   "cell_type": "code",
   "execution_count": 27,
   "metadata": {},
   "outputs": [
    {
     "data": {
      "text/plain": [
       "(tensor([[ 5.],\n",
       "         [ 6.],\n",
       "         [ 7.],\n",
       "         [ 8.],\n",
       "         [ 9.],\n",
       "         [10.]], requires_grad=True), torch.Size([6, 1]))"
      ]
     },
     "execution_count": 27,
     "metadata": {},
     "output_type": "execute_result"
    }
   ],
   "source": [
    "#requires_grad\n",
    "prices = torch.from_numpy(prices_array).float().requires_grad_(True)\n",
    "'''\n",
    ".requires_grad_(True) vs ._requires_grad = True\n",
    "Ambos son igualmente preferibles. tensor.requires_grad_ () \n",
    "tiene el argumento booleano predeterminado establecido en True, \n",
    "mientras que con tensor.requires_grad = True tiene que establecer \n",
    "explícitamente el valor.\n",
    "'''\n",
    "units = torch.from_numpy(units_array).float()\n",
    "\n",
    "prices,prices.shape"
   ]
  },
  {
   "cell_type": "code",
   "execution_count": null,
   "metadata": {},
   "outputs": [],
   "source": []
  },
  {
   "cell_type": "code",
   "execution_count": null,
   "metadata": {},
   "outputs": [],
   "source": []
  }
 ],
 "metadata": {
  "kernelspec": {
   "display_name": "Python 3",
   "language": "python",
   "name": "python3"
  },
  "language_info": {
   "codemirror_mode": {
    "name": "ipython",
    "version": 3
   },
   "file_extension": ".py",
   "mimetype": "text/x-python",
   "name": "python",
   "nbconvert_exporter": "python",
   "pygments_lexer": "ipython3",
   "version": "3.6.6"
  }
 },
 "nbformat": 4,
 "nbformat_minor": 2
}
