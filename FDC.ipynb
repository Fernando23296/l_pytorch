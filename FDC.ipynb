{
 "cells": [
  {
   "cell_type": "markdown",
   "metadata": {},
   "source": [
    "## PYTORCH"
   ]
  },
  {
   "cell_type": "markdown",
   "metadata": {},
   "source": [
    "Proceso de aprendizaje:\n",
    "* Forward pass\n",
    "* Backpropagation\n",
    "* Optimizacion\n",
    "\n",
    "<br>\n",
    "Usaremos tensores,\n",
    "Recordando:\n",
    "\n",
    "* Scalar\n",
    "* Vector\n",
    "* Matrix\n",
    "* Tensor\n",
    "\n",
    "La gradiente es un vector, tendra la magnitud y direccion de movimiento"
   ]
  },
  {
   "cell_type": "markdown",
   "metadata": {},
   "source": [
    "## Pytorch tensor (y listas numpy) vs listas python\n",
    "Si bien una lista de objetos numéricos es bastante parecido a un tensor de Pytorch (o una lista numpy), en realidad son completamente diferentes. Las listas de Python o las tuplas de números son\n",
    "colecciones de objetos de Python que se asignan individualmente en la memoria. Los tensores PyTorch o las matrices NumPy, por otro lado, son vistas sobre (típicamente) bloques de memoria contiguos.\n",
    "![](img/tensor_list.png)\n"
   ]
  },
  {
   "cell_type": "code",
   "execution_count": 2,
   "metadata": {},
   "outputs": [],
   "source": [
    "import torch"
   ]
  },
  {
   "cell_type": "code",
   "execution_count": 3,
   "metadata": {},
   "outputs": [
    {
     "data": {
      "text/plain": [
       "'1.1.0'"
      ]
     },
     "execution_count": 3,
     "metadata": {},
     "output_type": "execute_result"
    }
   ],
   "source": [
    "torch.__version__"
   ]
  },
  {
   "cell_type": "code",
   "execution_count": 4,
   "metadata": {},
   "outputs": [
    {
     "data": {
      "text/plain": [
       "tensor([[1., 1.],\n",
       "        [1., 1.]])"
      ]
     },
     "execution_count": 4,
     "metadata": {},
     "output_type": "execute_result"
    }
   ],
   "source": [
    "tensor_1 = torch.ones(2,2)\n",
    "tensor_1"
   ]
  },
  {
   "cell_type": "code",
   "execution_count": 12,
   "metadata": {},
   "outputs": [
    {
     "data": {
      "text/plain": [
       "tensor([[0.3953, 0.0776],\n",
       "        [0.2544, 0.8850]])"
      ]
     },
     "execution_count": 12,
     "metadata": {},
     "output_type": "execute_result"
    }
   ],
   "source": [
    "tensor_2=torch.Tensor(2,2)\n",
    "tensor_2.uniform_(0,1)"
   ]
  },
  {
   "cell_type": "code",
   "execution_count": 15,
   "metadata": {},
   "outputs": [
    {
     "data": {
      "text/plain": [
       "tensor([[0.3953, 0.0776],\n",
       "        [0.2544, 0.8850]])"
      ]
     },
     "execution_count": 15,
     "metadata": {},
     "output_type": "execute_result"
    }
   ],
   "source": [
    "tensor_2"
   ]
  },
  {
   "cell_type": "code",
   "execution_count": 16,
   "metadata": {},
   "outputs": [
    {
     "data": {
      "text/plain": [
       "tensor([[0.3428, 0.3744],\n",
       "        [0.5869, 0.3696]])"
      ]
     },
     "execution_count": 16,
     "metadata": {},
     "output_type": "execute_result"
    }
   ],
   "source": [
    "tensor_c = torch.rand(2,2)\n",
    "tensor_c"
   ]
  },
  {
   "cell_type": "code",
   "execution_count": 18,
   "metadata": {},
   "outputs": [
    {
     "data": {
      "text/plain": [
       "tensor([[0.7381, 0.4521],\n",
       "        [0.8413, 1.2547]])"
      ]
     },
     "execution_count": 18,
     "metadata": {},
     "output_type": "execute_result"
    }
   ],
   "source": [
    "result =  tensor_2 + tensor_c\n",
    "result"
   ]
  },
  {
   "cell_type": "code",
   "execution_count": 20,
   "metadata": {},
   "outputs": [
    {
     "data": {
      "text/plain": [
       "torch.Size([2, 2])"
      ]
     },
     "execution_count": 20,
     "metadata": {},
     "output_type": "execute_result"
    }
   ],
   "source": [
    "#imprime la forma del tensor\n",
    "result.shape"
   ]
  },
  {
   "cell_type": "code",
   "execution_count": 21,
   "metadata": {},
   "outputs": [
    {
     "data": {
      "text/plain": [
       "tensor([[0.7381],\n",
       "        [0.4521],\n",
       "        [0.8413],\n",
       "        [1.2547]])"
      ]
     },
     "execution_count": 21,
     "metadata": {},
     "output_type": "execute_result"
    }
   ],
   "source": [
    "reshaped = result.view(4,1)\n",
    "reshaped"
   ]
  },
  {
   "cell_type": "code",
   "execution_count": 22,
   "metadata": {},
   "outputs": [
    {
     "data": {
      "text/plain": [
       "tensor([[0.7381, 0.4521, 0.8413, 1.2547]])"
      ]
     },
     "execution_count": 22,
     "metadata": {},
     "output_type": "execute_result"
    }
   ],
   "source": [
    "reshaped2 =  result.view(1,4)\n",
    "reshaped2"
   ]
  },
  {
   "cell_type": "code",
   "execution_count": 30,
   "metadata": {},
   "outputs": [
    {
     "data": {
      "text/plain": [
       "tensor([[1., 2.],\n",
       "        [3., 4.]])"
      ]
     },
     "execution_count": 30,
     "metadata": {},
     "output_type": "execute_result"
    }
   ],
   "source": [
    "points =  torch.tensor([[1.0,2.0],[3.0,4.0]])\n",
    "points"
   ]
  },
  {
   "cell_type": "code",
   "execution_count": 31,
   "metadata": {},
   "outputs": [
    {
     "data": {
      "text/plain": [
       "tensor(2.)"
      ]
     },
     "execution_count": 31,
     "metadata": {},
     "output_type": "execute_result"
    }
   ],
   "source": [
    "points[0][1]"
   ]
  },
  {
   "cell_type": "code",
   "execution_count": 33,
   "metadata": {},
   "outputs": [
    {
     "data": {
      "text/plain": [
       "tensor(4.)"
      ]
     },
     "execution_count": 33,
     "metadata": {},
     "output_type": "execute_result"
    }
   ],
   "source": [
    "points[1][1]"
   ]
  },
  {
   "cell_type": "markdown",
   "metadata": {},
   "source": [
    "## Tensors y Storage\n",
    "Los valores se asignan en fragmentos contiguos de memoria, administrados por instancias de torch.storage. Un Storage es una matriz unidimensional de datos numéricos, es decir, un bloque contiguo de memoria que contiene números de un tipo dado. Tensor Storage es capaz de indexarse en ese almacenamiento utilizando un desplazamiento y zancadas por dimensión.\n",
    "Múltiples tensores pueden indexar el mismo almacenamiento, incluso si se indexan en los datos de manera diferente. Sin embargo, la memoria subyacente solo se asigna una vez, por lo que la creación de vistas tensoras alternativas en los datos se puede hacer rápidamente, sin importar el tamaño de los datos administrados por la instancia de Storage.\n",
    "![](img/tensor_storage.png)"
   ]
  },
  {
   "cell_type": "code",
   "execution_count": 60,
   "metadata": {},
   "outputs": [
    {
     "data": {
      "text/plain": [
       " 1.0\n",
       " 4.0\n",
       " 2.0\n",
       " 1.0\n",
       " 3.0\n",
       " 5.0\n",
       "[torch.FloatStorage of size 6]"
      ]
     },
     "execution_count": 60,
     "metadata": {},
     "output_type": "execute_result"
    }
   ],
   "source": [
    "'''\n",
    "Veamos cómo funciona la indexación en el almacenamiento en la práctica con nuestros puntos 2D.\n",
    "Se puede acceder al almacenamiento de un tensor determinado utilizando la propiedad\n",
    "'''\n",
    "prueba_storage = torch.tensor([[1.0,4.0],[2.0,1.0],[3.0,5.0]])\n",
    "prueba_storage.storage()"
   ]
  },
  {
   "cell_type": "markdown",
   "metadata": {},
   "source": [
    "Aunque el tensor informa que tiene 3 filas y 2 columnas, el almacenamiento es una matriz contigua de tamaño 6. En este sentido, el tensor simplemente sabe cómo traducir un par de índices en una ubicación en el almacenamiento."
   ]
  },
  {
   "cell_type": "markdown",
   "metadata": {},
   "source": [
    "## Stride\n",
    "Para indexar en un almacenamiento, los tensores se basan en unos pocos datos que, junto con su almacenamiento, los definen inequívocamente: size (tamaño), storage offset (desplazamiento de almacenamiento) y strides (zancadas). El tamaño (o shape (forma) en NumPy) es una tupla que indica cuántos elementos en cada dimensión representa el tensor. El storage offset (desplazamiento de almacenamiento) es el índice en el almacenamiento correspondiente al primer elemento en el tensor. Stride es el número de elementos en el almacenamiento que deben omitirse para obtener el siguiente elemento a lo largo de cada dimensión.\n",
    "![](img/tensor_strides.png)\n",
    "<br>\n",
    "<br>\n",
    "\n",
    "* stride[0] = numero de saltos en el storage para llegar a la siguiente fila\n",
    "* stride[1] = numeor de saltos para llegar a la siguiente columna\n",
    "\n",
    "<br>\n",
    "<br>\n",
    "La mejor manera es visualizarlo en una transpuesta:\n",
    "<br>\n",
    "\n",
    "\n",
    "![](img/tensor_t_strides.png)"
   ]
  },
  {
   "cell_type": "code",
   "execution_count": 65,
   "metadata": {},
   "outputs": [
    {
     "data": {
      "text/plain": [
       "tensor([[1, 2],\n",
       "        [3, 4],\n",
       "        [5, 6]])"
      ]
     },
     "execution_count": 65,
     "metadata": {},
     "output_type": "execute_result"
    }
   ],
   "source": [
    "prueba_xd = torch.tensor([[1,2],[3,4],[5,6]])\n",
    "prueba_xd"
   ]
  },
  {
   "cell_type": "code",
   "execution_count": 66,
   "metadata": {},
   "outputs": [
    {
     "data": {
      "text/plain": [
       "(2, 1)"
      ]
     },
     "execution_count": 66,
     "metadata": {},
     "output_type": "execute_result"
    }
   ],
   "source": [
    "prueba_xd.stride()"
   ]
  },
  {
   "cell_type": "code",
   "execution_count": 67,
   "metadata": {},
   "outputs": [
    {
     "data": {
      "text/plain": [
       "tensor([[1, 3, 5],\n",
       "        [2, 4, 6]])"
      ]
     },
     "execution_count": 67,
     "metadata": {},
     "output_type": "execute_result"
    }
   ],
   "source": [
    "prueba_xd.t()"
   ]
  },
  {
   "cell_type": "code",
   "execution_count": 68,
   "metadata": {},
   "outputs": [
    {
     "data": {
      "text/plain": [
       "(1, 2)"
      ]
     },
     "execution_count": 68,
     "metadata": {},
     "output_type": "execute_result"
    }
   ],
   "source": [
    "prueba_xd.t().stride()"
   ]
  },
  {
   "cell_type": "code",
   "execution_count": 37,
   "metadata": {},
   "outputs": [
    {
     "data": {
      "text/plain": [
       "(2, 1)"
      ]
     },
     "execution_count": 37,
     "metadata": {},
     "output_type": "execute_result"
    }
   ],
   "source": [
    "points.stride()"
   ]
  },
  {
   "cell_type": "markdown",
   "metadata": {},
   "source": [
    "Los strides (pasos) son una lista de enteros: el stride k representa el salto en la memoria necesario para pasar de un elemento al siguiente en la dimensión k del Tensor. Este concepto hace posible realizar muchas operaciones de tensor de manera eficiente."
   ]
  },
  {
   "cell_type": "code",
   "execution_count": 49,
   "metadata": {},
   "outputs": [
    {
     "data": {
      "text/plain": [
       "tensor([[ 1.,  2.,  3.,  4.,  5.],\n",
       "        [ 6.,  7.,  8.,  9., 10.]])"
      ]
     },
     "execution_count": 49,
     "metadata": {},
     "output_type": "execute_result"
    }
   ],
   "source": [
    "prueba_stride = torch.Tensor([[1, 2, 3, 4, 5], [6, 7, 8, 9, 10]])\n",
    "prueba_stride"
   ]
  },
  {
   "cell_type": "code",
   "execution_count": 50,
   "metadata": {},
   "outputs": [
    {
     "data": {
      "text/plain": [
       "(5, 1)"
      ]
     },
     "execution_count": 50,
     "metadata": {},
     "output_type": "execute_result"
    }
   ],
   "source": [
    "prueba_stride.stride()"
   ]
  },
  {
   "cell_type": "code",
   "execution_count": 56,
   "metadata": {},
   "outputs": [
    {
     "data": {
      "text/plain": [
       "tensor([[ 1.,  6.],\n",
       "        [ 2.,  7.],\n",
       "        [ 3.,  8.],\n",
       "        [ 4.,  9.],\n",
       "        [ 5., 10.]])"
      ]
     },
     "execution_count": 56,
     "metadata": {},
     "output_type": "execute_result"
    }
   ],
   "source": [
    "tr_prueba_stride = prueba_stride.t()\n",
    "tr_prueba_stride"
   ]
  },
  {
   "cell_type": "code",
   "execution_count": 55,
   "metadata": {},
   "outputs": [
    {
     "data": {
      "text/plain": [
       "(1, 5)"
      ]
     },
     "execution_count": 55,
     "metadata": {},
     "output_type": "execute_result"
    }
   ],
   "source": [
    "tr_prueba_stride.stride()"
   ]
  },
  {
   "cell_type": "code",
   "execution_count": null,
   "metadata": {},
   "outputs": [],
   "source": []
  }
 ],
 "metadata": {
  "kernelspec": {
   "display_name": "Python 3",
   "language": "python",
   "name": "python3"
  },
  "language_info": {
   "codemirror_mode": {
    "name": "ipython",
    "version": 3
   },
   "file_extension": ".py",
   "mimetype": "text/x-python",
   "name": "python",
   "nbconvert_exporter": "python",
   "pygments_lexer": "ipython3",
   "version": "3.6.6"
  }
 },
 "nbformat": 4,
 "nbformat_minor": 2
}
