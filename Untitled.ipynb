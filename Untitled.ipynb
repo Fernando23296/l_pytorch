{
 "cells": [
  {
   "cell_type": "code",
   "execution_count": 76,
   "metadata": {},
   "outputs": [],
   "source": [
    "import numpy as np\n"
   ]
  },
  {
   "cell_type": "code",
   "execution_count": 77,
   "metadata": {},
   "outputs": [],
   "source": [
    "x = [1,2,3,4]\n",
    "y = [2,4,6,8]\n",
    "w = 1.0"
   ]
  },
  {
   "cell_type": "code",
   "execution_count": 78,
   "metadata": {},
   "outputs": [],
   "source": [
    "def grad(x,y):\n",
    "    return 2*x*(x*w-y)\n",
    "\n",
    "def sumaw(x,y):\n",
    "    return x+y+w\n",
    "    "
   ]
  },
  {
   "cell_type": "code",
   "execution_count": 79,
   "metadata": {
    "scrolled": true
   },
   "outputs": [
    {
     "name": "stdout",
     "output_type": "stream",
     "text": [
      "valor de w:  1.02\n",
      "valor de error:  1.0\n",
      "valor de w:  1.0984\n",
      "valor de error:  3.8415999999999997\n",
      "valor de w:  1.260688\n",
      "valor de error:  7.315943039999998\n",
      "valor de w:  1.4972678400000001\n",
      "valor de error:  8.745315733503999\n",
      "2.1863289333759997\n",
      "valor de w:  1.5073224832\n",
      "valor de error:  0.2527396246982655\n",
      "valor de w:  1.546736684544\n",
      "valor de error:  0.9709245422408569\n",
      "valor de w:  1.62832408132608\n",
      "valor de error:  1.8490286982434887\n",
      "valor de w:  1.7472603753017344\n",
      "valor de error:  2.2102878163536386\n",
      "0.5525719540884096\n",
      "valor de w:  1.7523151677956996\n",
      "valor de error:  0.06387731789262015\n",
      "valor de w:  1.7721299543720437\n",
      "valor de error:  0.24539110441628972\n",
      "valor de w:  1.8131465625850758\n",
      "valor de error:  0.46732281925038266\n",
      "valor de w:  1.8729396625578516\n",
      "valor de error:  0.5586273131803681\n",
      "0.13965682829509202\n",
      "valor de w:  1.8754808693066947\n",
      "valor de error:  0.016144329350912617\n",
      "valor de w:  1.885442399762159\n",
      "valor de error:  0.06202005563446582\n",
      "valor de w:  1.9060627678049704\n",
      "valor de error:  0.11811099395027676\n",
      "valor de w:  1.9361226821073798\n",
      "valor de error:  0.14118725747940644\n",
      "0.03529681436985161\n",
      "valor de w:  1.9374002284652323\n",
      "valor de error:  0.004080311741154855\n",
      "valor de w:  1.9424082101880138\n",
      "valor de error:  0.015674925584820452\n",
      "valor de w:  1.9527747323541713\n",
      "valor de error:  0.02985132828373206\n",
      "valor de w:  1.9678868180008364\n",
      "valor de error:  0.035683614467522454\n",
      "0.008920903616880613\n",
      "valor de w:  1.9685290816408196\n",
      "valor de error:  0.0010312564581114036\n",
      "valor de w:  1.971046755109554\n",
      "valor de error:  0.003961674809480784\n",
      "valor de w:  1.9762583391898343\n",
      "valor de error:  0.007544613507175161\n",
      "valor de w:  1.9838556706490873\n",
      "valor de error:  0.009018663328399333\n",
      "0.0022546658320998334\n",
      "valor de w:  1.9841785572361055\n",
      "valor de error:  0.0002606393701907413\n",
      "valor de w:  1.985444272657217\n",
      "valor de error:  0.0010012722045247614\n",
      "valor de w:  1.988064303578918\n",
      "valor de error:  0.0019068227862969625\n",
      "valor de w:  1.9918837264336642\n",
      "valor de error:  0.002279373584899653\n",
      "0.0005698433962249132\n",
      "valor de w:  1.992046051904991\n",
      "valor de error:  6.587389660360156e-05\n",
      "valor de w:  1.9926823677525918\n",
      "valor de error:  0.000253061161192392\n",
      "valor de w:  1.9939995415571252\n",
      "valor de error:  0.000481929675374759\n",
      "valor de w:  1.9959196882588452\n",
      "valor de error:  0.0005760880243946754\n",
      "0.00014402200609866885\n",
      "valor de w:  1.9960012944936683\n",
      "valor de error:  1.6648943905005322e-05\n",
      "valor de w:  1.9963211909341747\n",
      "valor de error:  6.395858290547129e-05\n",
      "valor de w:  1.9969833765660232\n",
      "valor de error:  0.00012180272528519521\n",
      "valor de w:  1.9979486960648958\n",
      "valor de error:  0.0001456002710786872\n",
      "3.64000677696718e-05\n",
      "valor de w:  1.9979897221435978\n",
      "valor de error:  4.2078478341740605e-06\n",
      "valor de w:  1.99815054437211\n",
      "valor de error:  1.6164868239763715e-05\n",
      "valor de w:  1.9984834463851302\n",
      "valor de error:  3.078437507580838e-05\n",
      "valor de w:  1.9989687435418886\n",
      "valor de error:  3.6798957868394414e-05\n",
      "9.199739467098603e-06\n"
     ]
    }
   ],
   "source": [
    "tam = len(x)\n",
    "for epoch in range(0,10):\n",
    "    for i in range(0,tam):\n",
    "        y_pred = x[i]*w\n",
    "        loss = (y_pred - y[i])**2\n",
    "        w = w - 0.01*(grad(x[i],y[i]))\n",
    "        print(\"valor de w: \",w)\n",
    "        print(\"valor de error: \",loss)\n",
    "    mse = loss/tam\n",
    "    print(mse)"
   ]
  },
  {
   "cell_type": "code",
   "execution_count": 34,
   "metadata": {},
   "outputs": [
    {
     "name": "stdout",
     "output_type": "stream",
     "text": [
      "El valor de w:  2.0000000000000004\n",
      "La media del error cuadrado es:  2.0904813988356812e-30\n",
      "El valor de w:  2.0000000000000004\n",
      "La media del error cuadrado es:  2.0904813988356812e-30\n",
      "El valor de w:  2.0000000000000004\n",
      "La media del error cuadrado es:  2.0904813988356812e-30\n",
      "El valor de w:  2.0000000000000004\n",
      "La media del error cuadrado es:  2.0904813988356812e-30\n",
      "El valor de w:  2.0000000000000004\n",
      "La media del error cuadrado es:  2.0904813988356812e-30\n",
      "El valor de w:  2.0000000000000004\n",
      "La media del error cuadrado es:  2.0904813988356812e-30\n",
      "El valor de w:  2.0000000000000004\n",
      "La media del error cuadrado es:  2.0904813988356812e-30\n",
      "El valor de w:  2.0000000000000004\n",
      "La media del error cuadrado es:  2.0904813988356812e-30\n",
      "El valor de w:  2.0000000000000004\n",
      "La media del error cuadrado es:  2.0904813988356812e-30\n",
      "[2.0904813988356812e-30, 2.0904813988356812e-30, 2.0904813988356812e-30, 2.0904813988356812e-30, 2.0904813988356812e-30, 2.0904813988356812e-30, 2.0904813988356812e-30, 2.0904813988356812e-30, 2.0904813988356812e-30]\n"
     ]
    }
   ],
   "source": [
    "'''\n",
    "loss=0\n",
    "for epoch in range(1,10):\n",
    "\n",
    "    for i in (0,len(x)-1):\n",
    "        y_pred = x[i]*w\n",
    "        loss = (loss + (y[i]-y_pred)**2)/tam\n",
    "        w = w - (0.01*grad(x[i],w,y[i]))\n",
    "        print(\"w vale:\",w)\n",
    "    print(\"loss vale:\",loss)\n",
    "        \n",
    "'''  \n",
    "x = [1,2,3,4,5]\n",
    "y = [2,4,6,8,10]\n",
    "#w = 2.1\n",
    "eje_error = []\n",
    "eje_w = []\n",
    "\n",
    "tam = len(x)\n",
    "for epoch in range(1,10):\n",
    "    l = 0\n",
    "    for i in range(0,tam):\n",
    "        y_p = x[i]*w\n",
    "\n",
    "        l = l+((y[i] - y_p)**2)\n",
    "        mse = l/tam\n",
    "        w = w - (0.01*grad(x[i],w,y[i]))\n",
    "        #print(y_p)\n",
    "    eje_error.append(mse)\n",
    "    eje_w.append(w)\n",
    "    print(\"El valor de w: \",w)\n",
    "    print(\"La media del error cuadrado es: \",mse)\n",
    "\n",
    "print(eje_error)"
   ]
  },
  {
   "cell_type": "code",
   "execution_count": null,
   "metadata": {},
   "outputs": [],
   "source": []
  },
  {
   "cell_type": "code",
   "execution_count": null,
   "metadata": {},
   "outputs": [],
   "source": []
  },
  {
   "cell_type": "code",
   "execution_count": null,
   "metadata": {},
   "outputs": [],
   "source": []
  }
 ],
 "metadata": {
  "kernelspec": {
   "display_name": "Python 3",
   "language": "python",
   "name": "python3"
  },
  "language_info": {
   "codemirror_mode": {
    "name": "ipython",
    "version": 3
   },
   "file_extension": ".py",
   "mimetype": "text/x-python",
   "name": "python",
   "nbconvert_exporter": "python",
   "pygments_lexer": "ipython3",
   "version": "3.6.6"
  }
 },
 "nbformat": 4,
 "nbformat_minor": 2
}
