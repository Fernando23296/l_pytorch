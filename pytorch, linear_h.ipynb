{
 "cells": [
  {
   "cell_type": "code",
   "execution_count": 46,
   "metadata": {},
   "outputs": [],
   "source": [
    "import torch\n",
    "import numpy as np\n"
   ]
  },
  {
   "cell_type": "code",
   "execution_count": 47,
   "metadata": {},
   "outputs": [
    {
     "name": "stdout",
     "output_type": "stream",
     "text": [
      "1.1.0\n"
     ]
    }
   ],
   "source": [
    "print(torch.__version__)\n"
   ]
  },
  {
   "cell_type": "code",
   "execution_count": 48,
   "metadata": {},
   "outputs": [
    {
     "data": {
      "text/plain": [
       "array([0. , 0.1, 0.2, 0.3, 0.4, 0.5, 0.6, 0.7, 0.8, 0.9, 1. , 1.1, 1.2,\n",
       "       1.3, 1.4, 1.5, 1.6, 1.7, 1.8, 1.9, 2. , 2.1, 2.2, 2.3, 2.4, 2.5,\n",
       "       2.6, 2.7, 2.8, 2.9, 3. , 3.1, 3.2, 3.3, 3.4, 3.5, 3.6, 3.7, 3.8,\n",
       "       3.9, 4. ])"
      ]
     },
     "execution_count": 48,
     "metadata": {},
     "output_type": "execute_result"
    }
   ],
   "source": []
  },
  {
   "cell_type": "code",
   "execution_count": 53,
   "metadata": {},
   "outputs": [
    {
     "name": "stdout",
     "output_type": "stream",
     "text": [
      "La media del error cuadrado es:  6.0\n",
      "La media del error cuadrado es:  5.7\n",
      "La media del error cuadrado es:  5.4\n",
      "La media del error cuadrado es:  5.1\n",
      "La media del error cuadrado es:  4.8\n",
      "La media del error cuadrado es:  4.5\n",
      "La media del error cuadrado es:  4.2\n",
      "La media del error cuadrado es:  3.9\n",
      "La media del error cuadrado es:  3.6\n",
      "La media del error cuadrado es:  3.3\n",
      "La media del error cuadrado es:  3.0\n",
      "La media del error cuadrado es:  2.7\n",
      "La media del error cuadrado es:  2.3999999999999995\n",
      "La media del error cuadrado es:  2.1\n",
      "La media del error cuadrado es:  1.7999999999999996\n",
      "La media del error cuadrado es:  1.5\n",
      "La media del error cuadrado es:  1.1999999999999997\n",
      "La media del error cuadrado es:  0.8999999999999997\n",
      "La media del error cuadrado es:  0.5999999999999999\n",
      "La media del error cuadrado es:  0.29999999999999977\n",
      "La media del error cuadrado es:  0.0\n",
      "La media del error cuadrado es:  -0.30000000000000027\n",
      "La media del error cuadrado es:  -0.6000000000000003\n",
      "La media del error cuadrado es:  -0.9000000000000007\n",
      "La media del error cuadrado es:  -1.200000000000001\n",
      "La media del error cuadrado es:  -1.5\n",
      "La media del error cuadrado es:  -1.8000000000000003\n",
      "La media del error cuadrado es:  -2.1000000000000005\n",
      "La media del error cuadrado es:  -2.400000000000001\n",
      "La media del error cuadrado es:  -2.700000000000001\n",
      "La media del error cuadrado es:  -3.0\n",
      "La media del error cuadrado es:  -3.3\n",
      "La media del error cuadrado es:  -3.6000000000000005\n",
      "La media del error cuadrado es:  -3.9\n",
      "La media del error cuadrado es:  -4.200000000000001\n",
      "La media del error cuadrado es:  -4.5\n",
      "La media del error cuadrado es:  -4.8\n",
      "La media del error cuadrado es:  -5.1000000000000005\n",
      "La media del error cuadrado es:  -5.4\n",
      "La media del error cuadrado es:  -5.700000000000001\n",
      "La media del error cuadrado es:  -6.0\n",
      "[6.0, 5.7, 5.4, 5.1, 4.8, 4.5, 4.2, 3.9, 3.6, 3.3, 3.0, 2.7, 2.3999999999999995, 2.1, 1.7999999999999996, 1.5, 1.1999999999999997, 0.8999999999999997, 0.5999999999999999, 0.29999999999999977, 0.0, -0.30000000000000027, -0.6000000000000003, -0.9000000000000007, -1.200000000000001, -1.5, -1.8000000000000003, -2.1000000000000005, -2.400000000000001, -2.700000000000001, -3.0, -3.3, -3.6000000000000005, -3.9, -4.200000000000001, -4.5, -4.8, -5.1000000000000005, -5.4, -5.700000000000001, -6.0]\n"
     ]
    }
   ],
   "source": [
    "x = [1,2,3,4,5]\n",
    "y = [2,4,6,8,10]\n",
    "#w = 2.1\n",
    "eje_error = []\n",
    "eje_w = []\n",
    "\n",
    "tam = len(x)\n",
    "for w in np.arange(0.0,4.1,0.1):\n",
    "    l = 0\n",
    "    for i in range(0,tam):\n",
    "        y_p = x[i]*w\n",
    "\n",
    "        l = l+(y[i] - y_p)\n",
    "        mse = l/tam\n",
    "        #print(y_p)\n",
    "    eje_error.append(mse)\n",
    "    eje_w.append(w)\n",
    "    print(\"La media del error cuadrado es: \",mse)\n",
    "\n",
    "print(eje_error)\n",
    "\n",
    "    "
   ]
  },
  {
   "cell_type": "code",
   "execution_count": 54,
   "metadata": {},
   "outputs": [
    {
     "data": {
      "text/plain": [
       "41"
      ]
     },
     "execution_count": 54,
     "metadata": {},
     "output_type": "execute_result"
    }
   ],
   "source": [
    "len(eje_w)\n"
   ]
  },
  {
   "cell_type": "code",
   "execution_count": 55,
   "metadata": {},
   "outputs": [
    {
     "data": {
      "text/plain": [
       "41"
      ]
     },
     "execution_count": 55,
     "metadata": {},
     "output_type": "execute_result"
    }
   ],
   "source": [
    "len(eje_error)"
   ]
  },
  {
   "cell_type": "code",
   "execution_count": 56,
   "metadata": {},
   "outputs": [
    {
     "data": {
      "image/png": "[encoded data removed]",
      "text/plain": [
       "<Figure size 432x288 with 1 Axes>"
      ]
     },
     "metadata": {
      "needs_background": "light"
     },
     "output_type": "display_data"
    }
   ],
   "source": [
    "import matplotlib.pyplot as plt\n",
    "%matplotlib inline\n",
    "plt.plot(eje_w, eje_error)\n",
    "\n",
    "plt.show()"
   ]
  },
  {
   "cell_type": "code",
   "execution_count": null,
   "metadata": {},
   "outputs": [],
   "source": []
  }
 ],
 "metadata": {
  "kernelspec": {
   "display_name": "Python 3",
   "language": "python",
   "name": "python3"
  },
  "language_info": {
   "codemirror_mode": {
    "name": "ipython",
    "version": 3
   },
   "file_extension": ".py",
   "mimetype": "text/x-python",
   "name": "python",
   "nbconvert_exporter": "python",
   "pygments_lexer": "ipython3",
   "version": "3.6.6"
  }
 },
 "nbformat": 4,
 "nbformat_minor": 2
}
