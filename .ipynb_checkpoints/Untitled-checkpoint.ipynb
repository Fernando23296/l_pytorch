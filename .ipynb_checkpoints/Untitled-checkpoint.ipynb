{
 "cells": [
  {
   "cell_type": "code",
   "execution_count": 1,
   "metadata": {},
   "outputs": [],
   "source": [
    "import numpy as np\n"
   ]
  },
  {
   "cell_type": "code",
   "execution_count": 2,
   "metadata": {},
   "outputs": [],
   "source": [
    "x = [1,2,3,4]\n",
    "y = [2,4,6,8]\n",
    "w = 1.0"
   ]
  },
  {
   "cell_type": "code",
   "execution_count": 5,
   "metadata": {},
   "outputs": [],
   "source": [
    "def grad(x,w):\n",
    "    return 2*x*((x*w)-y)"
   ]
  },
  {
   "cell_type": "code",
   "execution_count": 6,
   "metadata": {},
   "outputs": [
    {
     "ename": "SyntaxError",
     "evalue": "invalid syntax (<ipython-input-6-65c1c2626928>, line 16)",
     "output_type": "error",
     "traceback": [
      "\u001b[0;36m  File \u001b[0;32m\"<ipython-input-6-65c1c2626928>\"\u001b[0;36m, line \u001b[0;32m16\u001b[0m\n\u001b[0;31m    eje_error.append(mse)\u001b[0m\n\u001b[0m            ^\u001b[0m\n\u001b[0;31mSyntaxError\u001b[0m\u001b[0;31m:\u001b[0m invalid syntax\n"
     ]
    }
   ],
   "source": [
    "#w = 2.1\n",
    "eje_error = []\n",
    "eje_w = []\n",
    "\n",
    "tam = len(x)\n",
    "\n",
    "for epoch in np.arange(1,100):\n",
    "    l = 0\n",
    "    for i in range(0,tam):\n",
    "        y_p = x[i]*w\n",
    "        w = w - (0.1*grad(x[i],y[i])\n",
    "        l = l+((y[i] - y_p)**2)\n",
    "        mse = l/tam\n",
    "        \n",
    "        #print(y_p)\n",
    "    eje_error.append(mse)\n",
    "    eje_w.append(w)\n",
    "    print(\"La media del error cuadrado es: \",mse)\n",
    "\n",
    "print(eje_error)\n",
    "\n",
    "    "
   ]
  },
  {
   "cell_type": "code",
   "execution_count": null,
   "metadata": {},
   "outputs": [],
   "source": []
  }
 ],
 "metadata": {
  "kernelspec": {
   "display_name": "Python 3",
   "language": "python",
   "name": "python3"
  },
  "language_info": {
   "codemirror_mode": {
    "name": "ipython",
    "version": 3
   },
   "file_extension": ".py",
   "mimetype": "text/x-python",
   "name": "python",
   "nbconvert_exporter": "python",
   "pygments_lexer": "ipython3",
   "version": "3.6.6"
  }
 },
 "nbformat": 4,
 "nbformat_minor": 2
}
