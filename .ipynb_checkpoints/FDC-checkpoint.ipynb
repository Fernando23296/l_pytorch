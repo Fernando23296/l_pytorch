{
 "cells": [
  {
   "cell_type": "markdown",
   "metadata": {},
   "source": [
    "## PYTORCH"
   ]
  },
  {
   "cell_type": "markdown",
   "metadata": {},
   "source": [
    "Proceso de aprendizaje:\n",
    "* Forward pass\n",
    "* Backpropagation\n",
    "* Optimizacion\n",
    "\n",
    "<br>\n",
    "Usaremos tensores,\n",
    "Recordando:\n",
    "\n",
    "* Scalar\n",
    "* Vector\n",
    "* Matrix\n",
    "* Tensor\n",
    "\n",
    "La gradiente es un vector, tendra la magnitud y direccion de movimiento"
   ]
  },
  {
   "cell_type": "markdown",
   "metadata": {},
   "source": [
    "## Pytorch tensor (y listas numpy) vs listas python\n",
    "Si bien una lista de objetos numéricos es bastante parecido a un tensor de Pytorch (o una lista numpy), en realidad son completamente diferentes. Las listas de Python o las tuplas de números son\n",
    "colecciones de objetos de Python que se asignan individualmente en la memoria. Los tensores PyTorch o las matrices NumPy, por otro lado, son vistas sobre (típicamente) bloques de memoria contiguos.\n",
    "![](img/tensor_list.png)\n"
   ]
  },
  {
   "cell_type": "code",
   "execution_count": 123,
   "metadata": {},
   "outputs": [],
   "source": [
    "import torch"
   ]
  },
  {
   "cell_type": "code",
   "execution_count": 124,
   "metadata": {},
   "outputs": [
    {
     "data": {
      "text/plain": [
       "'1.1.0'"
      ]
     },
     "execution_count": 124,
     "metadata": {},
     "output_type": "execute_result"
    }
   ],
   "source": [
    "torch.__version__"
   ]
  },
  {
   "cell_type": "code",
   "execution_count": 125,
   "metadata": {},
   "outputs": [
    {
     "data": {
      "text/plain": [
       "tensor([[1., 1.],\n",
       "        [1., 1.]])"
      ]
     },
     "execution_count": 125,
     "metadata": {},
     "output_type": "execute_result"
    }
   ],
   "source": [
    "tensor_1 = torch.ones(2,2)\n",
    "tensor_1"
   ]
  },
  {
   "cell_type": "code",
   "execution_count": 126,
   "metadata": {},
   "outputs": [
    {
     "data": {
      "text/plain": [
       "tensor([[0.0535, 0.6943],\n",
       "        [0.2630, 0.7479]])"
      ]
     },
     "execution_count": 126,
     "metadata": {},
     "output_type": "execute_result"
    }
   ],
   "source": [
    "tensor_2=torch.Tensor(2,2)\n",
    "tensor_2.uniform_(0,1)"
   ]
  },
  {
   "cell_type": "code",
   "execution_count": 127,
   "metadata": {},
   "outputs": [
    {
     "data": {
      "text/plain": [
       "tensor([[0.0535, 0.6943],\n",
       "        [0.2630, 0.7479]])"
      ]
     },
     "execution_count": 127,
     "metadata": {},
     "output_type": "execute_result"
    }
   ],
   "source": [
    "tensor_2"
   ]
  },
  {
   "cell_type": "code",
   "execution_count": 128,
   "metadata": {},
   "outputs": [
    {
     "data": {
      "text/plain": [
       "tensor([[0.2234, 0.8773],\n",
       "        [0.3344, 0.3589]])"
      ]
     },
     "execution_count": 128,
     "metadata": {},
     "output_type": "execute_result"
    }
   ],
   "source": [
    "tensor_c = torch.rand(2,2)\n",
    "tensor_c"
   ]
  },
  {
   "cell_type": "code",
   "execution_count": 129,
   "metadata": {},
   "outputs": [
    {
     "data": {
      "text/plain": [
       "tensor([[0.2769, 1.5716],\n",
       "        [0.5974, 1.1068]])"
      ]
     },
     "execution_count": 129,
     "metadata": {},
     "output_type": "execute_result"
    }
   ],
   "source": [
    "result =  tensor_2 + tensor_c\n",
    "result"
   ]
  },
  {
   "cell_type": "code",
   "execution_count": 130,
   "metadata": {},
   "outputs": [
    {
     "data": {
      "text/plain": [
       "torch.Size([2, 2])"
      ]
     },
     "execution_count": 130,
     "metadata": {},
     "output_type": "execute_result"
    }
   ],
   "source": [
    "#imprime la forma del tensor\n",
    "result.shape"
   ]
  },
  {
   "cell_type": "code",
   "execution_count": 131,
   "metadata": {},
   "outputs": [
    {
     "data": {
      "text/plain": [
       "tensor([[0.2769],\n",
       "        [1.5716],\n",
       "        [0.5974],\n",
       "        [1.1068]])"
      ]
     },
     "execution_count": 131,
     "metadata": {},
     "output_type": "execute_result"
    }
   ],
   "source": [
    "reshaped = result.view(4,1)\n",
    "reshaped"
   ]
  },
  {
   "cell_type": "code",
   "execution_count": 132,
   "metadata": {},
   "outputs": [
    {
     "data": {
      "text/plain": [
       "tensor([[0.2769, 1.5716, 0.5974, 1.1068]])"
      ]
     },
     "execution_count": 132,
     "metadata": {},
     "output_type": "execute_result"
    }
   ],
   "source": [
    "reshaped2 =  result.view(1,4)\n",
    "reshaped2"
   ]
  },
  {
   "cell_type": "code",
   "execution_count": 133,
   "metadata": {},
   "outputs": [
    {
     "data": {
      "text/plain": [
       "tensor([[1., 2.],\n",
       "        [3., 4.]])"
      ]
     },
     "execution_count": 133,
     "metadata": {},
     "output_type": "execute_result"
    }
   ],
   "source": [
    "points =  torch.tensor([[1.0,2.0],[3.0,4.0]])\n",
    "points"
   ]
  },
  {
   "cell_type": "code",
   "execution_count": 134,
   "metadata": {},
   "outputs": [
    {
     "data": {
      "text/plain": [
       "tensor(2.)"
      ]
     },
     "execution_count": 134,
     "metadata": {},
     "output_type": "execute_result"
    }
   ],
   "source": [
    "points[0][1]"
   ]
  },
  {
   "cell_type": "code",
   "execution_count": 135,
   "metadata": {},
   "outputs": [
    {
     "data": {
      "text/plain": [
       "tensor(4.)"
      ]
     },
     "execution_count": 135,
     "metadata": {},
     "output_type": "execute_result"
    }
   ],
   "source": [
    "points[1][1]"
   ]
  },
  {
   "cell_type": "markdown",
   "metadata": {},
   "source": [
    "## Tensors y Storage\n",
    "Los valores se asignan en fragmentos contiguos de memoria, administrados por instancias de torch.storage. Un Storage es una matriz unidimensional de datos numéricos, es decir, un bloque contiguo de memoria que contiene números de un tipo dado. Tensor Storage es capaz de indexarse en ese almacenamiento utilizando un desplazamiento y zancadas por dimensión.\n",
    "Múltiples tensores pueden indexar el mismo almacenamiento, incluso si se indexan en los datos de manera diferente. Sin embargo, la memoria subyacente solo se asigna una vez, por lo que la creación de vistas tensoras alternativas en los datos se puede hacer rápidamente, sin importar el tamaño de los datos administrados por la instancia de Storage.\n",
    "![](img/tensor_storage.png)"
   ]
  },
  {
   "cell_type": "code",
   "execution_count": 136,
   "metadata": {},
   "outputs": [
    {
     "data": {
      "text/plain": [
       " 1.0\n",
       " 4.0\n",
       " 2.0\n",
       " 1.0\n",
       " 3.0\n",
       " 5.0\n",
       "[torch.FloatStorage of size 6]"
      ]
     },
     "execution_count": 136,
     "metadata": {},
     "output_type": "execute_result"
    }
   ],
   "source": [
    "'''\n",
    "Veamos cómo funciona la indexación en el almacenamiento en la práctica con nuestros puntos 2D.\n",
    "Se puede acceder al almacenamiento de un tensor determinado utilizando la propiedad\n",
    "'''\n",
    "prueba_storage = torch.tensor([[1.0,4.0],[2.0,1.0],[3.0,5.0]])\n",
    "prueba_storage.storage()"
   ]
  },
  {
   "cell_type": "markdown",
   "metadata": {},
   "source": [
    "Aunque el tensor informa que tiene 3 filas y 2 columnas, el almacenamiento es una matriz contigua de tamaño 6. En este sentido, el tensor simplemente sabe cómo traducir un par de índices en una ubicación en el almacenamiento."
   ]
  },
  {
   "cell_type": "markdown",
   "metadata": {},
   "source": [
    "## Stride\n",
    "Para indexar en un almacenamiento, los tensores se basan en unos pocos datos que, junto con su almacenamiento, los definen inequívocamente: size (tamaño), storage offset (desplazamiento de almacenamiento) y strides (zancadas). El tamaño (o shape (forma) en NumPy) es una tupla que indica cuántos elementos en cada dimensión representa el tensor. El storage offset (desplazamiento de almacenamiento) es el índice en el almacenamiento correspondiente al primer elemento en el tensor. Stride es el número de elementos en el almacenamiento que deben omitirse para obtener el siguiente elemento a lo largo de cada dimensión.\n",
    "![](img/tensor_strides.png)\n",
    "<br>\n",
    "<br>\n",
    "\n",
    "* stride[0] = numero de saltos en el storage para llegar a la siguiente fila\n",
    "* stride[1] = numeor de saltos para llegar a la siguiente columna\n",
    "\n",
    "<br>\n",
    "<br>\n",
    "La mejor manera es visualizarlo en una transpuesta:\n",
    "<br>\n",
    "\n",
    "\n",
    "![](img/tensor_t_strides.png)"
   ]
  },
  {
   "cell_type": "code",
   "execution_count": 137,
   "metadata": {},
   "outputs": [
    {
     "data": {
      "text/plain": [
       "tensor([[1, 2],\n",
       "        [3, 4],\n",
       "        [5, 6]])"
      ]
     },
     "execution_count": 137,
     "metadata": {},
     "output_type": "execute_result"
    }
   ],
   "source": [
    "prueba_xd = torch.tensor([[1,2],[3,4],[5,6]])\n",
    "prueba_xd"
   ]
  },
  {
   "cell_type": "code",
   "execution_count": 138,
   "metadata": {},
   "outputs": [
    {
     "data": {
      "text/plain": [
       "(2, 1)"
      ]
     },
     "execution_count": 138,
     "metadata": {},
     "output_type": "execute_result"
    }
   ],
   "source": [
    "prueba_xd.stride()"
   ]
  },
  {
   "cell_type": "code",
   "execution_count": 139,
   "metadata": {},
   "outputs": [
    {
     "data": {
      "text/plain": [
       "tensor([[1, 3, 5],\n",
       "        [2, 4, 6]])"
      ]
     },
     "execution_count": 139,
     "metadata": {},
     "output_type": "execute_result"
    }
   ],
   "source": [
    "prueba_xd.t()"
   ]
  },
  {
   "cell_type": "code",
   "execution_count": 140,
   "metadata": {},
   "outputs": [
    {
     "data": {
      "text/plain": [
       "(1, 2)"
      ]
     },
     "execution_count": 140,
     "metadata": {},
     "output_type": "execute_result"
    }
   ],
   "source": [
    "prueba_xd.t().stride()"
   ]
  },
  {
   "cell_type": "code",
   "execution_count": 141,
   "metadata": {},
   "outputs": [
    {
     "data": {
      "text/plain": [
       "(2, 1)"
      ]
     },
     "execution_count": 141,
     "metadata": {},
     "output_type": "execute_result"
    }
   ],
   "source": [
    "points.stride()"
   ]
  },
  {
   "cell_type": "markdown",
   "metadata": {},
   "source": [
    "Los strides (pasos) son una lista de enteros: el stride k representa el salto en la memoria necesario para pasar de un elemento al siguiente en la dimensión k del Tensor. Este concepto hace posible realizar muchas operaciones de tensor de manera eficiente."
   ]
  },
  {
   "cell_type": "code",
   "execution_count": 142,
   "metadata": {},
   "outputs": [
    {
     "data": {
      "text/plain": [
       "tensor([[ 1.,  2.,  3.,  4.,  5.],\n",
       "        [ 6.,  7.,  8.,  9., 10.]])"
      ]
     },
     "execution_count": 142,
     "metadata": {},
     "output_type": "execute_result"
    }
   ],
   "source": [
    "prueba_stride = torch.Tensor([[1, 2, 3, 4, 5], [6, 7, 8, 9, 10]])\n",
    "prueba_stride"
   ]
  },
  {
   "cell_type": "code",
   "execution_count": 143,
   "metadata": {},
   "outputs": [
    {
     "data": {
      "text/plain": [
       "(5, 1)"
      ]
     },
     "execution_count": 143,
     "metadata": {},
     "output_type": "execute_result"
    }
   ],
   "source": [
    "prueba_stride.stride()"
   ]
  },
  {
   "cell_type": "code",
   "execution_count": 144,
   "metadata": {},
   "outputs": [
    {
     "data": {
      "text/plain": [
       "tensor([[ 1.,  6.],\n",
       "        [ 2.,  7.],\n",
       "        [ 3.,  8.],\n",
       "        [ 4.,  9.],\n",
       "        [ 5., 10.]])"
      ]
     },
     "execution_count": 144,
     "metadata": {},
     "output_type": "execute_result"
    }
   ],
   "source": [
    "tr_prueba_stride = prueba_stride.t()\n",
    "tr_prueba_stride"
   ]
  },
  {
   "cell_type": "code",
   "execution_count": 145,
   "metadata": {},
   "outputs": [
    {
     "data": {
      "text/plain": [
       "(1, 5)"
      ]
     },
     "execution_count": 145,
     "metadata": {},
     "output_type": "execute_result"
    }
   ],
   "source": [
    "tr_prueba_stride.stride()"
   ]
  },
  {
   "cell_type": "code",
   "execution_count": 146,
   "metadata": {},
   "outputs": [
    {
     "data": {
      "text/plain": [
       "torch.Size([4])"
      ]
     },
     "execution_count": 146,
     "metadata": {},
     "output_type": "execute_result"
    }
   ],
   "source": [
    "tensor_x = torch.tensor([1,2,3,4])\n",
    "tensor_x.shape"
   ]
  },
  {
   "cell_type": "code",
   "execution_count": 147,
   "metadata": {},
   "outputs": [
    {
     "data": {
      "text/plain": [
       "(tensor([[1, 2, 3, 4]]), torch.Size([1, 4]))"
      ]
     },
     "execution_count": 147,
     "metadata": {},
     "output_type": "execute_result"
    }
   ],
   "source": [
    "ej_uns1 = torch.unsqueeze(tensor_x,0)\n",
    "ej_uns1,ej_uns1.shape"
   ]
  },
  {
   "cell_type": "code",
   "execution_count": 148,
   "metadata": {},
   "outputs": [
    {
     "data": {
      "text/plain": [
       "(tensor([[1],\n",
       "         [2],\n",
       "         [3],\n",
       "         [4]]), torch.Size([4, 1]))"
      ]
     },
     "execution_count": 148,
     "metadata": {},
     "output_type": "execute_result"
    }
   ],
   "source": [
    "ej_uns2 = torch.unsqueeze(tensor_x,1)\n",
    "ej_uns2,ej_uns2.shape"
   ]
  },
  {
   "cell_type": "code",
   "execution_count": 149,
   "metadata": {},
   "outputs": [
    {
     "data": {
      "text/plain": [
       "tensor([[1, 2],\n",
       "        [3, 4]])"
      ]
     },
     "execution_count": 149,
     "metadata": {},
     "output_type": "execute_result"
    }
   ],
   "source": [
    "tensor_y = torch.tensor([[1,2],[3,4]])\n",
    "tensor_y"
   ]
  },
  {
   "cell_type": "code",
   "execution_count": 150,
   "metadata": {},
   "outputs": [
    {
     "data": {
      "text/plain": [
       "(tensor([[[1, 2],\n",
       "          [3, 4]]]), torch.Size([1, 2, 2]))"
      ]
     },
     "execution_count": 150,
     "metadata": {},
     "output_type": "execute_result"
    }
   ],
   "source": [
    "tensor_y_uns1 = torch.unsqueeze(tensor_y,-3)\n",
    "tensor_y_uns1,tensor_y_uns1.shape"
   ]
  },
  {
   "cell_type": "code",
   "execution_count": 151,
   "metadata": {},
   "outputs": [
    {
     "data": {
      "text/plain": [
       "(tensor([[[1],\n",
       "          [2]],\n",
       " \n",
       "         [[3],\n",
       "          [4]]]), torch.Size([2, 2, 1]))"
      ]
     },
     "execution_count": 151,
     "metadata": {},
     "output_type": "execute_result"
    }
   ],
   "source": [
    "tensor_y_uns2 = torch.unsqueeze(tensor_y,2)\n",
    "tensor_y_uns2,tensor_y_uns2.shape"
   ]
  },
  {
   "cell_type": "markdown",
   "metadata": {},
   "source": [
    "### Extra (Flatten,Reshape,Squeeze)"
   ]
  },
  {
   "cell_type": "code",
   "execution_count": 152,
   "metadata": {},
   "outputs": [],
   "source": [
    "t = torch.tensor([[1,1,1],\n",
    "                [2,2,2],\n",
    "                [3,3,3],\n",
    "                [4,4,4]],dtype=torch.float32)"
   ]
  },
  {
   "cell_type": "code",
   "execution_count": 153,
   "metadata": {},
   "outputs": [
    {
     "data": {
      "text/plain": [
       "tensor([[1., 1., 1.],\n",
       "        [2., 2., 2.],\n",
       "        [3., 3., 3.],\n",
       "        [4., 4., 4.]])"
      ]
     },
     "execution_count": 153,
     "metadata": {},
     "output_type": "execute_result"
    }
   ],
   "source": [
    "t"
   ]
  },
  {
   "cell_type": "code",
   "execution_count": 154,
   "metadata": {},
   "outputs": [
    {
     "data": {
      "text/plain": [
       "torch.Size([4, 3])"
      ]
     },
     "execution_count": 154,
     "metadata": {},
     "output_type": "execute_result"
    }
   ],
   "source": [
    "t.size()"
   ]
  },
  {
   "cell_type": "code",
   "execution_count": 155,
   "metadata": {},
   "outputs": [
    {
     "data": {
      "text/plain": [
       "torch.Size([4, 3])"
      ]
     },
     "execution_count": 155,
     "metadata": {},
     "output_type": "execute_result"
    }
   ],
   "source": [
    "t.shape"
   ]
  },
  {
   "cell_type": "code",
   "execution_count": 156,
   "metadata": {},
   "outputs": [
    {
     "data": {
      "text/plain": [
       "2"
      ]
     },
     "execution_count": 156,
     "metadata": {},
     "output_type": "execute_result"
    }
   ],
   "source": [
    "# Rango del tensor:\n",
    "len(t.shape)"
   ]
  },
  {
   "cell_type": "code",
   "execution_count": 157,
   "metadata": {},
   "outputs": [
    {
     "data": {
      "text/plain": [
       "tensor(12)"
      ]
     },
     "execution_count": 157,
     "metadata": {},
     "output_type": "execute_result"
    }
   ],
   "source": [
    "'''\n",
    "Para saber el numero de elementos dentro del tensor, multiplicamos\n",
    "sus dimensiones\n",
    "'''\n",
    "torch.tensor(t.shape).prod()"
   ]
  },
  {
   "cell_type": "code",
   "execution_count": 158,
   "metadata": {},
   "outputs": [
    {
     "data": {
      "text/plain": [
       "12"
      ]
     },
     "execution_count": 158,
     "metadata": {},
     "output_type": "execute_result"
    }
   ],
   "source": [
    "t.numel()"
   ]
  },
  {
   "cell_type": "code",
   "execution_count": 159,
   "metadata": {},
   "outputs": [
    {
     "data": {
      "text/plain": [
       "tensor([[1., 1., 1.],\n",
       "        [2., 2., 2.],\n",
       "        [3., 3., 3.],\n",
       "        [4., 4., 4.]])"
      ]
     },
     "execution_count": 159,
     "metadata": {},
     "output_type": "execute_result"
    }
   ],
   "source": [
    "'''\n",
    "Podemos cambiar la forma del tensor, tomando como relacion factores\n",
    "del numero de elementos dentro del tensor.\n",
    "Eje: 12 -> (3*4),(2*6),(1*12)\n",
    "'''\n",
    "t.reshape(4,3)"
   ]
  },
  {
   "cell_type": "code",
   "execution_count": 160,
   "metadata": {},
   "outputs": [
    {
     "data": {
      "text/plain": [
       "tensor([[1., 1., 1., 2.],\n",
       "        [2., 2., 3., 3.],\n",
       "        [3., 4., 4., 4.]])"
      ]
     },
     "execution_count": 160,
     "metadata": {},
     "output_type": "execute_result"
    }
   ],
   "source": [
    "t.reshape(3,4)"
   ]
  },
  {
   "cell_type": "code",
   "execution_count": 161,
   "metadata": {},
   "outputs": [
    {
     "data": {
      "text/plain": [
       "tensor([[1., 1., 1., 2., 2., 2.],\n",
       "        [3., 3., 3., 4., 4., 4.]])"
      ]
     },
     "execution_count": 161,
     "metadata": {},
     "output_type": "execute_result"
    }
   ],
   "source": [
    "t.reshape(2,6)"
   ]
  },
  {
   "cell_type": "code",
   "execution_count": 162,
   "metadata": {},
   "outputs": [
    {
     "data": {
      "text/plain": [
       "tensor([[1., 1., 1., 2., 2., 2., 3., 3., 3., 4., 4., 4.]])"
      ]
     },
     "execution_count": 162,
     "metadata": {},
     "output_type": "execute_result"
    }
   ],
   "source": [
    "t.reshape(1,12)"
   ]
  },
  {
   "cell_type": "code",
   "execution_count": 163,
   "metadata": {},
   "outputs": [
    {
     "name": "stdout",
     "output_type": "stream",
     "text": [
      "tensor([[1., 1., 1., 2., 2., 2., 3., 3., 3., 4., 4., 4.]])\n",
      "torch.Size([1, 12])\n",
      "2\n"
     ]
    }
   ],
   "source": [
    "print(t.reshape(1,12))\n",
    "print(t.reshape(1,12).shape)\n",
    "print(len(t.reshape(1,12).shape))\n"
   ]
  },
  {
   "cell_type": "code",
   "execution_count": 164,
   "metadata": {},
   "outputs": [
    {
     "name": "stdout",
     "output_type": "stream",
     "text": [
      "tensor([1., 1., 1., 2., 2., 2., 3., 3., 3., 4., 4., 4.])\n",
      "1\n"
     ]
    }
   ],
   "source": [
    "'''\n",
    "Squeeze -> apretar\n",
    "Reduce una dimension\n",
    "'''\n",
    "\n",
    "print(t.reshape(1,12).squeeze())\n",
    "sq = t.reshape(1,12).squeeze()\n",
    "print(len(sq.shape))"
   ]
  },
  {
   "cell_type": "code",
   "execution_count": 165,
   "metadata": {},
   "outputs": [
    {
     "name": "stdout",
     "output_type": "stream",
     "text": [
      "tensor([[1., 1., 1., 2., 2., 2., 3., 3., 3., 4., 4., 4.]])\n",
      "torch.Size([1, 12])\n",
      "2\n"
     ]
    }
   ],
   "source": [
    "print(sq.unsqueeze(dim=0))\n",
    "# lo de abajo es lo mismo que lo de arriba\n",
    "#print(torch.unsqueeze(sq,0))\n",
    "#Se recupera una dimension\n",
    "print(t.reshape(1,12).squeeze().unsqueeze(dim=0).shape)\n",
    "print(len(t.reshape(1,12).squeeze().unsqueeze(dim=0).shape))\n"
   ]
  },
  {
   "cell_type": "markdown",
   "metadata": {},
   "source": [
    "#### Entendiendo flatten"
   ]
  },
  {
   "cell_type": "code",
   "execution_count": 166,
   "metadata": {},
   "outputs": [],
   "source": [
    "def flatten(t):\n",
    "    t = t.reshape(1,-1)\n",
    "    t = t.squeeze()\n",
    "    return t"
   ]
  },
  {
   "cell_type": "code",
   "execution_count": 167,
   "metadata": {},
   "outputs": [
    {
     "data": {
      "text/plain": [
       "(tensor([[1., 1., 1.],\n",
       "         [2., 2., 2.],\n",
       "         [3., 3., 3.],\n",
       "         [4., 4., 4.]]),\n",
       " tensor([1., 1., 1., 2., 2., 2., 3., 3., 3., 4., 4., 4.]))"
      ]
     },
     "execution_count": 167,
     "metadata": {},
     "output_type": "execute_result"
    }
   ],
   "source": [
    "t, flatten(t)"
   ]
  },
  {
   "cell_type": "code",
   "execution_count": 168,
   "metadata": {},
   "outputs": [
    {
     "data": {
      "text/plain": [
       "(tensor([[1., 1., 1.],\n",
       "         [2., 2., 2.],\n",
       "         [3., 3., 3.],\n",
       "         [4., 4., 4.]]),\n",
       " tensor([[1., 1., 1., 2., 2., 2., 3., 3., 3., 4., 4., 4.]]))"
      ]
     },
     "execution_count": 168,
     "metadata": {},
     "output_type": "execute_result"
    }
   ],
   "source": [
    "t, t.reshape(1,12)"
   ]
  },
  {
   "cell_type": "code",
   "execution_count": 169,
   "metadata": {},
   "outputs": [
    {
     "data": {
      "text/plain": [
       "(torch.Size([12]), torch.Size([1, 12]))"
      ]
     },
     "execution_count": 169,
     "metadata": {},
     "output_type": "execute_result"
    }
   ],
   "source": [
    "flatten(t).shape,t.reshape(1,12).shape"
   ]
  },
  {
   "cell_type": "markdown",
   "metadata": {},
   "source": [
    "### Continuando"
   ]
  },
  {
   "cell_type": "code",
   "execution_count": 170,
   "metadata": {},
   "outputs": [
    {
     "data": {
      "text/plain": [
       "(tensor([1, 2, 3, 4]), tensor([[1],\n",
       "         [2],\n",
       "         [3],\n",
       "         [4]]), torch.Size([4, 1]))"
      ]
     },
     "execution_count": 170,
     "metadata": {},
     "output_type": "execute_result"
    }
   ],
   "source": [
    "tensor_x = torch.tensor([1,2,3,4])\n",
    "tensor_x, torch.unsqueeze(tensor_x,1),torch.unsqueeze(tensor_x,1).shape"
   ]
  },
  {
   "cell_type": "markdown",
   "metadata": {},
   "source": [
    "### Numpy"
   ]
  },
  {
   "cell_type": "code",
   "execution_count": 171,
   "metadata": {},
   "outputs": [],
   "source": [
    "import numpy as np"
   ]
  },
  {
   "cell_type": "code",
   "execution_count": 172,
   "metadata": {},
   "outputs": [
    {
     "data": {
      "text/plain": [
       "tensor([[ 0.0498,  0.0392],\n",
       "        [-0.3432, -2.3150]], dtype=torch.float64)"
      ]
     },
     "execution_count": 172,
     "metadata": {},
     "output_type": "execute_result"
    }
   ],
   "source": [
    "numpyArray = np.random.randn(2,2)\n",
    "from_numpy = torch.from_numpy(numpyArray)\n",
    "from_numpy"
   ]
  },
  {
   "cell_type": "markdown",
   "metadata": {},
   "source": [
    "### Representamos datos con Tensores"
   ]
  },
  {
   "cell_type": "code",
   "execution_count": 173,
   "metadata": {},
   "outputs": [
    {
     "data": {
      "text/plain": [
       "tensor(-0.6423, dtype=torch.float64)"
      ]
     },
     "execution_count": 173,
     "metadata": {},
     "output_type": "execute_result"
    }
   ],
   "source": [
    "from_numpy.mean()"
   ]
  },
  {
   "cell_type": "code",
   "execution_count": 174,
   "metadata": {},
   "outputs": [
    {
     "data": {
      "text/plain": [
       "tensor(-0.6423, dtype=torch.float64)"
      ]
     },
     "execution_count": 174,
     "metadata": {},
     "output_type": "execute_result"
    }
   ],
   "source": [
    "torch.mean(from_numpy)"
   ]
  },
  {
   "cell_type": "code",
   "execution_count": 175,
   "metadata": {},
   "outputs": [
    {
     "name": "stdout",
     "output_type": "stream",
     "text": [
      "tensor([[ 0.0498,  0.0392],\n",
      "        [-0.3432, -2.3150]], dtype=torch.float64)\n",
      "tensor([-0.1467, -1.1379], dtype=torch.float64)\n",
      "tensor([ 0.0445, -1.3291], dtype=torch.float64)\n"
     ]
    }
   ],
   "source": [
    "print(from_numpy)\n",
    "print(torch.mean(from_numpy,dim=0)) #media acorde a columnas\n",
    "print(torch.mean(from_numpy,dim=1)) #media acorde a filas"
   ]
  },
  {
   "cell_type": "code",
   "execution_count": 176,
   "metadata": {},
   "outputs": [
    {
     "name": "stdout",
     "output_type": "stream",
     "text": [
      "tensor([[ 0.0498,  0.0392],\n",
      "        [-0.3432, -2.3150]], dtype=torch.float64)\n",
      "tensor([0.2779, 1.6647], dtype=torch.float64)\n",
      "tensor([0.0075, 1.3943], dtype=torch.float64)\n"
     ]
    }
   ],
   "source": [
    "print(from_numpy)\n",
    "print(torch.std(from_numpy,dim=0)) #Desviacion estandar acorde a columnas\n",
    "print(torch.std(from_numpy,dim=1)) #Desviacion estandar acorde a filas"
   ]
  },
  {
   "cell_type": "code",
   "execution_count": 177,
   "metadata": {},
   "outputs": [],
   "source": [
    "torch.save(from_numpy,'tensor.t') #lo guardo como tensor.t"
   ]
  },
  {
   "cell_type": "code",
   "execution_count": 178,
   "metadata": {},
   "outputs": [],
   "source": [
    "load = torch.load('tensor.t')"
   ]
  },
  {
   "cell_type": "code",
   "execution_count": 179,
   "metadata": {},
   "outputs": [
    {
     "data": {
      "text/plain": [
       "tensor([[ 0.0498,  0.0392],\n",
       "        [-0.3432, -2.3150]], dtype=torch.float64)"
      ]
     },
     "execution_count": 179,
     "metadata": {},
     "output_type": "execute_result"
    }
   ],
   "source": [
    "load"
   ]
  },
  {
   "cell_type": "markdown",
   "metadata": {},
   "source": [
    "### Pandas"
   ]
  },
  {
   "cell_type": "code",
   "execution_count": 180,
   "metadata": {},
   "outputs": [],
   "source": [
    "import pandas as pd"
   ]
  },
  {
   "cell_type": "code",
   "execution_count": 181,
   "metadata": {},
   "outputs": [],
   "source": [
    "path = \"https://raw.githubusercontent.com/amanthedorkknight/fifa18-all-player-statistics/master/2019/data.csv\"\n",
    "dataframe = pd.read_csv(path)"
   ]
  },
  {
   "cell_type": "code",
   "execution_count": 182,
   "metadata": {},
   "outputs": [
    {
     "data": {
      "text/html": [
       "<div>\n",
       "<style scoped>\n",
       "    .dataframe tbody tr th:only-of-type {\n",
       "        vertical-align: middle;\n",
       "    }\n",
       "\n",
       "    .dataframe tbody tr th {\n",
       "        vertical-align: top;\n",
       "    }\n",
       "\n",
       "    .dataframe thead th {\n",
       "        text-align: right;\n",
       "    }\n",
       "</style>\n",
       "<table border=\"1\" class=\"dataframe\">\n",
       "  <thead>\n",
       "    <tr style=\"text-align: right;\">\n",
       "      <th></th>\n",
       "      <th>Unnamed: 0</th>\n",
       "      <th>ID</th>\n",
       "      <th>Name</th>\n",
       "      <th>Age</th>\n",
       "      <th>Photo</th>\n",
       "      <th>Nationality</th>\n",
       "      <th>Flag</th>\n",
       "      <th>Overall</th>\n",
       "      <th>Potential</th>\n",
       "      <th>Club</th>\n",
       "      <th>...</th>\n",
       "      <th>Composure</th>\n",
       "      <th>Marking</th>\n",
       "      <th>StandingTackle</th>\n",
       "      <th>SlidingTackle</th>\n",
       "      <th>GKDiving</th>\n",
       "      <th>GKHandling</th>\n",
       "      <th>GKKicking</th>\n",
       "      <th>GKPositioning</th>\n",
       "      <th>GKReflexes</th>\n",
       "      <th>Release Clause</th>\n",
       "    </tr>\n",
       "  </thead>\n",
       "  <tbody>\n",
       "    <tr>\n",
       "      <th>0</th>\n",
       "      <td>0</td>\n",
       "      <td>158023</td>\n",
       "      <td>L. Messi</td>\n",
       "      <td>31</td>\n",
       "      <td>https://cdn.sofifa.org/players/4/19/158023.png</td>\n",
       "      <td>Argentina</td>\n",
       "      <td>https://cdn.sofifa.org/flags/52.png</td>\n",
       "      <td>94</td>\n",
       "      <td>94</td>\n",
       "      <td>FC Barcelona</td>\n",
       "      <td>...</td>\n",
       "      <td>96.0</td>\n",
       "      <td>33.0</td>\n",
       "      <td>28.0</td>\n",
       "      <td>26.0</td>\n",
       "      <td>6.0</td>\n",
       "      <td>11.0</td>\n",
       "      <td>15.0</td>\n",
       "      <td>14.0</td>\n",
       "      <td>8.0</td>\n",
       "      <td>€226.5M</td>\n",
       "    </tr>\n",
       "    <tr>\n",
       "      <th>1</th>\n",
       "      <td>1</td>\n",
       "      <td>20801</td>\n",
       "      <td>Cristiano Ronaldo</td>\n",
       "      <td>33</td>\n",
       "      <td>https://cdn.sofifa.org/players/4/19/20801.png</td>\n",
       "      <td>Portugal</td>\n",
       "      <td>https://cdn.sofifa.org/flags/38.png</td>\n",
       "      <td>94</td>\n",
       "      <td>94</td>\n",
       "      <td>Juventus</td>\n",
       "      <td>...</td>\n",
       "      <td>95.0</td>\n",
       "      <td>28.0</td>\n",
       "      <td>31.0</td>\n",
       "      <td>23.0</td>\n",
       "      <td>7.0</td>\n",
       "      <td>11.0</td>\n",
       "      <td>15.0</td>\n",
       "      <td>14.0</td>\n",
       "      <td>11.0</td>\n",
       "      <td>€127.1M</td>\n",
       "    </tr>\n",
       "    <tr>\n",
       "      <th>2</th>\n",
       "      <td>2</td>\n",
       "      <td>190871</td>\n",
       "      <td>Neymar Jr</td>\n",
       "      <td>26</td>\n",
       "      <td>https://cdn.sofifa.org/players/4/19/190871.png</td>\n",
       "      <td>Brazil</td>\n",
       "      <td>https://cdn.sofifa.org/flags/54.png</td>\n",
       "      <td>92</td>\n",
       "      <td>93</td>\n",
       "      <td>Paris Saint-Germain</td>\n",
       "      <td>...</td>\n",
       "      <td>94.0</td>\n",
       "      <td>27.0</td>\n",
       "      <td>24.0</td>\n",
       "      <td>33.0</td>\n",
       "      <td>9.0</td>\n",
       "      <td>9.0</td>\n",
       "      <td>15.0</td>\n",
       "      <td>15.0</td>\n",
       "      <td>11.0</td>\n",
       "      <td>€228.1M</td>\n",
       "    </tr>\n",
       "    <tr>\n",
       "      <th>3</th>\n",
       "      <td>3</td>\n",
       "      <td>193080</td>\n",
       "      <td>De Gea</td>\n",
       "      <td>27</td>\n",
       "      <td>https://cdn.sofifa.org/players/4/19/193080.png</td>\n",
       "      <td>Spain</td>\n",
       "      <td>https://cdn.sofifa.org/flags/45.png</td>\n",
       "      <td>91</td>\n",
       "      <td>93</td>\n",
       "      <td>Manchester United</td>\n",
       "      <td>...</td>\n",
       "      <td>68.0</td>\n",
       "      <td>15.0</td>\n",
       "      <td>21.0</td>\n",
       "      <td>13.0</td>\n",
       "      <td>90.0</td>\n",
       "      <td>85.0</td>\n",
       "      <td>87.0</td>\n",
       "      <td>88.0</td>\n",
       "      <td>94.0</td>\n",
       "      <td>€138.6M</td>\n",
       "    </tr>\n",
       "    <tr>\n",
       "      <th>4</th>\n",
       "      <td>4</td>\n",
       "      <td>192985</td>\n",
       "      <td>K. De Bruyne</td>\n",
       "      <td>27</td>\n",
       "      <td>https://cdn.sofifa.org/players/4/19/192985.png</td>\n",
       "      <td>Belgium</td>\n",
       "      <td>https://cdn.sofifa.org/flags/7.png</td>\n",
       "      <td>91</td>\n",
       "      <td>92</td>\n",
       "      <td>Manchester City</td>\n",
       "      <td>...</td>\n",
       "      <td>88.0</td>\n",
       "      <td>68.0</td>\n",
       "      <td>58.0</td>\n",
       "      <td>51.0</td>\n",
       "      <td>15.0</td>\n",
       "      <td>13.0</td>\n",
       "      <td>5.0</td>\n",
       "      <td>10.0</td>\n",
       "      <td>13.0</td>\n",
       "      <td>€196.4M</td>\n",
       "    </tr>\n",
       "    <tr>\n",
       "      <th>5</th>\n",
       "      <td>5</td>\n",
       "      <td>183277</td>\n",
       "      <td>E. Hazard</td>\n",
       "      <td>27</td>\n",
       "      <td>https://cdn.sofifa.org/players/4/19/183277.png</td>\n",
       "      <td>Belgium</td>\n",
       "      <td>https://cdn.sofifa.org/flags/7.png</td>\n",
       "      <td>91</td>\n",
       "      <td>91</td>\n",
       "      <td>Chelsea</td>\n",
       "      <td>...</td>\n",
       "      <td>91.0</td>\n",
       "      <td>34.0</td>\n",
       "      <td>27.0</td>\n",
       "      <td>22.0</td>\n",
       "      <td>11.0</td>\n",
       "      <td>12.0</td>\n",
       "      <td>6.0</td>\n",
       "      <td>8.0</td>\n",
       "      <td>8.0</td>\n",
       "      <td>€172.1M</td>\n",
       "    </tr>\n",
       "    <tr>\n",
       "      <th>6</th>\n",
       "      <td>6</td>\n",
       "      <td>177003</td>\n",
       "      <td>L. Modrić</td>\n",
       "      <td>32</td>\n",
       "      <td>https://cdn.sofifa.org/players/4/19/177003.png</td>\n",
       "      <td>Croatia</td>\n",
       "      <td>https://cdn.sofifa.org/flags/10.png</td>\n",
       "      <td>91</td>\n",
       "      <td>91</td>\n",
       "      <td>Real Madrid</td>\n",
       "      <td>...</td>\n",
       "      <td>84.0</td>\n",
       "      <td>60.0</td>\n",
       "      <td>76.0</td>\n",
       "      <td>73.0</td>\n",
       "      <td>13.0</td>\n",
       "      <td>9.0</td>\n",
       "      <td>7.0</td>\n",
       "      <td>14.0</td>\n",
       "      <td>9.0</td>\n",
       "      <td>€137.4M</td>\n",
       "    </tr>\n",
       "    <tr>\n",
       "      <th>7</th>\n",
       "      <td>7</td>\n",
       "      <td>176580</td>\n",
       "      <td>L. Suárez</td>\n",
       "      <td>31</td>\n",
       "      <td>https://cdn.sofifa.org/players/4/19/176580.png</td>\n",
       "      <td>Uruguay</td>\n",
       "      <td>https://cdn.sofifa.org/flags/60.png</td>\n",
       "      <td>91</td>\n",
       "      <td>91</td>\n",
       "      <td>FC Barcelona</td>\n",
       "      <td>...</td>\n",
       "      <td>85.0</td>\n",
       "      <td>62.0</td>\n",
       "      <td>45.0</td>\n",
       "      <td>38.0</td>\n",
       "      <td>27.0</td>\n",
       "      <td>25.0</td>\n",
       "      <td>31.0</td>\n",
       "      <td>33.0</td>\n",
       "      <td>37.0</td>\n",
       "      <td>€164M</td>\n",
       "    </tr>\n",
       "    <tr>\n",
       "      <th>8</th>\n",
       "      <td>8</td>\n",
       "      <td>155862</td>\n",
       "      <td>Sergio Ramos</td>\n",
       "      <td>32</td>\n",
       "      <td>https://cdn.sofifa.org/players/4/19/155862.png</td>\n",
       "      <td>Spain</td>\n",
       "      <td>https://cdn.sofifa.org/flags/45.png</td>\n",
       "      <td>91</td>\n",
       "      <td>91</td>\n",
       "      <td>Real Madrid</td>\n",
       "      <td>...</td>\n",
       "      <td>82.0</td>\n",
       "      <td>87.0</td>\n",
       "      <td>92.0</td>\n",
       "      <td>91.0</td>\n",
       "      <td>11.0</td>\n",
       "      <td>8.0</td>\n",
       "      <td>9.0</td>\n",
       "      <td>7.0</td>\n",
       "      <td>11.0</td>\n",
       "      <td>€104.6M</td>\n",
       "    </tr>\n",
       "    <tr>\n",
       "      <th>9</th>\n",
       "      <td>9</td>\n",
       "      <td>200389</td>\n",
       "      <td>J. Oblak</td>\n",
       "      <td>25</td>\n",
       "      <td>https://cdn.sofifa.org/players/4/19/200389.png</td>\n",
       "      <td>Slovenia</td>\n",
       "      <td>https://cdn.sofifa.org/flags/44.png</td>\n",
       "      <td>90</td>\n",
       "      <td>93</td>\n",
       "      <td>Atlético Madrid</td>\n",
       "      <td>...</td>\n",
       "      <td>70.0</td>\n",
       "      <td>27.0</td>\n",
       "      <td>12.0</td>\n",
       "      <td>18.0</td>\n",
       "      <td>86.0</td>\n",
       "      <td>92.0</td>\n",
       "      <td>78.0</td>\n",
       "      <td>88.0</td>\n",
       "      <td>89.0</td>\n",
       "      <td>€144.5M</td>\n",
       "    </tr>\n",
       "    <tr>\n",
       "      <th>10</th>\n",
       "      <td>10</td>\n",
       "      <td>188545</td>\n",
       "      <td>R. Lewandowski</td>\n",
       "      <td>29</td>\n",
       "      <td>https://cdn.sofifa.org/players/4/19/188545.png</td>\n",
       "      <td>Poland</td>\n",
       "      <td>https://cdn.sofifa.org/flags/37.png</td>\n",
       "      <td>90</td>\n",
       "      <td>90</td>\n",
       "      <td>FC Bayern München</td>\n",
       "      <td>...</td>\n",
       "      <td>86.0</td>\n",
       "      <td>34.0</td>\n",
       "      <td>42.0</td>\n",
       "      <td>19.0</td>\n",
       "      <td>15.0</td>\n",
       "      <td>6.0</td>\n",
       "      <td>12.0</td>\n",
       "      <td>8.0</td>\n",
       "      <td>10.0</td>\n",
       "      <td>€127.1M</td>\n",
       "    </tr>\n",
       "    <tr>\n",
       "      <th>11</th>\n",
       "      <td>11</td>\n",
       "      <td>182521</td>\n",
       "      <td>T. Kroos</td>\n",
       "      <td>28</td>\n",
       "      <td>https://cdn.sofifa.org/players/4/19/182521.png</td>\n",
       "      <td>Germany</td>\n",
       "      <td>https://cdn.sofifa.org/flags/21.png</td>\n",
       "      <td>90</td>\n",
       "      <td>90</td>\n",
       "      <td>Real Madrid</td>\n",
       "      <td>...</td>\n",
       "      <td>85.0</td>\n",
       "      <td>72.0</td>\n",
       "      <td>79.0</td>\n",
       "      <td>69.0</td>\n",
       "      <td>10.0</td>\n",
       "      <td>11.0</td>\n",
       "      <td>13.0</td>\n",
       "      <td>7.0</td>\n",
       "      <td>10.0</td>\n",
       "      <td>€156.8M</td>\n",
       "    </tr>\n",
       "    <tr>\n",
       "      <th>12</th>\n",
       "      <td>12</td>\n",
       "      <td>182493</td>\n",
       "      <td>D. Godín</td>\n",
       "      <td>32</td>\n",
       "      <td>https://cdn.sofifa.org/players/4/19/182493.png</td>\n",
       "      <td>Uruguay</td>\n",
       "      <td>https://cdn.sofifa.org/flags/60.png</td>\n",
       "      <td>90</td>\n",
       "      <td>90</td>\n",
       "      <td>Atlético Madrid</td>\n",
       "      <td>...</td>\n",
       "      <td>82.0</td>\n",
       "      <td>90.0</td>\n",
       "      <td>89.0</td>\n",
       "      <td>89.0</td>\n",
       "      <td>6.0</td>\n",
       "      <td>8.0</td>\n",
       "      <td>15.0</td>\n",
       "      <td>5.0</td>\n",
       "      <td>15.0</td>\n",
       "      <td>€90.2M</td>\n",
       "    </tr>\n",
       "    <tr>\n",
       "      <th>13</th>\n",
       "      <td>13</td>\n",
       "      <td>168542</td>\n",
       "      <td>David Silva</td>\n",
       "      <td>32</td>\n",
       "      <td>https://cdn.sofifa.org/players/4/19/168542.png</td>\n",
       "      <td>Spain</td>\n",
       "      <td>https://cdn.sofifa.org/flags/45.png</td>\n",
       "      <td>90</td>\n",
       "      <td>90</td>\n",
       "      <td>Manchester City</td>\n",
       "      <td>...</td>\n",
       "      <td>93.0</td>\n",
       "      <td>59.0</td>\n",
       "      <td>53.0</td>\n",
       "      <td>29.0</td>\n",
       "      <td>6.0</td>\n",
       "      <td>15.0</td>\n",
       "      <td>7.0</td>\n",
       "      <td>6.0</td>\n",
       "      <td>12.0</td>\n",
       "      <td>€111M</td>\n",
       "    </tr>\n",
       "    <tr>\n",
       "      <th>14</th>\n",
       "      <td>14</td>\n",
       "      <td>215914</td>\n",
       "      <td>N. Kanté</td>\n",
       "      <td>27</td>\n",
       "      <td>https://cdn.sofifa.org/players/4/19/215914.png</td>\n",
       "      <td>France</td>\n",
       "      <td>https://cdn.sofifa.org/flags/18.png</td>\n",
       "      <td>89</td>\n",
       "      <td>90</td>\n",
       "      <td>Chelsea</td>\n",
       "      <td>...</td>\n",
       "      <td>85.0</td>\n",
       "      <td>90.0</td>\n",
       "      <td>91.0</td>\n",
       "      <td>85.0</td>\n",
       "      <td>15.0</td>\n",
       "      <td>12.0</td>\n",
       "      <td>10.0</td>\n",
       "      <td>7.0</td>\n",
       "      <td>10.0</td>\n",
       "      <td>€121.3M</td>\n",
       "    </tr>\n",
       "    <tr>\n",
       "      <th>15</th>\n",
       "      <td>15</td>\n",
       "      <td>211110</td>\n",
       "      <td>P. Dybala</td>\n",
       "      <td>24</td>\n",
       "      <td>https://cdn.sofifa.org/players/4/19/211110.png</td>\n",
       "      <td>Argentina</td>\n",
       "      <td>https://cdn.sofifa.org/flags/52.png</td>\n",
       "      <td>89</td>\n",
       "      <td>94</td>\n",
       "      <td>Juventus</td>\n",
       "      <td>...</td>\n",
       "      <td>84.0</td>\n",
       "      <td>23.0</td>\n",
       "      <td>20.0</td>\n",
       "      <td>20.0</td>\n",
       "      <td>5.0</td>\n",
       "      <td>4.0</td>\n",
       "      <td>4.0</td>\n",
       "      <td>5.0</td>\n",
       "      <td>8.0</td>\n",
       "      <td>€153.5M</td>\n",
       "    </tr>\n",
       "    <tr>\n",
       "      <th>16</th>\n",
       "      <td>16</td>\n",
       "      <td>202126</td>\n",
       "      <td>H. Kane</td>\n",
       "      <td>24</td>\n",
       "      <td>https://cdn.sofifa.org/players/4/19/202126.png</td>\n",
       "      <td>England</td>\n",
       "      <td>https://cdn.sofifa.org/flags/14.png</td>\n",
       "      <td>89</td>\n",
       "      <td>91</td>\n",
       "      <td>Tottenham Hotspur</td>\n",
       "      <td>...</td>\n",
       "      <td>89.0</td>\n",
       "      <td>56.0</td>\n",
       "      <td>36.0</td>\n",
       "      <td>38.0</td>\n",
       "      <td>8.0</td>\n",
       "      <td>10.0</td>\n",
       "      <td>11.0</td>\n",
       "      <td>14.0</td>\n",
       "      <td>11.0</td>\n",
       "      <td>€160.7M</td>\n",
       "    </tr>\n",
       "    <tr>\n",
       "      <th>17</th>\n",
       "      <td>17</td>\n",
       "      <td>194765</td>\n",
       "      <td>A. Griezmann</td>\n",
       "      <td>27</td>\n",
       "      <td>https://cdn.sofifa.org/players/4/19/194765.png</td>\n",
       "      <td>France</td>\n",
       "      <td>https://cdn.sofifa.org/flags/18.png</td>\n",
       "      <td>89</td>\n",
       "      <td>90</td>\n",
       "      <td>Atlético Madrid</td>\n",
       "      <td>...</td>\n",
       "      <td>87.0</td>\n",
       "      <td>59.0</td>\n",
       "      <td>47.0</td>\n",
       "      <td>48.0</td>\n",
       "      <td>14.0</td>\n",
       "      <td>8.0</td>\n",
       "      <td>14.0</td>\n",
       "      <td>13.0</td>\n",
       "      <td>14.0</td>\n",
       "      <td>€165.8M</td>\n",
       "    </tr>\n",
       "    <tr>\n",
       "      <th>18</th>\n",
       "      <td>18</td>\n",
       "      <td>192448</td>\n",
       "      <td>M. ter Stegen</td>\n",
       "      <td>26</td>\n",
       "      <td>https://cdn.sofifa.org/players/4/19/192448.png</td>\n",
       "      <td>Germany</td>\n",
       "      <td>https://cdn.sofifa.org/flags/21.png</td>\n",
       "      <td>89</td>\n",
       "      <td>92</td>\n",
       "      <td>FC Barcelona</td>\n",
       "      <td>...</td>\n",
       "      <td>69.0</td>\n",
       "      <td>25.0</td>\n",
       "      <td>13.0</td>\n",
       "      <td>10.0</td>\n",
       "      <td>87.0</td>\n",
       "      <td>85.0</td>\n",
       "      <td>88.0</td>\n",
       "      <td>85.0</td>\n",
       "      <td>90.0</td>\n",
       "      <td>€123.3M</td>\n",
       "    </tr>\n",
       "    <tr>\n",
       "      <th>19</th>\n",
       "      <td>19</td>\n",
       "      <td>192119</td>\n",
       "      <td>T. Courtois</td>\n",
       "      <td>26</td>\n",
       "      <td>https://cdn.sofifa.org/players/4/19/192119.png</td>\n",
       "      <td>Belgium</td>\n",
       "      <td>https://cdn.sofifa.org/flags/7.png</td>\n",
       "      <td>89</td>\n",
       "      <td>90</td>\n",
       "      <td>Real Madrid</td>\n",
       "      <td>...</td>\n",
       "      <td>66.0</td>\n",
       "      <td>20.0</td>\n",
       "      <td>18.0</td>\n",
       "      <td>16.0</td>\n",
       "      <td>85.0</td>\n",
       "      <td>91.0</td>\n",
       "      <td>72.0</td>\n",
       "      <td>86.0</td>\n",
       "      <td>88.0</td>\n",
       "      <td>€113.7M</td>\n",
       "    </tr>\n",
       "    <tr>\n",
       "      <th>20</th>\n",
       "      <td>20</td>\n",
       "      <td>189511</td>\n",
       "      <td>Sergio Busquets</td>\n",
       "      <td>29</td>\n",
       "      <td>https://cdn.sofifa.org/players/4/19/189511.png</td>\n",
       "      <td>Spain</td>\n",
       "      <td>https://cdn.sofifa.org/flags/45.png</td>\n",
       "      <td>89</td>\n",
       "      <td>89</td>\n",
       "      <td>FC Barcelona</td>\n",
       "      <td>...</td>\n",
       "      <td>90.0</td>\n",
       "      <td>90.0</td>\n",
       "      <td>86.0</td>\n",
       "      <td>80.0</td>\n",
       "      <td>5.0</td>\n",
       "      <td>8.0</td>\n",
       "      <td>13.0</td>\n",
       "      <td>9.0</td>\n",
       "      <td>13.0</td>\n",
       "      <td>€105.6M</td>\n",
       "    </tr>\n",
       "    <tr>\n",
       "      <th>21</th>\n",
       "      <td>21</td>\n",
       "      <td>179813</td>\n",
       "      <td>E. Cavani</td>\n",
       "      <td>31</td>\n",
       "      <td>https://cdn.sofifa.org/players/4/19/179813.png</td>\n",
       "      <td>Uruguay</td>\n",
       "      <td>https://cdn.sofifa.org/flags/60.png</td>\n",
       "      <td>89</td>\n",
       "      <td>89</td>\n",
       "      <td>Paris Saint-Germain</td>\n",
       "      <td>...</td>\n",
       "      <td>82.0</td>\n",
       "      <td>52.0</td>\n",
       "      <td>45.0</td>\n",
       "      <td>39.0</td>\n",
       "      <td>12.0</td>\n",
       "      <td>5.0</td>\n",
       "      <td>13.0</td>\n",
       "      <td>13.0</td>\n",
       "      <td>10.0</td>\n",
       "      <td>€111M</td>\n",
       "    </tr>\n",
       "    <tr>\n",
       "      <th>22</th>\n",
       "      <td>22</td>\n",
       "      <td>167495</td>\n",
       "      <td>M. Neuer</td>\n",
       "      <td>32</td>\n",
       "      <td>https://cdn.sofifa.org/players/4/19/167495.png</td>\n",
       "      <td>Germany</td>\n",
       "      <td>https://cdn.sofifa.org/flags/21.png</td>\n",
       "      <td>89</td>\n",
       "      <td>89</td>\n",
       "      <td>FC Bayern München</td>\n",
       "      <td>...</td>\n",
       "      <td>70.0</td>\n",
       "      <td>17.0</td>\n",
       "      <td>10.0</td>\n",
       "      <td>11.0</td>\n",
       "      <td>90.0</td>\n",
       "      <td>86.0</td>\n",
       "      <td>91.0</td>\n",
       "      <td>87.0</td>\n",
       "      <td>87.0</td>\n",
       "      <td>€62.7M</td>\n",
       "    </tr>\n",
       "    <tr>\n",
       "      <th>23</th>\n",
       "      <td>23</td>\n",
       "      <td>153079</td>\n",
       "      <td>S. Agüero</td>\n",
       "      <td>30</td>\n",
       "      <td>https://cdn.sofifa.org/players/4/19/153079.png</td>\n",
       "      <td>Argentina</td>\n",
       "      <td>https://cdn.sofifa.org/flags/52.png</td>\n",
       "      <td>89</td>\n",
       "      <td>89</td>\n",
       "      <td>Manchester City</td>\n",
       "      <td>...</td>\n",
       "      <td>90.0</td>\n",
       "      <td>30.0</td>\n",
       "      <td>20.0</td>\n",
       "      <td>12.0</td>\n",
       "      <td>13.0</td>\n",
       "      <td>15.0</td>\n",
       "      <td>6.0</td>\n",
       "      <td>11.0</td>\n",
       "      <td>14.0</td>\n",
       "      <td>€119.3M</td>\n",
       "    </tr>\n",
       "    <tr>\n",
       "      <th>24</th>\n",
       "      <td>24</td>\n",
       "      <td>138956</td>\n",
       "      <td>G. Chiellini</td>\n",
       "      <td>33</td>\n",
       "      <td>https://cdn.sofifa.org/players/4/19/138956.png</td>\n",
       "      <td>Italy</td>\n",
       "      <td>https://cdn.sofifa.org/flags/27.png</td>\n",
       "      <td>89</td>\n",
       "      <td>89</td>\n",
       "      <td>Juventus</td>\n",
       "      <td>...</td>\n",
       "      <td>84.0</td>\n",
       "      <td>93.0</td>\n",
       "      <td>93.0</td>\n",
       "      <td>90.0</td>\n",
       "      <td>3.0</td>\n",
       "      <td>3.0</td>\n",
       "      <td>2.0</td>\n",
       "      <td>4.0</td>\n",
       "      <td>3.0</td>\n",
       "      <td>€44.6M</td>\n",
       "    </tr>\n",
       "    <tr>\n",
       "      <th>25</th>\n",
       "      <td>25</td>\n",
       "      <td>231747</td>\n",
       "      <td>K. Mbappé</td>\n",
       "      <td>19</td>\n",
       "      <td>https://cdn.sofifa.org/players/4/19/231747.png</td>\n",
       "      <td>France</td>\n",
       "      <td>https://cdn.sofifa.org/flags/18.png</td>\n",
       "      <td>88</td>\n",
       "      <td>95</td>\n",
       "      <td>Paris Saint-Germain</td>\n",
       "      <td>...</td>\n",
       "      <td>86.0</td>\n",
       "      <td>34.0</td>\n",
       "      <td>34.0</td>\n",
       "      <td>32.0</td>\n",
       "      <td>13.0</td>\n",
       "      <td>5.0</td>\n",
       "      <td>7.0</td>\n",
       "      <td>11.0</td>\n",
       "      <td>6.0</td>\n",
       "      <td>€166.1M</td>\n",
       "    </tr>\n",
       "    <tr>\n",
       "      <th>26</th>\n",
       "      <td>26</td>\n",
       "      <td>209331</td>\n",
       "      <td>M. Salah</td>\n",
       "      <td>26</td>\n",
       "      <td>https://cdn.sofifa.org/players/4/19/209331.png</td>\n",
       "      <td>Egypt</td>\n",
       "      <td>https://cdn.sofifa.org/flags/111.png</td>\n",
       "      <td>88</td>\n",
       "      <td>89</td>\n",
       "      <td>Liverpool</td>\n",
       "      <td>...</td>\n",
       "      <td>91.0</td>\n",
       "      <td>38.0</td>\n",
       "      <td>43.0</td>\n",
       "      <td>41.0</td>\n",
       "      <td>14.0</td>\n",
       "      <td>14.0</td>\n",
       "      <td>9.0</td>\n",
       "      <td>11.0</td>\n",
       "      <td>14.0</td>\n",
       "      <td>€137.3M</td>\n",
       "    </tr>\n",
       "    <tr>\n",
       "      <th>27</th>\n",
       "      <td>27</td>\n",
       "      <td>200145</td>\n",
       "      <td>Casemiro</td>\n",
       "      <td>26</td>\n",
       "      <td>https://cdn.sofifa.org/players/4/19/200145.png</td>\n",
       "      <td>Brazil</td>\n",
       "      <td>https://cdn.sofifa.org/flags/54.png</td>\n",
       "      <td>88</td>\n",
       "      <td>90</td>\n",
       "      <td>Real Madrid</td>\n",
       "      <td>...</td>\n",
       "      <td>84.0</td>\n",
       "      <td>88.0</td>\n",
       "      <td>90.0</td>\n",
       "      <td>87.0</td>\n",
       "      <td>13.0</td>\n",
       "      <td>14.0</td>\n",
       "      <td>16.0</td>\n",
       "      <td>12.0</td>\n",
       "      <td>12.0</td>\n",
       "      <td>€126.4M</td>\n",
       "    </tr>\n",
       "    <tr>\n",
       "      <th>28</th>\n",
       "      <td>28</td>\n",
       "      <td>198710</td>\n",
       "      <td>J. Rodríguez</td>\n",
       "      <td>26</td>\n",
       "      <td>https://cdn.sofifa.org/players/4/19/198710.png</td>\n",
       "      <td>Colombia</td>\n",
       "      <td>https://cdn.sofifa.org/flags/56.png</td>\n",
       "      <td>88</td>\n",
       "      <td>89</td>\n",
       "      <td>FC Bayern München</td>\n",
       "      <td>...</td>\n",
       "      <td>87.0</td>\n",
       "      <td>52.0</td>\n",
       "      <td>41.0</td>\n",
       "      <td>44.0</td>\n",
       "      <td>15.0</td>\n",
       "      <td>15.0</td>\n",
       "      <td>15.0</td>\n",
       "      <td>5.0</td>\n",
       "      <td>14.0</td>\n",
       "      <td>NaN</td>\n",
       "    </tr>\n",
       "    <tr>\n",
       "      <th>29</th>\n",
       "      <td>29</td>\n",
       "      <td>198219</td>\n",
       "      <td>L. Insigne</td>\n",
       "      <td>27</td>\n",
       "      <td>https://cdn.sofifa.org/players/4/19/198219.png</td>\n",
       "      <td>Italy</td>\n",
       "      <td>https://cdn.sofifa.org/flags/27.png</td>\n",
       "      <td>88</td>\n",
       "      <td>88</td>\n",
       "      <td>Napoli</td>\n",
       "      <td>...</td>\n",
       "      <td>83.0</td>\n",
       "      <td>51.0</td>\n",
       "      <td>24.0</td>\n",
       "      <td>22.0</td>\n",
       "      <td>8.0</td>\n",
       "      <td>4.0</td>\n",
       "      <td>14.0</td>\n",
       "      <td>9.0</td>\n",
       "      <td>10.0</td>\n",
       "      <td>€105.4M</td>\n",
       "    </tr>\n",
       "    <tr>\n",
       "      <th>...</th>\n",
       "      <td>...</td>\n",
       "      <td>...</td>\n",
       "      <td>...</td>\n",
       "      <td>...</td>\n",
       "      <td>...</td>\n",
       "      <td>...</td>\n",
       "      <td>...</td>\n",
       "      <td>...</td>\n",
       "      <td>...</td>\n",
       "      <td>...</td>\n",
       "      <td>...</td>\n",
       "      <td>...</td>\n",
       "      <td>...</td>\n",
       "      <td>...</td>\n",
       "      <td>...</td>\n",
       "      <td>...</td>\n",
       "      <td>...</td>\n",
       "      <td>...</td>\n",
       "      <td>...</td>\n",
       "      <td>...</td>\n",
       "      <td>...</td>\n",
       "    </tr>\n",
       "    <tr>\n",
       "      <th>18177</th>\n",
       "      <td>18177</td>\n",
       "      <td>238550</td>\n",
       "      <td>R. Roache</td>\n",
       "      <td>18</td>\n",
       "      <td>https://cdn.sofifa.org/players/4/19/238550.png</td>\n",
       "      <td>Republic of Ireland</td>\n",
       "      <td>https://cdn.sofifa.org/flags/25.png</td>\n",
       "      <td>48</td>\n",
       "      <td>69</td>\n",
       "      <td>Blackpool</td>\n",
       "      <td>...</td>\n",
       "      <td>49.0</td>\n",
       "      <td>18.0</td>\n",
       "      <td>16.0</td>\n",
       "      <td>11.0</td>\n",
       "      <td>6.0</td>\n",
       "      <td>9.0</td>\n",
       "      <td>11.0</td>\n",
       "      <td>7.0</td>\n",
       "      <td>12.0</td>\n",
       "      <td>€193K</td>\n",
       "    </tr>\n",
       "    <tr>\n",
       "      <th>18178</th>\n",
       "      <td>18178</td>\n",
       "      <td>243158</td>\n",
       "      <td>L. Wahlstedt</td>\n",
       "      <td>18</td>\n",
       "      <td>https://cdn.sofifa.org/players/4/19/243158.png</td>\n",
       "      <td>Sweden</td>\n",
       "      <td>https://cdn.sofifa.org/flags/46.png</td>\n",
       "      <td>48</td>\n",
       "      <td>65</td>\n",
       "      <td>Dalkurd FF</td>\n",
       "      <td>...</td>\n",
       "      <td>28.0</td>\n",
       "      <td>16.0</td>\n",
       "      <td>11.0</td>\n",
       "      <td>10.0</td>\n",
       "      <td>47.0</td>\n",
       "      <td>46.0</td>\n",
       "      <td>50.0</td>\n",
       "      <td>45.0</td>\n",
       "      <td>51.0</td>\n",
       "      <td>€94K</td>\n",
       "    </tr>\n",
       "    <tr>\n",
       "      <th>18179</th>\n",
       "      <td>18179</td>\n",
       "      <td>246243</td>\n",
       "      <td>J. Williams</td>\n",
       "      <td>17</td>\n",
       "      <td>https://cdn.sofifa.org/players/4/19/246243.png</td>\n",
       "      <td>England</td>\n",
       "      <td>https://cdn.sofifa.org/flags/14.png</td>\n",
       "      <td>48</td>\n",
       "      <td>64</td>\n",
       "      <td>Northampton Town</td>\n",
       "      <td>...</td>\n",
       "      <td>37.0</td>\n",
       "      <td>42.0</td>\n",
       "      <td>51.0</td>\n",
       "      <td>49.0</td>\n",
       "      <td>14.0</td>\n",
       "      <td>11.0</td>\n",
       "      <td>7.0</td>\n",
       "      <td>11.0</td>\n",
       "      <td>8.0</td>\n",
       "      <td>€119K</td>\n",
       "    </tr>\n",
       "    <tr>\n",
       "      <th>18180</th>\n",
       "      <td>18180</td>\n",
       "      <td>221669</td>\n",
       "      <td>M. Hurst</td>\n",
       "      <td>22</td>\n",
       "      <td>https://cdn.sofifa.org/players/4/19/221669.png</td>\n",
       "      <td>Scotland</td>\n",
       "      <td>https://cdn.sofifa.org/flags/42.png</td>\n",
       "      <td>48</td>\n",
       "      <td>58</td>\n",
       "      <td>St. Johnstone FC</td>\n",
       "      <td>...</td>\n",
       "      <td>28.0</td>\n",
       "      <td>12.0</td>\n",
       "      <td>15.0</td>\n",
       "      <td>16.0</td>\n",
       "      <td>45.0</td>\n",
       "      <td>49.0</td>\n",
       "      <td>50.0</td>\n",
       "      <td>50.0</td>\n",
       "      <td>45.0</td>\n",
       "      <td>€78K</td>\n",
       "    </tr>\n",
       "    <tr>\n",
       "      <th>18181</th>\n",
       "      <td>18181</td>\n",
       "      <td>245734</td>\n",
       "      <td>C. Maher</td>\n",
       "      <td>17</td>\n",
       "      <td>https://cdn.sofifa.org/players/4/19/245734.png</td>\n",
       "      <td>Republic of Ireland</td>\n",
       "      <td>https://cdn.sofifa.org/flags/25.png</td>\n",
       "      <td>48</td>\n",
       "      <td>66</td>\n",
       "      <td>Bray Wanderers</td>\n",
       "      <td>...</td>\n",
       "      <td>38.0</td>\n",
       "      <td>43.0</td>\n",
       "      <td>49.0</td>\n",
       "      <td>45.0</td>\n",
       "      <td>8.0</td>\n",
       "      <td>10.0</td>\n",
       "      <td>12.0</td>\n",
       "      <td>9.0</td>\n",
       "      <td>10.0</td>\n",
       "      <td>€109K</td>\n",
       "    </tr>\n",
       "    <tr>\n",
       "      <th>18182</th>\n",
       "      <td>18182</td>\n",
       "      <td>246001</td>\n",
       "      <td>Y. Góez</td>\n",
       "      <td>18</td>\n",
       "      <td>https://cdn.sofifa.org/players/4/19/246001.png</td>\n",
       "      <td>Colombia</td>\n",
       "      <td>https://cdn.sofifa.org/flags/56.png</td>\n",
       "      <td>48</td>\n",
       "      <td>65</td>\n",
       "      <td>Atlético Nacional</td>\n",
       "      <td>...</td>\n",
       "      <td>38.0</td>\n",
       "      <td>44.0</td>\n",
       "      <td>42.0</td>\n",
       "      <td>46.0</td>\n",
       "      <td>9.0</td>\n",
       "      <td>15.0</td>\n",
       "      <td>15.0</td>\n",
       "      <td>8.0</td>\n",
       "      <td>6.0</td>\n",
       "      <td>€101K</td>\n",
       "    </tr>\n",
       "    <tr>\n",
       "      <th>18183</th>\n",
       "      <td>18183</td>\n",
       "      <td>53748</td>\n",
       "      <td>K. Pilkington</td>\n",
       "      <td>44</td>\n",
       "      <td>https://cdn.sofifa.org/players/4/19/53748.png</td>\n",
       "      <td>England</td>\n",
       "      <td>https://cdn.sofifa.org/flags/14.png</td>\n",
       "      <td>48</td>\n",
       "      <td>48</td>\n",
       "      <td>Cambridge United</td>\n",
       "      <td>...</td>\n",
       "      <td>56.0</td>\n",
       "      <td>15.0</td>\n",
       "      <td>15.0</td>\n",
       "      <td>13.0</td>\n",
       "      <td>45.0</td>\n",
       "      <td>48.0</td>\n",
       "      <td>44.0</td>\n",
       "      <td>49.0</td>\n",
       "      <td>46.0</td>\n",
       "      <td>NaN</td>\n",
       "    </tr>\n",
       "    <tr>\n",
       "      <th>18184</th>\n",
       "      <td>18184</td>\n",
       "      <td>241657</td>\n",
       "      <td>D. Horton</td>\n",
       "      <td>18</td>\n",
       "      <td>https://cdn.sofifa.org/players/4/19/241657.png</td>\n",
       "      <td>England</td>\n",
       "      <td>https://cdn.sofifa.org/flags/14.png</td>\n",
       "      <td>48</td>\n",
       "      <td>55</td>\n",
       "      <td>Lincoln City</td>\n",
       "      <td>...</td>\n",
       "      <td>42.0</td>\n",
       "      <td>47.0</td>\n",
       "      <td>49.0</td>\n",
       "      <td>53.0</td>\n",
       "      <td>12.0</td>\n",
       "      <td>5.0</td>\n",
       "      <td>12.0</td>\n",
       "      <td>14.0</td>\n",
       "      <td>15.0</td>\n",
       "      <td>€78K</td>\n",
       "    </tr>\n",
       "    <tr>\n",
       "      <th>18185</th>\n",
       "      <td>18185</td>\n",
       "      <td>243961</td>\n",
       "      <td>E. Tweed</td>\n",
       "      <td>19</td>\n",
       "      <td>https://cdn.sofifa.org/players/4/19/243961.png</td>\n",
       "      <td>Republic of Ireland</td>\n",
       "      <td>https://cdn.sofifa.org/flags/25.png</td>\n",
       "      <td>48</td>\n",
       "      <td>59</td>\n",
       "      <td>Derry City</td>\n",
       "      <td>...</td>\n",
       "      <td>43.0</td>\n",
       "      <td>39.0</td>\n",
       "      <td>39.0</td>\n",
       "      <td>48.0</td>\n",
       "      <td>6.0</td>\n",
       "      <td>11.0</td>\n",
       "      <td>9.0</td>\n",
       "      <td>5.0</td>\n",
       "      <td>8.0</td>\n",
       "      <td>€88K</td>\n",
       "    </tr>\n",
       "    <tr>\n",
       "      <th>18186</th>\n",
       "      <td>18186</td>\n",
       "      <td>240917</td>\n",
       "      <td>Zhang Yufeng</td>\n",
       "      <td>20</td>\n",
       "      <td>https://cdn.sofifa.org/players/4/19/240917.png</td>\n",
       "      <td>China PR</td>\n",
       "      <td>https://cdn.sofifa.org/flags/155.png</td>\n",
       "      <td>47</td>\n",
       "      <td>64</td>\n",
       "      <td>Beijing Renhe FC</td>\n",
       "      <td>...</td>\n",
       "      <td>39.0</td>\n",
       "      <td>53.0</td>\n",
       "      <td>41.0</td>\n",
       "      <td>51.0</td>\n",
       "      <td>15.0</td>\n",
       "      <td>7.0</td>\n",
       "      <td>14.0</td>\n",
       "      <td>6.0</td>\n",
       "      <td>8.0</td>\n",
       "      <td>€167K</td>\n",
       "    </tr>\n",
       "    <tr>\n",
       "      <th>18187</th>\n",
       "      <td>18187</td>\n",
       "      <td>240158</td>\n",
       "      <td>C. Ehlich</td>\n",
       "      <td>19</td>\n",
       "      <td>https://cdn.sofifa.org/players/4/19/240158.png</td>\n",
       "      <td>Germany</td>\n",
       "      <td>https://cdn.sofifa.org/flags/21.png</td>\n",
       "      <td>47</td>\n",
       "      <td>59</td>\n",
       "      <td>SpVgg Unterhaching</td>\n",
       "      <td>...</td>\n",
       "      <td>47.0</td>\n",
       "      <td>40.0</td>\n",
       "      <td>42.0</td>\n",
       "      <td>42.0</td>\n",
       "      <td>13.0</td>\n",
       "      <td>12.0</td>\n",
       "      <td>11.0</td>\n",
       "      <td>15.0</td>\n",
       "      <td>12.0</td>\n",
       "      <td>€66K</td>\n",
       "    </tr>\n",
       "    <tr>\n",
       "      <th>18188</th>\n",
       "      <td>18188</td>\n",
       "      <td>240927</td>\n",
       "      <td>L. Collins</td>\n",
       "      <td>17</td>\n",
       "      <td>https://cdn.sofifa.org/players/4/19/240927.png</td>\n",
       "      <td>Wales</td>\n",
       "      <td>https://cdn.sofifa.org/flags/50.png</td>\n",
       "      <td>47</td>\n",
       "      <td>62</td>\n",
       "      <td>Newport County</td>\n",
       "      <td>...</td>\n",
       "      <td>46.0</td>\n",
       "      <td>33.0</td>\n",
       "      <td>38.0</td>\n",
       "      <td>41.0</td>\n",
       "      <td>5.0</td>\n",
       "      <td>12.0</td>\n",
       "      <td>8.0</td>\n",
       "      <td>13.0</td>\n",
       "      <td>10.0</td>\n",
       "      <td>€143K</td>\n",
       "    </tr>\n",
       "    <tr>\n",
       "      <th>18189</th>\n",
       "      <td>18189</td>\n",
       "      <td>240160</td>\n",
       "      <td>A. Kaltner</td>\n",
       "      <td>18</td>\n",
       "      <td>https://cdn.sofifa.org/players/4/19/240160.png</td>\n",
       "      <td>Germany</td>\n",
       "      <td>https://cdn.sofifa.org/flags/21.png</td>\n",
       "      <td>47</td>\n",
       "      <td>61</td>\n",
       "      <td>SpVgg Unterhaching</td>\n",
       "      <td>...</td>\n",
       "      <td>37.0</td>\n",
       "      <td>28.0</td>\n",
       "      <td>15.0</td>\n",
       "      <td>22.0</td>\n",
       "      <td>15.0</td>\n",
       "      <td>5.0</td>\n",
       "      <td>14.0</td>\n",
       "      <td>12.0</td>\n",
       "      <td>8.0</td>\n",
       "      <td>€125K</td>\n",
       "    </tr>\n",
       "    <tr>\n",
       "      <th>18190</th>\n",
       "      <td>18190</td>\n",
       "      <td>245569</td>\n",
       "      <td>L. Watkins</td>\n",
       "      <td>18</td>\n",
       "      <td>https://cdn.sofifa.org/players/4/19/245569.png</td>\n",
       "      <td>England</td>\n",
       "      <td>https://cdn.sofifa.org/flags/14.png</td>\n",
       "      <td>47</td>\n",
       "      <td>67</td>\n",
       "      <td>Cambridge United</td>\n",
       "      <td>...</td>\n",
       "      <td>46.0</td>\n",
       "      <td>35.0</td>\n",
       "      <td>44.0</td>\n",
       "      <td>47.0</td>\n",
       "      <td>13.0</td>\n",
       "      <td>7.0</td>\n",
       "      <td>14.0</td>\n",
       "      <td>10.0</td>\n",
       "      <td>8.0</td>\n",
       "      <td>€165K</td>\n",
       "    </tr>\n",
       "    <tr>\n",
       "      <th>18191</th>\n",
       "      <td>18191</td>\n",
       "      <td>245570</td>\n",
       "      <td>J. Norville-Williams</td>\n",
       "      <td>18</td>\n",
       "      <td>https://cdn.sofifa.org/players/4/19/245570.png</td>\n",
       "      <td>England</td>\n",
       "      <td>https://cdn.sofifa.org/flags/14.png</td>\n",
       "      <td>47</td>\n",
       "      <td>65</td>\n",
       "      <td>Cambridge United</td>\n",
       "      <td>...</td>\n",
       "      <td>36.0</td>\n",
       "      <td>45.0</td>\n",
       "      <td>42.0</td>\n",
       "      <td>46.0</td>\n",
       "      <td>15.0</td>\n",
       "      <td>13.0</td>\n",
       "      <td>6.0</td>\n",
       "      <td>14.0</td>\n",
       "      <td>12.0</td>\n",
       "      <td>€119K</td>\n",
       "    </tr>\n",
       "    <tr>\n",
       "      <th>18192</th>\n",
       "      <td>18192</td>\n",
       "      <td>245571</td>\n",
       "      <td>S. Squire</td>\n",
       "      <td>18</td>\n",
       "      <td>https://cdn.sofifa.org/players/4/19/245571.png</td>\n",
       "      <td>England</td>\n",
       "      <td>https://cdn.sofifa.org/flags/14.png</td>\n",
       "      <td>47</td>\n",
       "      <td>64</td>\n",
       "      <td>Cambridge United</td>\n",
       "      <td>...</td>\n",
       "      <td>38.0</td>\n",
       "      <td>41.0</td>\n",
       "      <td>41.0</td>\n",
       "      <td>44.0</td>\n",
       "      <td>11.0</td>\n",
       "      <td>11.0</td>\n",
       "      <td>8.0</td>\n",
       "      <td>12.0</td>\n",
       "      <td>13.0</td>\n",
       "      <td>€119K</td>\n",
       "    </tr>\n",
       "    <tr>\n",
       "      <th>18193</th>\n",
       "      <td>18193</td>\n",
       "      <td>244823</td>\n",
       "      <td>N. Fuentes</td>\n",
       "      <td>18</td>\n",
       "      <td>https://cdn.sofifa.org/players/4/19/244823.png</td>\n",
       "      <td>Chile</td>\n",
       "      <td>https://cdn.sofifa.org/flags/55.png</td>\n",
       "      <td>47</td>\n",
       "      <td>64</td>\n",
       "      <td>Unión Española</td>\n",
       "      <td>...</td>\n",
       "      <td>32.0</td>\n",
       "      <td>41.0</td>\n",
       "      <td>48.0</td>\n",
       "      <td>48.0</td>\n",
       "      <td>6.0</td>\n",
       "      <td>10.0</td>\n",
       "      <td>6.0</td>\n",
       "      <td>12.0</td>\n",
       "      <td>11.0</td>\n",
       "      <td>€99K</td>\n",
       "    </tr>\n",
       "    <tr>\n",
       "      <th>18194</th>\n",
       "      <td>18194</td>\n",
       "      <td>245862</td>\n",
       "      <td>J. Milli</td>\n",
       "      <td>18</td>\n",
       "      <td>https://cdn.sofifa.org/players/4/19/245862.png</td>\n",
       "      <td>Italy</td>\n",
       "      <td>https://cdn.sofifa.org/flags/27.png</td>\n",
       "      <td>47</td>\n",
       "      <td>65</td>\n",
       "      <td>Lecce</td>\n",
       "      <td>...</td>\n",
       "      <td>23.0</td>\n",
       "      <td>6.0</td>\n",
       "      <td>10.0</td>\n",
       "      <td>11.0</td>\n",
       "      <td>52.0</td>\n",
       "      <td>52.0</td>\n",
       "      <td>52.0</td>\n",
       "      <td>40.0</td>\n",
       "      <td>44.0</td>\n",
       "      <td>€109K</td>\n",
       "    </tr>\n",
       "    <tr>\n",
       "      <th>18195</th>\n",
       "      <td>18195</td>\n",
       "      <td>243582</td>\n",
       "      <td>S. Griffin</td>\n",
       "      <td>18</td>\n",
       "      <td>https://cdn.sofifa.org/players/4/19/243582.png</td>\n",
       "      <td>Republic of Ireland</td>\n",
       "      <td>https://cdn.sofifa.org/flags/25.png</td>\n",
       "      <td>47</td>\n",
       "      <td>67</td>\n",
       "      <td>Waterford FC</td>\n",
       "      <td>...</td>\n",
       "      <td>41.0</td>\n",
       "      <td>44.0</td>\n",
       "      <td>37.0</td>\n",
       "      <td>48.0</td>\n",
       "      <td>13.0</td>\n",
       "      <td>14.0</td>\n",
       "      <td>12.0</td>\n",
       "      <td>7.0</td>\n",
       "      <td>13.0</td>\n",
       "      <td>€153K</td>\n",
       "    </tr>\n",
       "    <tr>\n",
       "      <th>18196</th>\n",
       "      <td>18196</td>\n",
       "      <td>238477</td>\n",
       "      <td>K. Fujikawa</td>\n",
       "      <td>19</td>\n",
       "      <td>https://cdn.sofifa.org/players/4/19/238477.png</td>\n",
       "      <td>Japan</td>\n",
       "      <td>https://cdn.sofifa.org/flags/163.png</td>\n",
       "      <td>47</td>\n",
       "      <td>61</td>\n",
       "      <td>Júbilo Iwata</td>\n",
       "      <td>...</td>\n",
       "      <td>35.0</td>\n",
       "      <td>41.0</td>\n",
       "      <td>44.0</td>\n",
       "      <td>54.0</td>\n",
       "      <td>10.0</td>\n",
       "      <td>12.0</td>\n",
       "      <td>6.0</td>\n",
       "      <td>11.0</td>\n",
       "      <td>8.0</td>\n",
       "      <td>€113K</td>\n",
       "    </tr>\n",
       "    <tr>\n",
       "      <th>18197</th>\n",
       "      <td>18197</td>\n",
       "      <td>246167</td>\n",
       "      <td>D. Holland</td>\n",
       "      <td>18</td>\n",
       "      <td>https://cdn.sofifa.org/players/4/19/246167.png</td>\n",
       "      <td>Republic of Ireland</td>\n",
       "      <td>https://cdn.sofifa.org/flags/25.png</td>\n",
       "      <td>47</td>\n",
       "      <td>61</td>\n",
       "      <td>Cork City</td>\n",
       "      <td>...</td>\n",
       "      <td>52.0</td>\n",
       "      <td>41.0</td>\n",
       "      <td>47.0</td>\n",
       "      <td>38.0</td>\n",
       "      <td>13.0</td>\n",
       "      <td>6.0</td>\n",
       "      <td>9.0</td>\n",
       "      <td>10.0</td>\n",
       "      <td>15.0</td>\n",
       "      <td>€88K</td>\n",
       "    </tr>\n",
       "    <tr>\n",
       "      <th>18198</th>\n",
       "      <td>18198</td>\n",
       "      <td>242844</td>\n",
       "      <td>J. Livesey</td>\n",
       "      <td>18</td>\n",
       "      <td>https://cdn.sofifa.org/players/4/19/242844.png</td>\n",
       "      <td>England</td>\n",
       "      <td>https://cdn.sofifa.org/flags/14.png</td>\n",
       "      <td>47</td>\n",
       "      <td>70</td>\n",
       "      <td>Burton Albion</td>\n",
       "      <td>...</td>\n",
       "      <td>34.0</td>\n",
       "      <td>15.0</td>\n",
       "      <td>11.0</td>\n",
       "      <td>13.0</td>\n",
       "      <td>46.0</td>\n",
       "      <td>52.0</td>\n",
       "      <td>58.0</td>\n",
       "      <td>42.0</td>\n",
       "      <td>48.0</td>\n",
       "      <td>€165K</td>\n",
       "    </tr>\n",
       "    <tr>\n",
       "      <th>18199</th>\n",
       "      <td>18199</td>\n",
       "      <td>244677</td>\n",
       "      <td>M. Baldisimo</td>\n",
       "      <td>18</td>\n",
       "      <td>https://cdn.sofifa.org/players/4/19/244677.png</td>\n",
       "      <td>Canada</td>\n",
       "      <td>https://cdn.sofifa.org/flags/70.png</td>\n",
       "      <td>47</td>\n",
       "      <td>69</td>\n",
       "      <td>Vancouver Whitecaps FC</td>\n",
       "      <td>...</td>\n",
       "      <td>40.0</td>\n",
       "      <td>48.0</td>\n",
       "      <td>49.0</td>\n",
       "      <td>49.0</td>\n",
       "      <td>7.0</td>\n",
       "      <td>7.0</td>\n",
       "      <td>9.0</td>\n",
       "      <td>14.0</td>\n",
       "      <td>15.0</td>\n",
       "      <td>€175K</td>\n",
       "    </tr>\n",
       "    <tr>\n",
       "      <th>18200</th>\n",
       "      <td>18200</td>\n",
       "      <td>231381</td>\n",
       "      <td>J. Young</td>\n",
       "      <td>18</td>\n",
       "      <td>https://cdn.sofifa.org/players/4/19/231381.png</td>\n",
       "      <td>Scotland</td>\n",
       "      <td>https://cdn.sofifa.org/flags/42.png</td>\n",
       "      <td>47</td>\n",
       "      <td>62</td>\n",
       "      <td>Swindon Town</td>\n",
       "      <td>...</td>\n",
       "      <td>50.0</td>\n",
       "      <td>15.0</td>\n",
       "      <td>17.0</td>\n",
       "      <td>14.0</td>\n",
       "      <td>11.0</td>\n",
       "      <td>15.0</td>\n",
       "      <td>12.0</td>\n",
       "      <td>12.0</td>\n",
       "      <td>11.0</td>\n",
       "      <td>€143K</td>\n",
       "    </tr>\n",
       "    <tr>\n",
       "      <th>18201</th>\n",
       "      <td>18201</td>\n",
       "      <td>243413</td>\n",
       "      <td>D. Walsh</td>\n",
       "      <td>18</td>\n",
       "      <td>https://cdn.sofifa.org/players/4/19/243413.png</td>\n",
       "      <td>Republic of Ireland</td>\n",
       "      <td>https://cdn.sofifa.org/flags/25.png</td>\n",
       "      <td>47</td>\n",
       "      <td>68</td>\n",
       "      <td>Waterford FC</td>\n",
       "      <td>...</td>\n",
       "      <td>43.0</td>\n",
       "      <td>44.0</td>\n",
       "      <td>47.0</td>\n",
       "      <td>53.0</td>\n",
       "      <td>9.0</td>\n",
       "      <td>10.0</td>\n",
       "      <td>9.0</td>\n",
       "      <td>11.0</td>\n",
       "      <td>13.0</td>\n",
       "      <td>€153K</td>\n",
       "    </tr>\n",
       "    <tr>\n",
       "      <th>18202</th>\n",
       "      <td>18202</td>\n",
       "      <td>238813</td>\n",
       "      <td>J. Lundstram</td>\n",
       "      <td>19</td>\n",
       "      <td>https://cdn.sofifa.org/players/4/19/238813.png</td>\n",
       "      <td>England</td>\n",
       "      <td>https://cdn.sofifa.org/flags/14.png</td>\n",
       "      <td>47</td>\n",
       "      <td>65</td>\n",
       "      <td>Crewe Alexandra</td>\n",
       "      <td>...</td>\n",
       "      <td>45.0</td>\n",
       "      <td>40.0</td>\n",
       "      <td>48.0</td>\n",
       "      <td>47.0</td>\n",
       "      <td>10.0</td>\n",
       "      <td>13.0</td>\n",
       "      <td>7.0</td>\n",
       "      <td>8.0</td>\n",
       "      <td>9.0</td>\n",
       "      <td>€143K</td>\n",
       "    </tr>\n",
       "    <tr>\n",
       "      <th>18203</th>\n",
       "      <td>18203</td>\n",
       "      <td>243165</td>\n",
       "      <td>N. Christoffersson</td>\n",
       "      <td>19</td>\n",
       "      <td>https://cdn.sofifa.org/players/4/19/243165.png</td>\n",
       "      <td>Sweden</td>\n",
       "      <td>https://cdn.sofifa.org/flags/46.png</td>\n",
       "      <td>47</td>\n",
       "      <td>63</td>\n",
       "      <td>Trelleborgs FF</td>\n",
       "      <td>...</td>\n",
       "      <td>42.0</td>\n",
       "      <td>22.0</td>\n",
       "      <td>15.0</td>\n",
       "      <td>19.0</td>\n",
       "      <td>10.0</td>\n",
       "      <td>9.0</td>\n",
       "      <td>9.0</td>\n",
       "      <td>5.0</td>\n",
       "      <td>12.0</td>\n",
       "      <td>€113K</td>\n",
       "    </tr>\n",
       "    <tr>\n",
       "      <th>18204</th>\n",
       "      <td>18204</td>\n",
       "      <td>241638</td>\n",
       "      <td>B. Worman</td>\n",
       "      <td>16</td>\n",
       "      <td>https://cdn.sofifa.org/players/4/19/241638.png</td>\n",
       "      <td>England</td>\n",
       "      <td>https://cdn.sofifa.org/flags/14.png</td>\n",
       "      <td>47</td>\n",
       "      <td>67</td>\n",
       "      <td>Cambridge United</td>\n",
       "      <td>...</td>\n",
       "      <td>41.0</td>\n",
       "      <td>32.0</td>\n",
       "      <td>13.0</td>\n",
       "      <td>11.0</td>\n",
       "      <td>6.0</td>\n",
       "      <td>5.0</td>\n",
       "      <td>10.0</td>\n",
       "      <td>6.0</td>\n",
       "      <td>13.0</td>\n",
       "      <td>€165K</td>\n",
       "    </tr>\n",
       "    <tr>\n",
       "      <th>18205</th>\n",
       "      <td>18205</td>\n",
       "      <td>246268</td>\n",
       "      <td>D. Walker-Rice</td>\n",
       "      <td>17</td>\n",
       "      <td>https://cdn.sofifa.org/players/4/19/246268.png</td>\n",
       "      <td>England</td>\n",
       "      <td>https://cdn.sofifa.org/flags/14.png</td>\n",
       "      <td>47</td>\n",
       "      <td>66</td>\n",
       "      <td>Tranmere Rovers</td>\n",
       "      <td>...</td>\n",
       "      <td>46.0</td>\n",
       "      <td>20.0</td>\n",
       "      <td>25.0</td>\n",
       "      <td>27.0</td>\n",
       "      <td>14.0</td>\n",
       "      <td>6.0</td>\n",
       "      <td>14.0</td>\n",
       "      <td>8.0</td>\n",
       "      <td>9.0</td>\n",
       "      <td>€143K</td>\n",
       "    </tr>\n",
       "    <tr>\n",
       "      <th>18206</th>\n",
       "      <td>18206</td>\n",
       "      <td>246269</td>\n",
       "      <td>G. Nugent</td>\n",
       "      <td>16</td>\n",
       "      <td>https://cdn.sofifa.org/players/4/19/246269.png</td>\n",
       "      <td>England</td>\n",
       "      <td>https://cdn.sofifa.org/flags/14.png</td>\n",
       "      <td>46</td>\n",
       "      <td>66</td>\n",
       "      <td>Tranmere Rovers</td>\n",
       "      <td>...</td>\n",
       "      <td>43.0</td>\n",
       "      <td>40.0</td>\n",
       "      <td>43.0</td>\n",
       "      <td>50.0</td>\n",
       "      <td>10.0</td>\n",
       "      <td>15.0</td>\n",
       "      <td>9.0</td>\n",
       "      <td>12.0</td>\n",
       "      <td>9.0</td>\n",
       "      <td>€165K</td>\n",
       "    </tr>\n",
       "  </tbody>\n",
       "</table>\n",
       "<p>18207 rows × 89 columns</p>\n",
       "</div>"
      ],
      "text/plain": [
       "       Unnamed: 0      ID                  Name  Age  \\\n",
       "0               0  158023              L. Messi   31   \n",
       "1               1   20801     Cristiano Ronaldo   33   \n",
       "2               2  190871             Neymar Jr   26   \n",
       "3               3  193080                De Gea   27   \n",
       "4               4  192985          K. De Bruyne   27   \n",
       "5               5  183277             E. Hazard   27   \n",
       "6               6  177003             L. Modrić   32   \n",
       "7               7  176580             L. Suárez   31   \n",
       "8               8  155862          Sergio Ramos   32   \n",
       "9               9  200389              J. Oblak   25   \n",
       "10             10  188545        R. Lewandowski   29   \n",
       "11             11  182521              T. Kroos   28   \n",
       "12             12  182493              D. Godín   32   \n",
       "13             13  168542           David Silva   32   \n",
       "14             14  215914              N. Kanté   27   \n",
       "15             15  211110             P. Dybala   24   \n",
       "16             16  202126               H. Kane   24   \n",
       "17             17  194765          A. Griezmann   27   \n",
       "18             18  192448         M. ter Stegen   26   \n",
       "19             19  192119           T. Courtois   26   \n",
       "20             20  189511       Sergio Busquets   29   \n",
       "21             21  179813             E. Cavani   31   \n",
       "22             22  167495              M. Neuer   32   \n",
       "23             23  153079             S. Agüero   30   \n",
       "24             24  138956          G. Chiellini   33   \n",
       "25             25  231747             K. Mbappé   19   \n",
       "26             26  209331              M. Salah   26   \n",
       "27             27  200145              Casemiro   26   \n",
       "28             28  198710          J. Rodríguez   26   \n",
       "29             29  198219            L. Insigne   27   \n",
       "...           ...     ...                   ...  ...   \n",
       "18177       18177  238550             R. Roache   18   \n",
       "18178       18178  243158          L. Wahlstedt   18   \n",
       "18179       18179  246243           J. Williams   17   \n",
       "18180       18180  221669              M. Hurst   22   \n",
       "18181       18181  245734              C. Maher   17   \n",
       "18182       18182  246001               Y. Góez   18   \n",
       "18183       18183   53748         K. Pilkington   44   \n",
       "18184       18184  241657             D. Horton   18   \n",
       "18185       18185  243961              E. Tweed   19   \n",
       "18186       18186  240917          Zhang Yufeng   20   \n",
       "18187       18187  240158             C. Ehlich   19   \n",
       "18188       18188  240927            L. Collins   17   \n",
       "18189       18189  240160            A. Kaltner   18   \n",
       "18190       18190  245569            L. Watkins   18   \n",
       "18191       18191  245570  J. Norville-Williams   18   \n",
       "18192       18192  245571             S. Squire   18   \n",
       "18193       18193  244823            N. Fuentes   18   \n",
       "18194       18194  245862              J. Milli   18   \n",
       "18195       18195  243582            S. Griffin   18   \n",
       "18196       18196  238477           K. Fujikawa   19   \n",
       "18197       18197  246167            D. Holland   18   \n",
       "18198       18198  242844            J. Livesey   18   \n",
       "18199       18199  244677          M. Baldisimo   18   \n",
       "18200       18200  231381              J. Young   18   \n",
       "18201       18201  243413              D. Walsh   18   \n",
       "18202       18202  238813          J. Lundstram   19   \n",
       "18203       18203  243165    N. Christoffersson   19   \n",
       "18204       18204  241638             B. Worman   16   \n",
       "18205       18205  246268        D. Walker-Rice   17   \n",
       "18206       18206  246269             G. Nugent   16   \n",
       "\n",
       "                                                Photo          Nationality  \\\n",
       "0      https://cdn.sofifa.org/players/4/19/158023.png            Argentina   \n",
       "1       https://cdn.sofifa.org/players/4/19/20801.png             Portugal   \n",
       "2      https://cdn.sofifa.org/players/4/19/190871.png               Brazil   \n",
       "3      https://cdn.sofifa.org/players/4/19/193080.png                Spain   \n",
       "4      https://cdn.sofifa.org/players/4/19/192985.png              Belgium   \n",
       "5      https://cdn.sofifa.org/players/4/19/183277.png              Belgium   \n",
       "6      https://cdn.sofifa.org/players/4/19/177003.png              Croatia   \n",
       "7      https://cdn.sofifa.org/players/4/19/176580.png              Uruguay   \n",
       "8      https://cdn.sofifa.org/players/4/19/155862.png                Spain   \n",
       "9      https://cdn.sofifa.org/players/4/19/200389.png             Slovenia   \n",
       "10     https://cdn.sofifa.org/players/4/19/188545.png               Poland   \n",
       "11     https://cdn.sofifa.org/players/4/19/182521.png              Germany   \n",
       "12     https://cdn.sofifa.org/players/4/19/182493.png              Uruguay   \n",
       "13     https://cdn.sofifa.org/players/4/19/168542.png                Spain   \n",
       "14     https://cdn.sofifa.org/players/4/19/215914.png               France   \n",
       "15     https://cdn.sofifa.org/players/4/19/211110.png            Argentina   \n",
       "16     https://cdn.sofifa.org/players/4/19/202126.png              England   \n",
       "17     https://cdn.sofifa.org/players/4/19/194765.png               France   \n",
       "18     https://cdn.sofifa.org/players/4/19/192448.png              Germany   \n",
       "19     https://cdn.sofifa.org/players/4/19/192119.png              Belgium   \n",
       "20     https://cdn.sofifa.org/players/4/19/189511.png                Spain   \n",
       "21     https://cdn.sofifa.org/players/4/19/179813.png              Uruguay   \n",
       "22     https://cdn.sofifa.org/players/4/19/167495.png              Germany   \n",
       "23     https://cdn.sofifa.org/players/4/19/153079.png            Argentina   \n",
       "24     https://cdn.sofifa.org/players/4/19/138956.png                Italy   \n",
       "25     https://cdn.sofifa.org/players/4/19/231747.png               France   \n",
       "26     https://cdn.sofifa.org/players/4/19/209331.png                Egypt   \n",
       "27     https://cdn.sofifa.org/players/4/19/200145.png               Brazil   \n",
       "28     https://cdn.sofifa.org/players/4/19/198710.png             Colombia   \n",
       "29     https://cdn.sofifa.org/players/4/19/198219.png                Italy   \n",
       "...                                               ...                  ...   \n",
       "18177  https://cdn.sofifa.org/players/4/19/238550.png  Republic of Ireland   \n",
       "18178  https://cdn.sofifa.org/players/4/19/243158.png               Sweden   \n",
       "18179  https://cdn.sofifa.org/players/4/19/246243.png              England   \n",
       "18180  https://cdn.sofifa.org/players/4/19/221669.png             Scotland   \n",
       "18181  https://cdn.sofifa.org/players/4/19/245734.png  Republic of Ireland   \n",
       "18182  https://cdn.sofifa.org/players/4/19/246001.png             Colombia   \n",
       "18183   https://cdn.sofifa.org/players/4/19/53748.png              England   \n",
       "18184  https://cdn.sofifa.org/players/4/19/241657.png              England   \n",
       "18185  https://cdn.sofifa.org/players/4/19/243961.png  Republic of Ireland   \n",
       "18186  https://cdn.sofifa.org/players/4/19/240917.png             China PR   \n",
       "18187  https://cdn.sofifa.org/players/4/19/240158.png              Germany   \n",
       "18188  https://cdn.sofifa.org/players/4/19/240927.png                Wales   \n",
       "18189  https://cdn.sofifa.org/players/4/19/240160.png              Germany   \n",
       "18190  https://cdn.sofifa.org/players/4/19/245569.png              England   \n",
       "18191  https://cdn.sofifa.org/players/4/19/245570.png              England   \n",
       "18192  https://cdn.sofifa.org/players/4/19/245571.png              England   \n",
       "18193  https://cdn.sofifa.org/players/4/19/244823.png                Chile   \n",
       "18194  https://cdn.sofifa.org/players/4/19/245862.png                Italy   \n",
       "18195  https://cdn.sofifa.org/players/4/19/243582.png  Republic of Ireland   \n",
       "18196  https://cdn.sofifa.org/players/4/19/238477.png                Japan   \n",
       "18197  https://cdn.sofifa.org/players/4/19/246167.png  Republic of Ireland   \n",
       "18198  https://cdn.sofifa.org/players/4/19/242844.png              England   \n",
       "18199  https://cdn.sofifa.org/players/4/19/244677.png               Canada   \n",
       "18200  https://cdn.sofifa.org/players/4/19/231381.png             Scotland   \n",
       "18201  https://cdn.sofifa.org/players/4/19/243413.png  Republic of Ireland   \n",
       "18202  https://cdn.sofifa.org/players/4/19/238813.png              England   \n",
       "18203  https://cdn.sofifa.org/players/4/19/243165.png               Sweden   \n",
       "18204  https://cdn.sofifa.org/players/4/19/241638.png              England   \n",
       "18205  https://cdn.sofifa.org/players/4/19/246268.png              England   \n",
       "18206  https://cdn.sofifa.org/players/4/19/246269.png              England   \n",
       "\n",
       "                                       Flag  Overall  Potential  \\\n",
       "0       https://cdn.sofifa.org/flags/52.png       94         94   \n",
       "1       https://cdn.sofifa.org/flags/38.png       94         94   \n",
       "2       https://cdn.sofifa.org/flags/54.png       92         93   \n",
       "3       https://cdn.sofifa.org/flags/45.png       91         93   \n",
       "4        https://cdn.sofifa.org/flags/7.png       91         92   \n",
       "5        https://cdn.sofifa.org/flags/7.png       91         91   \n",
       "6       https://cdn.sofifa.org/flags/10.png       91         91   \n",
       "7       https://cdn.sofifa.org/flags/60.png       91         91   \n",
       "8       https://cdn.sofifa.org/flags/45.png       91         91   \n",
       "9       https://cdn.sofifa.org/flags/44.png       90         93   \n",
       "10      https://cdn.sofifa.org/flags/37.png       90         90   \n",
       "11      https://cdn.sofifa.org/flags/21.png       90         90   \n",
       "12      https://cdn.sofifa.org/flags/60.png       90         90   \n",
       "13      https://cdn.sofifa.org/flags/45.png       90         90   \n",
       "14      https://cdn.sofifa.org/flags/18.png       89         90   \n",
       "15      https://cdn.sofifa.org/flags/52.png       89         94   \n",
       "16      https://cdn.sofifa.org/flags/14.png       89         91   \n",
       "17      https://cdn.sofifa.org/flags/18.png       89         90   \n",
       "18      https://cdn.sofifa.org/flags/21.png       89         92   \n",
       "19       https://cdn.sofifa.org/flags/7.png       89         90   \n",
       "20      https://cdn.sofifa.org/flags/45.png       89         89   \n",
       "21      https://cdn.sofifa.org/flags/60.png       89         89   \n",
       "22      https://cdn.sofifa.org/flags/21.png       89         89   \n",
       "23      https://cdn.sofifa.org/flags/52.png       89         89   \n",
       "24      https://cdn.sofifa.org/flags/27.png       89         89   \n",
       "25      https://cdn.sofifa.org/flags/18.png       88         95   \n",
       "26     https://cdn.sofifa.org/flags/111.png       88         89   \n",
       "27      https://cdn.sofifa.org/flags/54.png       88         90   \n",
       "28      https://cdn.sofifa.org/flags/56.png       88         89   \n",
       "29      https://cdn.sofifa.org/flags/27.png       88         88   \n",
       "...                                     ...      ...        ...   \n",
       "18177   https://cdn.sofifa.org/flags/25.png       48         69   \n",
       "18178   https://cdn.sofifa.org/flags/46.png       48         65   \n",
       "18179   https://cdn.sofifa.org/flags/14.png       48         64   \n",
       "18180   https://cdn.sofifa.org/flags/42.png       48         58   \n",
       "18181   https://cdn.sofifa.org/flags/25.png       48         66   \n",
       "18182   https://cdn.sofifa.org/flags/56.png       48         65   \n",
       "18183   https://cdn.sofifa.org/flags/14.png       48         48   \n",
       "18184   https://cdn.sofifa.org/flags/14.png       48         55   \n",
       "18185   https://cdn.sofifa.org/flags/25.png       48         59   \n",
       "18186  https://cdn.sofifa.org/flags/155.png       47         64   \n",
       "18187   https://cdn.sofifa.org/flags/21.png       47         59   \n",
       "18188   https://cdn.sofifa.org/flags/50.png       47         62   \n",
       "18189   https://cdn.sofifa.org/flags/21.png       47         61   \n",
       "18190   https://cdn.sofifa.org/flags/14.png       47         67   \n",
       "18191   https://cdn.sofifa.org/flags/14.png       47         65   \n",
       "18192   https://cdn.sofifa.org/flags/14.png       47         64   \n",
       "18193   https://cdn.sofifa.org/flags/55.png       47         64   \n",
       "18194   https://cdn.sofifa.org/flags/27.png       47         65   \n",
       "18195   https://cdn.sofifa.org/flags/25.png       47         67   \n",
       "18196  https://cdn.sofifa.org/flags/163.png       47         61   \n",
       "18197   https://cdn.sofifa.org/flags/25.png       47         61   \n",
       "18198   https://cdn.sofifa.org/flags/14.png       47         70   \n",
       "18199   https://cdn.sofifa.org/flags/70.png       47         69   \n",
       "18200   https://cdn.sofifa.org/flags/42.png       47         62   \n",
       "18201   https://cdn.sofifa.org/flags/25.png       47         68   \n",
       "18202   https://cdn.sofifa.org/flags/14.png       47         65   \n",
       "18203   https://cdn.sofifa.org/flags/46.png       47         63   \n",
       "18204   https://cdn.sofifa.org/flags/14.png       47         67   \n",
       "18205   https://cdn.sofifa.org/flags/14.png       47         66   \n",
       "18206   https://cdn.sofifa.org/flags/14.png       46         66   \n",
       "\n",
       "                         Club  ... Composure Marking StandingTackle  \\\n",
       "0                FC Barcelona  ...      96.0    33.0           28.0   \n",
       "1                    Juventus  ...      95.0    28.0           31.0   \n",
       "2         Paris Saint-Germain  ...      94.0    27.0           24.0   \n",
       "3           Manchester United  ...      68.0    15.0           21.0   \n",
       "4             Manchester City  ...      88.0    68.0           58.0   \n",
       "5                     Chelsea  ...      91.0    34.0           27.0   \n",
       "6                 Real Madrid  ...      84.0    60.0           76.0   \n",
       "7                FC Barcelona  ...      85.0    62.0           45.0   \n",
       "8                 Real Madrid  ...      82.0    87.0           92.0   \n",
       "9             Atlético Madrid  ...      70.0    27.0           12.0   \n",
       "10          FC Bayern München  ...      86.0    34.0           42.0   \n",
       "11                Real Madrid  ...      85.0    72.0           79.0   \n",
       "12            Atlético Madrid  ...      82.0    90.0           89.0   \n",
       "13            Manchester City  ...      93.0    59.0           53.0   \n",
       "14                    Chelsea  ...      85.0    90.0           91.0   \n",
       "15                   Juventus  ...      84.0    23.0           20.0   \n",
       "16          Tottenham Hotspur  ...      89.0    56.0           36.0   \n",
       "17            Atlético Madrid  ...      87.0    59.0           47.0   \n",
       "18               FC Barcelona  ...      69.0    25.0           13.0   \n",
       "19                Real Madrid  ...      66.0    20.0           18.0   \n",
       "20               FC Barcelona  ...      90.0    90.0           86.0   \n",
       "21        Paris Saint-Germain  ...      82.0    52.0           45.0   \n",
       "22          FC Bayern München  ...      70.0    17.0           10.0   \n",
       "23            Manchester City  ...      90.0    30.0           20.0   \n",
       "24                   Juventus  ...      84.0    93.0           93.0   \n",
       "25        Paris Saint-Germain  ...      86.0    34.0           34.0   \n",
       "26                  Liverpool  ...      91.0    38.0           43.0   \n",
       "27                Real Madrid  ...      84.0    88.0           90.0   \n",
       "28          FC Bayern München  ...      87.0    52.0           41.0   \n",
       "29                     Napoli  ...      83.0    51.0           24.0   \n",
       "...                       ...  ...       ...     ...            ...   \n",
       "18177               Blackpool  ...      49.0    18.0           16.0   \n",
       "18178              Dalkurd FF  ...      28.0    16.0           11.0   \n",
       "18179        Northampton Town  ...      37.0    42.0           51.0   \n",
       "18180        St. Johnstone FC  ...      28.0    12.0           15.0   \n",
       "18181          Bray Wanderers  ...      38.0    43.0           49.0   \n",
       "18182       Atlético Nacional  ...      38.0    44.0           42.0   \n",
       "18183        Cambridge United  ...      56.0    15.0           15.0   \n",
       "18184            Lincoln City  ...      42.0    47.0           49.0   \n",
       "18185              Derry City  ...      43.0    39.0           39.0   \n",
       "18186        Beijing Renhe FC  ...      39.0    53.0           41.0   \n",
       "18187      SpVgg Unterhaching  ...      47.0    40.0           42.0   \n",
       "18188          Newport County  ...      46.0    33.0           38.0   \n",
       "18189      SpVgg Unterhaching  ...      37.0    28.0           15.0   \n",
       "18190        Cambridge United  ...      46.0    35.0           44.0   \n",
       "18191        Cambridge United  ...      36.0    45.0           42.0   \n",
       "18192        Cambridge United  ...      38.0    41.0           41.0   \n",
       "18193          Unión Española  ...      32.0    41.0           48.0   \n",
       "18194                   Lecce  ...      23.0     6.0           10.0   \n",
       "18195            Waterford FC  ...      41.0    44.0           37.0   \n",
       "18196            Júbilo Iwata  ...      35.0    41.0           44.0   \n",
       "18197               Cork City  ...      52.0    41.0           47.0   \n",
       "18198           Burton Albion  ...      34.0    15.0           11.0   \n",
       "18199  Vancouver Whitecaps FC  ...      40.0    48.0           49.0   \n",
       "18200            Swindon Town  ...      50.0    15.0           17.0   \n",
       "18201            Waterford FC  ...      43.0    44.0           47.0   \n",
       "18202         Crewe Alexandra  ...      45.0    40.0           48.0   \n",
       "18203          Trelleborgs FF  ...      42.0    22.0           15.0   \n",
       "18204        Cambridge United  ...      41.0    32.0           13.0   \n",
       "18205         Tranmere Rovers  ...      46.0    20.0           25.0   \n",
       "18206         Tranmere Rovers  ...      43.0    40.0           43.0   \n",
       "\n",
       "       SlidingTackle GKDiving  GKHandling  GKKicking  GKPositioning  \\\n",
       "0               26.0      6.0        11.0       15.0           14.0   \n",
       "1               23.0      7.0        11.0       15.0           14.0   \n",
       "2               33.0      9.0         9.0       15.0           15.0   \n",
       "3               13.0     90.0        85.0       87.0           88.0   \n",
       "4               51.0     15.0        13.0        5.0           10.0   \n",
       "5               22.0     11.0        12.0        6.0            8.0   \n",
       "6               73.0     13.0         9.0        7.0           14.0   \n",
       "7               38.0     27.0        25.0       31.0           33.0   \n",
       "8               91.0     11.0         8.0        9.0            7.0   \n",
       "9               18.0     86.0        92.0       78.0           88.0   \n",
       "10              19.0     15.0         6.0       12.0            8.0   \n",
       "11              69.0     10.0        11.0       13.0            7.0   \n",
       "12              89.0      6.0         8.0       15.0            5.0   \n",
       "13              29.0      6.0        15.0        7.0            6.0   \n",
       "14              85.0     15.0        12.0       10.0            7.0   \n",
       "15              20.0      5.0         4.0        4.0            5.0   \n",
       "16              38.0      8.0        10.0       11.0           14.0   \n",
       "17              48.0     14.0         8.0       14.0           13.0   \n",
       "18              10.0     87.0        85.0       88.0           85.0   \n",
       "19              16.0     85.0        91.0       72.0           86.0   \n",
       "20              80.0      5.0         8.0       13.0            9.0   \n",
       "21              39.0     12.0         5.0       13.0           13.0   \n",
       "22              11.0     90.0        86.0       91.0           87.0   \n",
       "23              12.0     13.0        15.0        6.0           11.0   \n",
       "24              90.0      3.0         3.0        2.0            4.0   \n",
       "25              32.0     13.0         5.0        7.0           11.0   \n",
       "26              41.0     14.0        14.0        9.0           11.0   \n",
       "27              87.0     13.0        14.0       16.0           12.0   \n",
       "28              44.0     15.0        15.0       15.0            5.0   \n",
       "29              22.0      8.0         4.0       14.0            9.0   \n",
       "...              ...      ...         ...        ...            ...   \n",
       "18177           11.0      6.0         9.0       11.0            7.0   \n",
       "18178           10.0     47.0        46.0       50.0           45.0   \n",
       "18179           49.0     14.0        11.0        7.0           11.0   \n",
       "18180           16.0     45.0        49.0       50.0           50.0   \n",
       "18181           45.0      8.0        10.0       12.0            9.0   \n",
       "18182           46.0      9.0        15.0       15.0            8.0   \n",
       "18183           13.0     45.0        48.0       44.0           49.0   \n",
       "18184           53.0     12.0         5.0       12.0           14.0   \n",
       "18185           48.0      6.0        11.0        9.0            5.0   \n",
       "18186           51.0     15.0         7.0       14.0            6.0   \n",
       "18187           42.0     13.0        12.0       11.0           15.0   \n",
       "18188           41.0      5.0        12.0        8.0           13.0   \n",
       "18189           22.0     15.0         5.0       14.0           12.0   \n",
       "18190           47.0     13.0         7.0       14.0           10.0   \n",
       "18191           46.0     15.0        13.0        6.0           14.0   \n",
       "18192           44.0     11.0        11.0        8.0           12.0   \n",
       "18193           48.0      6.0        10.0        6.0           12.0   \n",
       "18194           11.0     52.0        52.0       52.0           40.0   \n",
       "18195           48.0     13.0        14.0       12.0            7.0   \n",
       "18196           54.0     10.0        12.0        6.0           11.0   \n",
       "18197           38.0     13.0         6.0        9.0           10.0   \n",
       "18198           13.0     46.0        52.0       58.0           42.0   \n",
       "18199           49.0      7.0         7.0        9.0           14.0   \n",
       "18200           14.0     11.0        15.0       12.0           12.0   \n",
       "18201           53.0      9.0        10.0        9.0           11.0   \n",
       "18202           47.0     10.0        13.0        7.0            8.0   \n",
       "18203           19.0     10.0         9.0        9.0            5.0   \n",
       "18204           11.0      6.0         5.0       10.0            6.0   \n",
       "18205           27.0     14.0         6.0       14.0            8.0   \n",
       "18206           50.0     10.0        15.0        9.0           12.0   \n",
       "\n",
       "      GKReflexes Release Clause  \n",
       "0            8.0        €226.5M  \n",
       "1           11.0        €127.1M  \n",
       "2           11.0        €228.1M  \n",
       "3           94.0        €138.6M  \n",
       "4           13.0        €196.4M  \n",
       "5            8.0        €172.1M  \n",
       "6            9.0        €137.4M  \n",
       "7           37.0          €164M  \n",
       "8           11.0        €104.6M  \n",
       "9           89.0        €144.5M  \n",
       "10          10.0        €127.1M  \n",
       "11          10.0        €156.8M  \n",
       "12          15.0         €90.2M  \n",
       "13          12.0          €111M  \n",
       "14          10.0        €121.3M  \n",
       "15           8.0        €153.5M  \n",
       "16          11.0        €160.7M  \n",
       "17          14.0        €165.8M  \n",
       "18          90.0        €123.3M  \n",
       "19          88.0        €113.7M  \n",
       "20          13.0        €105.6M  \n",
       "21          10.0          €111M  \n",
       "22          87.0         €62.7M  \n",
       "23          14.0        €119.3M  \n",
       "24           3.0         €44.6M  \n",
       "25           6.0        €166.1M  \n",
       "26          14.0        €137.3M  \n",
       "27          12.0        €126.4M  \n",
       "28          14.0            NaN  \n",
       "29          10.0        €105.4M  \n",
       "...          ...            ...  \n",
       "18177       12.0          €193K  \n",
       "18178       51.0           €94K  \n",
       "18179        8.0          €119K  \n",
       "18180       45.0           €78K  \n",
       "18181       10.0          €109K  \n",
       "18182        6.0          €101K  \n",
       "18183       46.0            NaN  \n",
       "18184       15.0           €78K  \n",
       "18185        8.0           €88K  \n",
       "18186        8.0          €167K  \n",
       "18187       12.0           €66K  \n",
       "18188       10.0          €143K  \n",
       "18189        8.0          €125K  \n",
       "18190        8.0          €165K  \n",
       "18191       12.0          €119K  \n",
       "18192       13.0          €119K  \n",
       "18193       11.0           €99K  \n",
       "18194       44.0          €109K  \n",
       "18195       13.0          €153K  \n",
       "18196        8.0          €113K  \n",
       "18197       15.0           €88K  \n",
       "18198       48.0          €165K  \n",
       "18199       15.0          €175K  \n",
       "18200       11.0          €143K  \n",
       "18201       13.0          €153K  \n",
       "18202        9.0          €143K  \n",
       "18203       12.0          €113K  \n",
       "18204       13.0          €165K  \n",
       "18205        9.0          €143K  \n",
       "18206        9.0          €165K  \n",
       "\n",
       "[18207 rows x 89 columns]"
      ]
     },
     "execution_count": 182,
     "metadata": {},
     "output_type": "execute_result"
    }
   ],
   "source": [
    "dataframe"
   ]
  },
  {
   "cell_type": "code",
   "execution_count": 183,
   "metadata": {},
   "outputs": [
    {
     "name": "stdout",
     "output_type": "stream",
     "text": [
      "<class 'pandas.core.frame.DataFrame'>\n",
      "RangeIndex: 18207 entries, 0 to 18206\n",
      "Data columns (total 89 columns):\n",
      "Unnamed: 0                  18207 non-null int64\n",
      "ID                          18207 non-null int64\n",
      "Name                        18207 non-null object\n",
      "Age                         18207 non-null int64\n",
      "Photo                       18207 non-null object\n",
      "Nationality                 18207 non-null object\n",
      "Flag                        18207 non-null object\n",
      "Overall                     18207 non-null int64\n",
      "Potential                   18207 non-null int64\n",
      "Club                        17966 non-null object\n",
      "Club Logo                   18207 non-null object\n",
      "Value                       18207 non-null object\n",
      "Wage                        18207 non-null object\n",
      "Special                     18207 non-null int64\n",
      "Preferred Foot              18159 non-null object\n",
      "International Reputation    18159 non-null float64\n",
      "Weak Foot                   18159 non-null float64\n",
      "Skill Moves                 18159 non-null float64\n",
      "Work Rate                   18159 non-null object\n",
      "Body Type                   18159 non-null object\n",
      "Real Face                   18159 non-null object\n",
      "Position                    18147 non-null object\n",
      "Jersey Number               18147 non-null float64\n",
      "Joined                      16654 non-null object\n",
      "Loaned From                 1264 non-null object\n",
      "Contract Valid Until        17918 non-null object\n",
      "Height                      18159 non-null object\n",
      "Weight                      18159 non-null object\n",
      "LS                          16122 non-null object\n",
      "ST                          16122 non-null object\n",
      "RS                          16122 non-null object\n",
      "LW                          16122 non-null object\n",
      "LF                          16122 non-null object\n",
      "CF                          16122 non-null object\n",
      "RF                          16122 non-null object\n",
      "RW                          16122 non-null object\n",
      "LAM                         16122 non-null object\n",
      "CAM                         16122 non-null object\n",
      "RAM                         16122 non-null object\n",
      "LM                          16122 non-null object\n",
      "LCM                         16122 non-null object\n",
      "CM                          16122 non-null object\n",
      "RCM                         16122 non-null object\n",
      "RM                          16122 non-null object\n",
      "LWB                         16122 non-null object\n",
      "LDM                         16122 non-null object\n",
      "CDM                         16122 non-null object\n",
      "RDM                         16122 non-null object\n",
      "RWB                         16122 non-null object\n",
      "LB                          16122 non-null object\n",
      "LCB                         16122 non-null object\n",
      "CB                          16122 non-null object\n",
      "RCB                         16122 non-null object\n",
      "RB                          16122 non-null object\n",
      "Crossing                    18159 non-null float64\n",
      "Finishing                   18159 non-null float64\n",
      "HeadingAccuracy             18159 non-null float64\n",
      "ShortPassing                18159 non-null float64\n",
      "Volleys                     18159 non-null float64\n",
      "Dribbling                   18159 non-null float64\n",
      "Curve                       18159 non-null float64\n",
      "FKAccuracy                  18159 non-null float64\n",
      "LongPassing                 18159 non-null float64\n",
      "BallControl                 18159 non-null float64\n",
      "Acceleration                18159 non-null float64\n",
      "SprintSpeed                 18159 non-null float64\n",
      "Agility                     18159 non-null float64\n",
      "Reactions                   18159 non-null float64\n",
      "Balance                     18159 non-null float64\n",
      "ShotPower                   18159 non-null float64\n",
      "Jumping                     18159 non-null float64\n",
      "Stamina                     18159 non-null float64\n",
      "Strength                    18159 non-null float64\n",
      "LongShots                   18159 non-null float64\n",
      "Aggression                  18159 non-null float64\n",
      "Interceptions               18159 non-null float64\n",
      "Positioning                 18159 non-null float64\n",
      "Vision                      18159 non-null float64\n",
      "Penalties                   18159 non-null float64\n",
      "Composure                   18159 non-null float64\n",
      "Marking                     18159 non-null float64\n",
      "StandingTackle              18159 non-null float64\n",
      "SlidingTackle               18159 non-null float64\n",
      "GKDiving                    18159 non-null float64\n",
      "GKHandling                  18159 non-null float64\n",
      "GKKicking                   18159 non-null float64\n",
      "GKPositioning               18159 non-null float64\n",
      "GKReflexes                  18159 non-null float64\n",
      "Release Clause              16643 non-null object\n",
      "dtypes: float64(38), int64(6), object(45)\n",
      "memory usage: 12.4+ MB\n"
     ]
    }
   ],
   "source": [
    "dataframe.info()"
   ]
  },
  {
   "cell_type": "code",
   "execution_count": 184,
   "metadata": {},
   "outputs": [
    {
     "data": {
      "text/plain": [
       "Index(['Unnamed: 0', 'ID', 'Name', 'Age', 'Photo', 'Nationality', 'Flag',\n",
       "       'Overall', 'Potential', 'Club', 'Club Logo', 'Value', 'Wage', 'Special',\n",
       "       'Preferred Foot', 'International Reputation', 'Weak Foot',\n",
       "       'Skill Moves', 'Work Rate', 'Body Type', 'Real Face', 'Position',\n",
       "       'Jersey Number', 'Joined', 'Loaned From', 'Contract Valid Until',\n",
       "       'Height', 'Weight', 'LS', 'ST', 'RS', 'LW', 'LF', 'CF', 'RF', 'RW',\n",
       "       'LAM', 'CAM', 'RAM', 'LM', 'LCM', 'CM', 'RCM', 'RM', 'LWB', 'LDM',\n",
       "       'CDM', 'RDM', 'RWB', 'LB', 'LCB', 'CB', 'RCB', 'RB', 'Crossing',\n",
       "       'Finishing', 'HeadingAccuracy', 'ShortPassing', 'Volleys', 'Dribbling',\n",
       "       'Curve', 'FKAccuracy', 'LongPassing', 'BallControl', 'Acceleration',\n",
       "       'SprintSpeed', 'Agility', 'Reactions', 'Balance', 'ShotPower',\n",
       "       'Jumping', 'Stamina', 'Strength', 'LongShots', 'Aggression',\n",
       "       'Interceptions', 'Positioning', 'Vision', 'Penalties', 'Composure',\n",
       "       'Marking', 'StandingTackle', 'SlidingTackle', 'GKDiving', 'GKHandling',\n",
       "       'GKKicking', 'GKPositioning', 'GKReflexes', 'Release Clause'],\n",
       "      dtype='object')"
      ]
     },
     "execution_count": 184,
     "metadata": {},
     "output_type": "execute_result"
    }
   ],
   "source": [
    "dataframe.columns"
   ]
  },
  {
   "cell_type": "code",
   "execution_count": 185,
   "metadata": {},
   "outputs": [
    {
     "data": {
      "text/html": [
       "<div>\n",
       "<style scoped>\n",
       "    .dataframe tbody tr th:only-of-type {\n",
       "        vertical-align: middle;\n",
       "    }\n",
       "\n",
       "    .dataframe tbody tr th {\n",
       "        vertical-align: top;\n",
       "    }\n",
       "\n",
       "    .dataframe thead th {\n",
       "        text-align: right;\n",
       "    }\n",
       "</style>\n",
       "<table border=\"1\" class=\"dataframe\">\n",
       "  <thead>\n",
       "    <tr style=\"text-align: right;\">\n",
       "      <th></th>\n",
       "      <th>Overall</th>\n",
       "      <th>Age</th>\n",
       "      <th>International Reputation</th>\n",
       "      <th>Weak Foot</th>\n",
       "      <th>Skill Moves</th>\n",
       "    </tr>\n",
       "  </thead>\n",
       "  <tbody>\n",
       "    <tr>\n",
       "      <th>0</th>\n",
       "      <td>94</td>\n",
       "      <td>31</td>\n",
       "      <td>5.0</td>\n",
       "      <td>4.0</td>\n",
       "      <td>4.0</td>\n",
       "    </tr>\n",
       "    <tr>\n",
       "      <th>1</th>\n",
       "      <td>94</td>\n",
       "      <td>33</td>\n",
       "      <td>5.0</td>\n",
       "      <td>4.0</td>\n",
       "      <td>5.0</td>\n",
       "    </tr>\n",
       "    <tr>\n",
       "      <th>2</th>\n",
       "      <td>92</td>\n",
       "      <td>26</td>\n",
       "      <td>5.0</td>\n",
       "      <td>5.0</td>\n",
       "      <td>5.0</td>\n",
       "    </tr>\n",
       "    <tr>\n",
       "      <th>3</th>\n",
       "      <td>91</td>\n",
       "      <td>27</td>\n",
       "      <td>4.0</td>\n",
       "      <td>3.0</td>\n",
       "      <td>1.0</td>\n",
       "    </tr>\n",
       "    <tr>\n",
       "      <th>4</th>\n",
       "      <td>91</td>\n",
       "      <td>27</td>\n",
       "      <td>4.0</td>\n",
       "      <td>5.0</td>\n",
       "      <td>4.0</td>\n",
       "    </tr>\n",
       "  </tbody>\n",
       "</table>\n",
       "</div>"
      ],
      "text/plain": [
       "   Overall  Age  International Reputation  Weak Foot  Skill Moves\n",
       "0       94   31                       5.0        4.0          4.0\n",
       "1       94   33                       5.0        4.0          5.0\n",
       "2       92   26                       5.0        5.0          5.0\n",
       "3       91   27                       4.0        3.0          1.0\n",
       "4       91   27                       4.0        5.0          4.0"
      ]
     },
     "execution_count": 185,
     "metadata": {},
     "output_type": "execute_result"
    }
   ],
   "source": [
    "subset = dataframe[['Overall','Age','International Reputation', 'Weak Foot',\n",
    "       'Skill Moves']].dropna(axis=0,how='any')\n",
    "subset.head(5)"
   ]
  },
  {
   "cell_type": "code",
   "execution_count": 186,
   "metadata": {},
   "outputs": [
    {
     "data": {
      "text/plain": [
       "Index(['Age', 'International Reputation', 'Weak Foot', 'Skill Moves'], dtype='object')"
      ]
     },
     "execution_count": 186,
     "metadata": {},
     "output_type": "execute_result"
    }
   ],
   "source": [
    "columns = subset.columns[1:] #eliminamos Overall\n",
    "columns"
   ]
  },
  {
   "cell_type": "code",
   "execution_count": 187,
   "metadata": {},
   "outputs": [
    {
     "data": {
      "text/plain": [
       "tensor([[94., 31.,  5.,  4.,  4.],\n",
       "        [94., 33.,  5.,  4.,  5.],\n",
       "        [92., 26.,  5.,  5.,  5.],\n",
       "        ...,\n",
       "        [47., 16.,  1.,  3.,  2.],\n",
       "        [47., 17.,  1.,  3.,  2.],\n",
       "        [46., 16.,  1.,  3.,  2.]])"
      ]
     },
     "execution_count": 187,
     "metadata": {},
     "output_type": "execute_result"
    }
   ],
   "source": [
    "players = torch.tensor(subset.values).float()\n",
    "players"
   ]
  },
  {
   "cell_type": "code",
   "execution_count": 188,
   "metadata": {},
   "outputs": [
    {
     "data": {
      "text/plain": [
       "(torch.Size([18159, 5]), 'torch.FloatTensor')"
      ]
     },
     "execution_count": 188,
     "metadata": {},
     "output_type": "execute_result"
    }
   ],
   "source": [
    "players.shape,players.type()"
   ]
  },
  {
   "cell_type": "code",
   "execution_count": 189,
   "metadata": {},
   "outputs": [
    {
     "data": {
      "text/plain": [
       "(tensor([[31.,  5.,  4.,  4.],\n",
       "         [33.,  5.,  4.,  5.],\n",
       "         [26.,  5.,  5.,  5.],\n",
       "         ...,\n",
       "         [16.,  1.,  3.,  2.],\n",
       "         [17.,  1.,  3.,  2.],\n",
       "         [16.,  1.,  3.,  2.]]), torch.Size([18159, 4]))"
      ]
     },
     "execution_count": 189,
     "metadata": {},
     "output_type": "execute_result"
    }
   ],
   "source": [
    "data = players[:,1:] #borramos el resultado, o sea el target\n",
    "data,data.shape"
   ]
  },
  {
   "cell_type": "code",
   "execution_count": 190,
   "metadata": {},
   "outputs": [
    {
     "data": {
      "text/plain": [
       "(tensor([94., 94., 92.,  ..., 47., 47., 46.]), torch.Size([18159]))"
      ]
     },
     "execution_count": 190,
     "metadata": {},
     "output_type": "execute_result"
    }
   ],
   "source": [
    "target = players[:,0]\n",
    "target, target.shape"
   ]
  },
  {
   "cell_type": "code",
   "execution_count": 191,
   "metadata": {},
   "outputs": [
    {
     "data": {
      "text/plain": [
       "tensor([25.1225,  1.1132,  2.9473,  2.3613])"
      ]
     },
     "execution_count": 191,
     "metadata": {},
     "output_type": "execute_result"
    }
   ],
   "source": [
    "mean = torch.mean(data,dim=0) # media de las columnas\n",
    "mean"
   ]
  },
  {
   "cell_type": "code",
   "execution_count": 192,
   "metadata": {},
   "outputs": [
    {
     "data": {
      "text/plain": [
       "tensor([4.6706, 0.3940, 0.6605, 0.7562])"
      ]
     },
     "execution_count": 192,
     "metadata": {},
     "output_type": "execute_result"
    }
   ],
   "source": [
    "std = torch.std(data,dim=0)\n",
    "std"
   ]
  },
  {
   "cell_type": "code",
   "execution_count": 193,
   "metadata": {},
   "outputs": [
    {
     "data": {
      "text/plain": [
       "tensor([[ 2.7196,  6.1919,  1.2953,  1.8845],\n",
       "        [ 3.6450,  6.1919,  1.2953,  3.0345],\n",
       "        [ 0.4060,  6.1919,  2.5258,  3.0345],\n",
       "        ...,\n",
       "        [-4.2211, -0.1804,  0.0648, -0.4155],\n",
       "        [-3.7584, -0.1804,  0.0648, -0.4155],\n",
       "        [-4.2211, -0.1804,  0.0648, -0.4155]])"
      ]
     },
     "execution_count": 193,
     "metadata": {},
     "output_type": "execute_result"
    }
   ],
   "source": [
    "#normalizamos\n",
    "norm = (data - mean)/torch.sqrt(std)\n",
    "norm"
   ]
  },
  {
   "cell_type": "code",
   "execution_count": 194,
   "metadata": {},
   "outputs": [],
   "source": [
    "#separamos los datos de los jugadores\n",
    "good = data[torch.ge(target,85)]\n",
    "average = data[torch.gt(target,70) & torch.lt(target,85)]\n",
    "bad = data[torch.lt(target,70)]"
   ]
  },
  {
   "cell_type": "code",
   "execution_count": 195,
   "metadata": {},
   "outputs": [
    {
     "data": {
      "text/plain": [
       "(tensor([28.3455,  3.3818,  3.4455,  3.0364]),\n",
       " tensor([27.2285,  1.3561,  3.1114,  2.7515]),\n",
       " tensor([24.1909,  1.0079,  2.8795,  2.1952]))"
      ]
     },
     "execution_count": 195,
     "metadata": {},
     "output_type": "execute_result"
    }
   ],
   "source": [
    "goodMean = torch.mean(good,dim=0) #los mejores jugadore\n",
    "averageMean = torch.mean(average,dim=0) #los maso\n",
    "badMean = torch.mean(bad,dim=0) #los malos\n",
    "\n",
    "goodMean, averageMean, badMean"
   ]
  },
  {
   "cell_type": "code",
   "execution_count": 196,
   "metadata": {
    "scrolled": true
   },
   "outputs": [
    {
     "name": "stdout",
     "output_type": "stream",
     "text": [
      "Age                        28.35  27.23  24.19\n",
      "International Reputation    3.38   1.36   1.01\n",
      "Weak Foot                   3.45   3.11   2.88\n",
      "Skill Moves                 3.04   2.75   2.20\n"
     ]
    }
   ],
   "source": [
    "for i, args in enumerate(zip(columns,goodMean,averageMean,badMean)): \n",
    "    print('{:25} {:6.2f} {:6.2f} {:6.2f}'.format(*args))"
   ]
  },
  {
   "cell_type": "code",
   "execution_count": null,
   "metadata": {},
   "outputs": [],
   "source": []
  },
  {
   "cell_type": "code",
   "execution_count": null,
   "metadata": {},
   "outputs": [],
   "source": []
  },
  {
   "cell_type": "code",
   "execution_count": null,
   "metadata": {},
   "outputs": [],
   "source": []
  }
 ],
 "metadata": {
  "kernelspec": {
   "display_name": "Python 3",
   "language": "python",
   "name": "python3"
  },
  "language_info": {
   "codemirror_mode": {
    "name": "ipython",
    "version": 3
   },
   "file_extension": ".py",
   "mimetype": "text/x-python",
   "name": "python",
   "nbconvert_exporter": "python",
   "pygments_lexer": "ipython3",
   "version": "3.6.6"
  }
 },
 "nbformat": 4,
 "nbformat_minor": 2
}
