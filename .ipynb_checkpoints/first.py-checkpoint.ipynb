{
 "cells": [
  {
   "cell_type": "markdown",
   "metadata": {},
   "source": [
    "## DEEP LEARNING WITH PYTORCH: A 60 MINUTE BLITZ\n"
   ]
  },
  {
   "cell_type": "markdown",
   "metadata": {},
   "source": [
    "#### Tensores\n",
    "Los tensores son similares a los ndarrays de Numpy, en adición, estos pueden ser usados en en la GPU, para agilizar calculos computacionales. "
   ]
  },
  {
   "cell_type": "code",
   "execution_count": 8,
   "metadata": {},
   "outputs": [],
   "source": [
    "from __future__ import print_function \n",
    "import torch"
   ]
  },
  {
   "cell_type": "code",
   "execution_count": 9,
   "metadata": {},
   "outputs": [
    {
     "name": "stdout",
     "output_type": "stream",
     "text": [
      "tensor([[2.1019e-44, 6.7262e-44, 7.4269e-44],\n",
      "        [6.3058e-44, 6.7262e-44, 7.8473e-44],\n",
      "        [1.1771e-43, 6.8664e-44, 7.9874e-44],\n",
      "        [8.1275e-44, 6.7262e-44, 6.7262e-44],\n",
      "        [8.1275e-44, 7.2868e-44, 7.4269e-44]])\n"
     ]
    }
   ],
   "source": [
    "##Vamos a construir un tensor de tamaño 5x3\n",
    "x = torch.empty(5,3)\n",
    "print(x)\n"
   ]
  },
  {
   "cell_type": "code",
   "execution_count": 10,
   "metadata": {},
   "outputs": [
    {
     "name": "stdout",
     "output_type": "stream",
     "text": [
      "tensor([[0.1820, 0.9658, 0.5065, 0.0362],\n",
      "        [0.0875, 0.7306, 0.0241, 0.6117],\n",
      "        [0.7429, 0.1529, 0.5883, 0.3134],\n",
      "        [0.8890, 0.3575, 0.1807, 0.5481]])\n"
     ]
    }
   ],
   "source": [
    "##Para construir un tensor con variables aleatorias\n",
    "xx = torch.rand(4,4)\n",
    "print(xx)"
   ]
  },
  {
   "cell_type": "code",
   "execution_count": 13,
   "metadata": {},
   "outputs": [
    {
     "name": "stdout",
     "output_type": "stream",
     "text": [
      "tensor([[0, 0, 0, 0, 0],\n",
      "        [0, 0, 0, 0, 0],\n",
      "        [0, 0, 0, 0, 0],\n",
      "        [0, 0, 0, 0, 0],\n",
      "        [0, 0, 0, 0, 0]])\n"
     ]
    }
   ],
   "source": [
    "##Para constuir una matriz llena de ceros con tipo de datos Long\n",
    "##Acerca de tipos de datos en Python: https://jakevdp.github.io/PythonDataScienceHandbook/02.01-understanding-data-types.html\n",
    "\n",
    "xxx = torch.zeros(5,5,dtype=torch.long)\n",
    "print(xxx)\n"
   ]
  },
  {
   "cell_type": "code",
   "execution_count": 15,
   "metadata": {},
   "outputs": [
    {
     "name": "stdout",
     "output_type": "stream",
     "text": [
      "tensor([5.5000, 3.0000])\n"
     ]
    }
   ],
   "source": [
    "#Construir un tensor a partir de datos\n",
    "xxxx = torch.tensor([5.5,3])\n",
    "print(xxxx)"
   ]
  },
  {
   "cell_type": "code",
   "execution_count": null,
   "metadata": {},
   "outputs": [],
   "source": []
  }
 ],
 "metadata": {
  "kernelspec": {
   "display_name": "Python 3",
   "language": "python",
   "name": "python3"
  },
  "language_info": {
   "codemirror_mode": {
    "name": "ipython",
    "version": 3
   },
   "file_extension": ".py",
   "mimetype": "text/x-python",
   "name": "python",
   "nbconvert_exporter": "python",
   "pygments_lexer": "ipython3",
   "version": "3.6.6"
  }
 },
 "nbformat": 4,
 "nbformat_minor": 2
}
