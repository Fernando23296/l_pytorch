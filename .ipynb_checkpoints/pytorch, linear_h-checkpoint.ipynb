{
 "cells": [
  {
   "cell_type": "code",
   "execution_count": 3,
   "metadata": {},
   "outputs": [],
   "source": [
    "import torch\n",
    "import numpy as np"
   ]
  },
  {
   "cell_type": "code",
   "execution_count": 4,
   "metadata": {},
   "outputs": [
    {
     "name": "stdout",
     "output_type": "stream",
     "text": [
      "1.1.0\n"
     ]
    }
   ],
   "source": [
    "print(torch.__version__)"
   ]
  },
  {
   "cell_type": "code",
   "execution_count": 20,
   "metadata": {},
   "outputs": [
    {
     "name": "stdout",
     "output_type": "stream",
     "text": [
      "La media del error cuadrado es:  6.0\n",
      "La media del error cuadrado es:  5.7\n",
      "La media del error cuadrado es:  5.4\n",
      "La media del error cuadrado es:  5.1\n",
      "La media del error cuadrado es:  4.8\n",
      "La media del error cuadrado es:  4.5\n",
      "La media del error cuadrado es:  4.2\n",
      "La media del error cuadrado es:  3.9\n",
      "La media del error cuadrado es:  3.6\n",
      "La media del error cuadrado es:  3.3\n",
      "La media del error cuadrado es:  3.0\n",
      "La media del error cuadrado es:  2.7\n",
      "La media del error cuadrado es:  2.3999999999999995\n",
      "La media del error cuadrado es:  2.1\n",
      "La media del error cuadrado es:  1.7999999999999996\n",
      "La media del error cuadrado es:  1.5\n",
      "La media del error cuadrado es:  1.1999999999999997\n",
      "La media del error cuadrado es:  0.8999999999999997\n",
      "La media del error cuadrado es:  0.5999999999999999\n",
      "La media del error cuadrado es:  0.29999999999999977\n",
      "La media del error cuadrado es:  0.0\n",
      "La media del error cuadrado es:  -0.30000000000000027\n",
      "La media del error cuadrado es:  -0.6000000000000003\n",
      "La media del error cuadrado es:  -0.9000000000000007\n",
      "La media del error cuadrado es:  -1.200000000000001\n",
      "La media del error cuadrado es:  -1.5\n",
      "La media del error cuadrado es:  -1.8000000000000003\n",
      "La media del error cuadrado es:  -2.1000000000000005\n",
      "La media del error cuadrado es:  -2.400000000000001\n",
      "La media del error cuadrado es:  -2.700000000000001\n",
      "La media del error cuadrado es:  -3.0\n",
      "La media del error cuadrado es:  -3.3\n",
      "La media del error cuadrado es:  -3.6000000000000005\n",
      "La media del error cuadrado es:  -3.9\n",
      "La media del error cuadrado es:  -4.200000000000001\n",
      "La media del error cuadrado es:  -4.5\n",
      "La media del error cuadrado es:  -4.8\n",
      "La media del error cuadrado es:  -5.1000000000000005\n",
      "La media del error cuadrado es:  -5.4\n",
      "La media del error cuadrado es:  -5.700000000000001\n",
      "La media del error cuadrado es:  -6.0\n"
     ]
    }
   ],
   "source": [
    "x = [1,2,3,4,5]\n",
    "y = [2,4,6,8,10]\n",
    "#w = 2.1\n",
    "eje_error = []\n",
    "\n",
    "tam = len(x)\n",
    "for w in np.arange(0.0,4.1,0.1):\n",
    "    l = 0\n",
    "    for i in range(0,tam):\n",
    "        y_p = x[i]*w\n",
    "\n",
    "        l = l+(y[i] - y_p)\n",
    "        mse = l/tam\n",
    "        #print(y_p)\n",
    "    eje_error.append(mse)\n",
    "    print(\"La media del error cuadrado es: \",mse)\n",
    "    "
   ]
  },
  {
   "cell_type": "code",
   "execution_count": null,
   "metadata": {},
   "outputs": [],
   "source": []
  }
 ],
 "metadata": {
  "kernelspec": {
   "display_name": "Python 3",
   "language": "python",
   "name": "python3"
  },
  "language_info": {
   "codemirror_mode": {
    "name": "ipython",
    "version": 3
   },
   "file_extension": ".py",
   "mimetype": "text/x-python",
   "name": "python",
   "nbconvert_exporter": "python",
   "pygments_lexer": "ipython3",
   "version": "3.6.6"
  }
 },
 "nbformat": 4,
 "nbformat_minor": 2
}
