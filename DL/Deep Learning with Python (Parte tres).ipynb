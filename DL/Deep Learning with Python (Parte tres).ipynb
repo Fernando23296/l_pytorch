{
 "cells": [
  {
   "cell_type": "markdown",
   "metadata": {},
   "source": [
    "### Linear Regression with PyTorch\n",
    "#### Simple Linear Regression Basics\n",
    "Nos permite entender la relacion entre dos variables continuas, donde una es una variable dependiente (y) y otra es independiente (x)\n",
    "###### Objetivo prinicipal\n",
    "Minimizar las distancias de los puntos respecto a la recta. Ajustando el coeficiente y el bias.\n",
    "\n",
    "#### Construir un Model de Regresion Lineal con PyTorch\n",
    "Coeficiente alfa = 2\n",
    "Coeficiente beta = 1\n",
    "Ecuacion = y = 2x+1\n"
   ]
  },
  {
   "cell_type": "code",
   "execution_count": 1,
   "metadata": {},
   "outputs": [],
   "source": [
    "import numpy as np"
   ]
  },
  {
   "cell_type": "code",
   "execution_count": 2,
   "metadata": {},
   "outputs": [
    {
     "data": {
      "text/plain": [
       "[0, 1, 2, 3, 4, 5, 6, 7, 8, 9, 10]"
      ]
     },
     "execution_count": 2,
     "metadata": {},
     "output_type": "execute_result"
    }
   ],
   "source": [
    "x_values = [i for i in range(11)]\n",
    "x_values"
   ]
  },
  {
   "cell_type": "code",
   "execution_count": 3,
   "metadata": {},
   "outputs": [
    {
     "data": {
      "text/plain": [
       "(11,)"
      ]
     },
     "execution_count": 3,
     "metadata": {},
     "output_type": "execute_result"
    }
   ],
   "source": [
    "#lo pasamos a numpy\n",
    "x_train = np.array(x_values, dtype=np.float32)\n",
    "x_train.shape"
   ]
  },
  {
   "cell_type": "code",
   "execution_count": 4,
   "metadata": {},
   "outputs": [
    {
     "data": {
      "text/plain": [
       "(11, 1)"
      ]
     },
     "execution_count": 4,
     "metadata": {},
     "output_type": "execute_result"
    }
   ],
   "source": [
    "#lo convertimos en 2D\n",
    "x_train = x_train.reshape(-1,1)\n",
    "x_train.shape\n"
   ]
  },
  {
   "cell_type": "markdown",
   "metadata": {},
   "source": [
    "<b>y = 2x + 1</b>"
   ]
  },
  {
   "cell_type": "code",
   "execution_count": 9,
   "metadata": {},
   "outputs": [
    {
     "data": {
      "text/plain": [
       "[1, 3, 5, 7, 9, 11, 13, 15, 17, 19, 21]"
      ]
     },
     "execution_count": 9,
     "metadata": {},
     "output_type": "execute_result"
    }
   ],
   "source": [
    "y_values = [2*i + 1 for i in x_values]\n",
    "y_values"
   ]
  },
  {
   "cell_type": "code",
   "execution_count": 11,
   "metadata": {},
   "outputs": [
    {
     "data": {
      "text/plain": [
       "[1, 3, 5, 7, 9, 11, 13, 15, 17, 19, 21]"
      ]
     },
     "execution_count": 11,
     "metadata": {},
     "output_type": "execute_result"
    }
   ],
   "source": [
    "#la manera larga:\n",
    "y_values = []\n",
    "for i in x_values:\n",
    "    result = 2*i + 1\n",
    "    y_values.append(result)\n",
    "\n",
    "y_values"
   ]
  },
  {
   "cell_type": "code",
   "execution_count": 12,
   "metadata": {},
   "outputs": [
    {
     "data": {
      "text/plain": [
       "(11,)"
      ]
     },
     "execution_count": 12,
     "metadata": {},
     "output_type": "execute_result"
    }
   ],
   "source": [
    "y_train = np.array(y_values, dtype=np.float32)\n",
    "y_train.shape"
   ]
  },
  {
   "cell_type": "code",
   "execution_count": 13,
   "metadata": {},
   "outputs": [
    {
     "data": {
      "text/plain": [
       "(11, 1)"
      ]
     },
     "execution_count": 13,
     "metadata": {},
     "output_type": "execute_result"
    }
   ],
   "source": [
    "#Importante: convertir a 2D\n",
    "y_train = y_train.reshape(-1,1)\n",
    "y_train.shape"
   ]
  },
  {
   "cell_type": "markdown",
   "metadata": {},
   "source": [
    "### Creando el Modelo \n",
    "<ul>\n",
    "<li><b>Linear Model</b></li>    \n",
    "    <li>True Equation: y = 2x+1</li>    \n",
    "<li><b>Forward</b></li>    \n",
    "    <li>Ejemplo:</li>    \n",
    "        <li>Input x = 1</li>    \n",
    "        <li>Output y = ?</li>    \n",
    "</ul>"
   ]
  },
  {
   "cell_type": "code",
   "execution_count": 17,
   "metadata": {},
   "outputs": [],
   "source": [
    "import torch\n",
    "import torch.nn as nn\n",
    "from torch.autograd import Variable"
   ]
  },
  {
   "cell_type": "code",
   "execution_count": 21,
   "metadata": {},
   "outputs": [],
   "source": [
    "class LinearRegressionModel(nn.Module):\n",
    "    def __init__(self, input_size, output_size):\n",
    "        super(LinearRegressionModel, self).__init__()\n",
    "        self.linear = nn.Linear(input_dim, output_dim)\n",
    "    def forward(self, x):\n",
    "        out = self.linear(x)\n",
    "        return out\n",
    "    "
   ]
  },
  {
   "cell_type": "markdown",
   "metadata": {},
   "source": [
    "##### Instanciar el Model Class"
   ]
  },
  {
   "cell_type": "markdown",
   "metadata": {},
   "source": [
    "input: [0,1,2,3,4,5,6,7,8,9,10]\n",
    "\n",
    "ouput deseado = [1,3,5,7,9,11,13,15,17,19,21]"
   ]
  },
  {
   "cell_type": "code",
   "execution_count": 35,
   "metadata": {},
   "outputs": [],
   "source": [
    "#definimos las dimensiones \n",
    "input_dim = 1\n",
    "output_dim = 1\n",
    "model = LinearRegressionModel(input_dim, output_dim)"
   ]
  },
  {
   "cell_type": "markdown",
   "metadata": {},
   "source": [
    "##### Instanciaos el Loss Class\n",
    "MSE Loss: Mean Squared Error\n",
    "\n",
    "MSE = 1/n*(sumatoria(y feik - y real))\n"
   ]
  },
  {
   "cell_type": "code",
   "execution_count": 36,
   "metadata": {},
   "outputs": [],
   "source": [
    "criterion = nn.MSELoss()"
   ]
  },
  {
   "cell_type": "markdown",
   "metadata": {},
   "source": [
    "##### Instanciamos Optimizer Class\n",
    "Ecuacion simplificada = teta = teta - n*Triangulo\n",
    "\n",
    "Donde:\n",
    "\n",
    "teta:parametros (nuestras variables(alfa y beta))\n",
    "\n",
    "n = learning rate (que tan rapido va a aprender)\n",
    "\n",
    "triangulo = gradientes de los parametros(?)\n",
    "\n",
    "Ecuacion mas simple aun = parametros = parametros - learning_rate * parameters_gradients\n",
    "\n",
    "parametros: alfa y beta en y = alfa(x) + beta // vamos a estar modificando alfa y beta lo mas optimo posibles\n",
    "\n",
    "parametros deseados: alfa = 2 y beta = 1 en y= 2x +1"
   ]
  },
  {
   "cell_type": "code",
   "execution_count": 37,
   "metadata": {},
   "outputs": [],
   "source": [
    "learning_rate = 0.01\n",
    "optimizer = torch.optim.SGD(model.parameters(), lr = learning_rate)"
   ]
  },
  {
   "cell_type": "markdown",
   "metadata": {},
   "source": [
    "##### ENTRENAR MODELO\n",
    "<ul>\n",
    "    <li><b>1 epoch sondea todo el x_train una vez</b></li>\n",
    "    <li>   100 epochs sondea todo el x_train 100 veces</li>\n",
    "</ul>\n"
   ]
  },
  {
   "cell_type": "code",
   "execution_count": 38,
   "metadata": {},
   "outputs": [],
   "source": [
    "epochs = 100"
   ]
  },
  {
   "cell_type": "code",
   "execution_count": 43,
   "metadata": {},
   "outputs": [
    {
     "name": "stdout",
     "output_type": "stream",
     "text": [
      "epoch 1, loss 0.546671986579895 \n",
      "epoch 2, loss 0.5382681488990784 \n",
      "epoch 3, loss 0.532069742679596 \n",
      "epoch 4, loss 0.5261132717132568 \n",
      "epoch 5, loss 0.5202367901802063 \n",
      "epoch 6, loss 0.514427125453949 \n",
      "epoch 7, loss 0.508682906627655 \n",
      "epoch 8, loss 0.5030019879341125 \n",
      "epoch 9, loss 0.497385174036026 \n",
      "epoch 10, loss 0.49183112382888794 \n",
      "epoch 11, loss 0.48633864521980286 \n",
      "epoch 12, loss 0.48090794682502747 \n",
      "epoch 13, loss 0.4755377471446991 \n",
      "epoch 14, loss 0.47022759914398193 \n",
      "epoch 15, loss 0.4649767279624939 \n",
      "epoch 16, loss 0.4597840905189514 \n",
      "epoch 17, loss 0.4546498656272888 \n",
      "epoch 18, loss 0.44957324862480164 \n",
      "epoch 19, loss 0.44455280900001526 \n",
      "epoch 20, loss 0.4395882487297058 \n",
      "epoch 21, loss 0.43467947840690613 \n",
      "epoch 22, loss 0.4298252761363983 \n",
      "epoch 23, loss 0.4250257909297943 \n",
      "epoch 24, loss 0.42027971148490906 \n",
      "epoch 25, loss 0.4155865013599396 \n",
      "epoch 26, loss 0.4109455347061157 \n",
      "epoch 27, loss 0.40635648369789124 \n",
      "epoch 28, loss 0.4018189013004303 \n",
      "epoch 29, loss 0.39733195304870605 \n",
      "epoch 30, loss 0.39289477467536926 \n",
      "epoch 31, loss 0.38850733637809753 \n",
      "epoch 32, loss 0.3841690719127655 \n",
      "epoch 33, loss 0.3798791468143463 \n",
      "epoch 34, loss 0.37563687562942505 \n",
      "epoch 35, loss 0.37144240736961365 \n",
      "epoch 36, loss 0.367294579744339 \n",
      "epoch 37, loss 0.36319300532341003 \n",
      "epoch 38, loss 0.35913708806037903 \n",
      "epoch 39, loss 0.35512664914131165 \n",
      "epoch 40, loss 0.35116124153137207 \n",
      "epoch 41, loss 0.34724000096321106 \n",
      "epoch 42, loss 0.343362420797348 \n",
      "epoch 43, loss 0.3395281434059143 \n",
      "epoch 44, loss 0.3357366621494293 \n",
      "epoch 45, loss 0.331987589597702 \n",
      "epoch 46, loss 0.32828035950660706 \n",
      "epoch 47, loss 0.32461440563201904 \n",
      "epoch 48, loss 0.32098960876464844 \n",
      "epoch 49, loss 0.3174050748348236 \n",
      "epoch 50, loss 0.3138606548309326 \n",
      "epoch 51, loss 0.31035566329956055 \n",
      "epoch 52, loss 0.3068903386592865 \n",
      "epoch 53, loss 0.3034631907939911 \n",
      "epoch 54, loss 0.30007436871528625 \n",
      "epoch 55, loss 0.29672351479530334 \n",
      "epoch 56, loss 0.29340997338294983 \n",
      "epoch 57, loss 0.29013362526893616 \n",
      "epoch 58, loss 0.2868938744068146 \n",
      "epoch 59, loss 0.2836899161338806 \n",
      "epoch 60, loss 0.28052201867103577 \n",
      "epoch 61, loss 0.277389258146286 \n",
      "epoch 62, loss 0.2742920517921448 \n",
      "epoch 63, loss 0.2712291181087494 \n",
      "epoch 64, loss 0.2682003378868103 \n",
      "epoch 65, loss 0.26520541310310364 \n",
      "epoch 66, loss 0.26224398612976074 \n",
      "epoch 67, loss 0.25931552052497864 \n",
      "epoch 68, loss 0.2564195990562439 \n",
      "epoch 69, loss 0.25355619192123413 \n",
      "epoch 70, loss 0.25072479248046875 \n",
      "epoch 71, loss 0.24792508780956268 \n",
      "epoch 72, loss 0.2451564073562622 \n",
      "epoch 73, loss 0.24241873621940613 \n",
      "epoch 74, loss 0.23971183598041534 \n",
      "epoch 75, loss 0.23703470826148987 \n",
      "epoch 76, loss 0.23438802361488342 \n",
      "epoch 77, loss 0.23177069425582886 \n",
      "epoch 78, loss 0.2291824072599411 \n",
      "epoch 79, loss 0.22662310302257538 \n",
      "epoch 80, loss 0.22409243881702423 \n",
      "epoch 81, loss 0.2215901017189026 \n",
      "epoch 82, loss 0.21911561489105225 \n",
      "epoch 83, loss 0.21666891872882843 \n",
      "epoch 84, loss 0.21424944698810577 \n",
      "epoch 85, loss 0.21185705065727234 \n",
      "epoch 86, loss 0.2094910889863968 \n",
      "epoch 87, loss 0.2071518748998642 \n",
      "epoch 88, loss 0.20483845472335815 \n",
      "epoch 89, loss 0.20255091786384583 \n",
      "epoch 90, loss 0.20028920471668243 \n",
      "epoch 91, loss 0.19805240631103516 \n",
      "epoch 92, loss 0.19584092497825623 \n",
      "epoch 93, loss 0.19365395605564117 \n",
      "epoch 94, loss 0.19149161875247955 \n",
      "epoch 95, loss 0.18935325741767883 \n",
      "epoch 96, loss 0.18723875284194946 \n",
      "epoch 97, loss 0.18514783680438995 \n",
      "epoch 98, loss 0.18308044970035553 \n",
      "epoch 99, loss 0.18103580176830292 \n",
      "epoch 100, loss 0.17901436984539032 \n"
     ]
    }
   ],
   "source": [
    "for epoch in range(epochs):\n",
    "    epoch +=1\n",
    "    # Convertir el array numpy a una variable Torch \n",
    "    inputs = Variable(torch.from_numpy(x_train))\n",
    "    labels = Variable(torch.from_numpy(y_train))\n",
    "    \n",
    "    #limpiar las gradientes relacionadas a los parametros para que no se acumule\n",
    "    optimizer.zero_grad()\n",
    "    \n",
    "    #Forward para obtener el output\n",
    "    outputs = model(inputs)\n",
    "    \n",
    "    #calcular el loss\n",
    "    loss = criterion(outputs, labels)\n",
    "    \n",
    "    #Obtener las gradientes con respecto a los parametros\n",
    "    loss.backward()\n",
    "    \n",
    "    #Actualizar los parametros\n",
    "    optimizer.step()\n",
    "    \n",
    "    print(\"epoch {}, loss {} \".format(epoch, loss.data)) #en pytorch arriba de 0.5 se pone directo loss.data sin el \"[0]\": https://github.com/NVIDIA/flownet2-pytorch/issues/113\n",
    "    "
   ]
  },
  {
   "cell_type": "code",
   "execution_count": 46,
   "metadata": {},
   "outputs": [
    {
     "data": {
      "text/plain": [
       "array([[ 0.2129467],\n",
       "       [ 2.3262894],\n",
       "       [ 4.4396324],\n",
       "       [ 6.552975 ],\n",
       "       [ 8.666318 ],\n",
       "       [10.77966  ],\n",
       "       [12.893003 ],\n",
       "       [15.006347 ],\n",
       "       [17.119688 ],\n",
       "       [19.23303  ],\n",
       "       [21.346373 ]], dtype=float32)"
      ]
     },
     "execution_count": 46,
     "metadata": {},
     "output_type": "execute_result"
    }
   ],
   "source": [
    "predicted = model(Variable(torch.from_numpy(x_train))).data.numpy()\n",
    "predicted"
   ]
  },
  {
   "cell_type": "code",
   "execution_count": 47,
   "metadata": {},
   "outputs": [
    {
     "data": {
      "text/plain": [
       "array([[ 1.],\n",
       "       [ 3.],\n",
       "       [ 5.],\n",
       "       [ 7.],\n",
       "       [ 9.],\n",
       "       [11.],\n",
       "       [13.],\n",
       "       [15.],\n",
       "       [17.],\n",
       "       [19.],\n",
       "       [21.]], dtype=float32)"
      ]
     },
     "execution_count": 47,
     "metadata": {},
     "output_type": "execute_result"
    }
   ],
   "source": [
    "y_train\n"
   ]
  },
  {
   "cell_type": "markdown",
   "metadata": {},
   "source": [
    "#### PLOT GRAPH \n"
   ]
  },
  {
   "cell_type": "code",
   "execution_count": 49,
   "metadata": {},
   "outputs": [],
   "source": [
    "import matplotlib\n",
    "import numpy as np\n",
    "import matplotlib.pyplot as plt\n",
    "%matplotlib inline  "
   ]
  },
  {
   "cell_type": "code",
   "execution_count": 51,
   "metadata": {},
   "outputs": [
    {
     "data": {
      "image/png": "[encoded data removed]",
      "text/plain": [
       "<Figure size 432x288 with 1 Axes>"
      ]
     },
     "metadata": {
      "needs_background": "light"
     },
     "output_type": "display_data"
    }
   ],
   "source": [
    "#limpiar la figura(?)\n",
    "plt.clf()\n",
    "\n",
    "#Get predictions\n",
    "predicted = model(Variable(torch.from_numpy(x_train))).data.numpy()\n",
    "\n",
    "#Plot true data\n",
    "plt.plot(x_train, y_train, 'go', label='True data', alpha=0.5)\n",
    "\n",
    "#Plot predictions\n",
    "plt.plot(x_train, predicted, '--', label='Predictions', alpha =0.5)\n",
    "\n",
    "#Legend and plot\n",
    "plt.legend(loc='best')\n",
    "plt.show()"
   ]
  },
  {
   "cell_type": "markdown",
   "metadata": {},
   "source": [
    "#### Save model"
   ]
  },
  {
   "cell_type": "code",
   "execution_count": 53,
   "metadata": {},
   "outputs": [],
   "source": [
    "save_model = False\n",
    "if save_model is True:\n",
    "    #save only parameters\n",
    "    torch.save(model.state_dict(), 'awesome_model.pkl')"
   ]
  },
  {
   "cell_type": "markdown",
   "metadata": {},
   "source": [
    "#### Load model"
   ]
  },
  {
   "cell_type": "code",
   "execution_count": 54,
   "metadata": {},
   "outputs": [],
   "source": [
    "load_model = False\n",
    "if load_model is True:\n",
    "    model.load_state_dict(torch.load('awesome_model.pkl'))"
   ]
  },
  {
   "cell_type": "code",
   "execution_count": null,
   "metadata": {},
   "outputs": [],
   "source": []
  }
 ],
 "metadata": {
  "kernelspec": {
   "display_name": "Python 3",
   "language": "python",
   "name": "python3"
  },
  "language_info": {
   "codemirror_mode": {
    "name": "ipython",
    "version": 3
   },
   "file_extension": ".py",
   "mimetype": "text/x-python",
   "name": "python",
   "nbconvert_exporter": "python",
   "pygments_lexer": "ipython3",
   "version": "3.6.6"
  }
 },
 "nbformat": 4,
 "nbformat_minor": 2
}
