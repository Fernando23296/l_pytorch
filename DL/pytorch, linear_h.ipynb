{
 "cells": [
  {
   "cell_type": "code",
   "execution_count": 57,
   "metadata": {},
   "outputs": [],
   "source": [
    "import torch\n",
    "import numpy as np\n"
   ]
  },
  {
   "cell_type": "code",
   "execution_count": 58,
   "metadata": {},
   "outputs": [
    {
     "name": "stdout",
     "output_type": "stream",
     "text": [
      "1.1.0\n"
     ]
    }
   ],
   "source": [
    "print(torch.__version__)\n"
   ]
  },
  {
   "cell_type": "code",
   "execution_count": null,
   "metadata": {},
   "outputs": [],
   "source": []
  },
  {
   "cell_type": "code",
   "execution_count": 59,
   "metadata": {},
   "outputs": [
    {
     "name": "stdout",
     "output_type": "stream",
     "text": [
      "La media del error cuadrado es:  44.0\n",
      "La media del error cuadrado es:  39.71\n",
      "La media del error cuadrado es:  35.64\n",
      "La media del error cuadrado es:  31.79\n",
      "La media del error cuadrado es:  28.160000000000004\n",
      "La media del error cuadrado es:  24.75\n",
      "La media del error cuadrado es:  21.559999999999995\n",
      "La media del error cuadrado es:  18.589999999999996\n",
      "La media del error cuadrado es:  15.839999999999998\n",
      "La media del error cuadrado es:  13.309999999999999\n",
      "La media del error cuadrado es:  11.0\n",
      "La media del error cuadrado es:  8.91\n",
      "La media del error cuadrado es:  7.0399999999999965\n",
      "La media del error cuadrado es:  5.389999999999999\n",
      "La media del error cuadrado es:  3.959999999999998\n",
      "La media del error cuadrado es:  2.75\n",
      "La media del error cuadrado es:  1.7599999999999993\n",
      "La media del error cuadrado es:  0.9899999999999993\n",
      "La media del error cuadrado es:  0.43999999999999984\n",
      "La media del error cuadrado es:  0.10999999999999988\n",
      "La media del error cuadrado es:  0.0\n",
      "La media del error cuadrado es:  0.11000000000000017\n",
      "La media del error cuadrado es:  0.4400000000000004\n",
      "La media del error cuadrado es:  0.990000000000002\n",
      "La media del error cuadrado es:  1.760000000000003\n",
      "La media del error cuadrado es:  2.75\n",
      "La media del error cuadrado es:  3.960000000000001\n",
      "La media del error cuadrado es:  5.390000000000002\n",
      "La media del error cuadrado es:  7.0400000000000045\n",
      "La media del error cuadrado es:  8.910000000000007\n",
      "La media del error cuadrado es:  11.0\n",
      "La media del error cuadrado es:  13.310000000000002\n",
      "La media del error cuadrado es:  15.840000000000003\n",
      "La media del error cuadrado es:  18.590000000000003\n",
      "La media del error cuadrado es:  21.560000000000006\n",
      "La media del error cuadrado es:  24.75\n",
      "La media del error cuadrado es:  28.160000000000004\n",
      "La media del error cuadrado es:  31.79000000000001\n",
      "La media del error cuadrado es:  35.64000000000001\n",
      "La media del error cuadrado es:  39.71000000000001\n",
      "La media del error cuadrado es:  44.0\n",
      "[44.0, 39.71, 35.64, 31.79, 28.160000000000004, 24.75, 21.559999999999995, 18.589999999999996, 15.839999999999998, 13.309999999999999, 11.0, 8.91, 7.0399999999999965, 5.389999999999999, 3.959999999999998, 2.75, 1.7599999999999993, 0.9899999999999993, 0.43999999999999984, 0.10999999999999988, 0.0, 0.11000000000000017, 0.4400000000000004, 0.990000000000002, 1.760000000000003, 2.75, 3.960000000000001, 5.390000000000002, 7.0400000000000045, 8.910000000000007, 11.0, 13.310000000000002, 15.840000000000003, 18.590000000000003, 21.560000000000006, 24.75, 28.160000000000004, 31.79000000000001, 35.64000000000001, 39.71000000000001, 44.0]\n"
     ]
    }
   ],
   "source": [
    "x = [1,2,3,4,5]\n",
    "y = [2,4,6,8,10]\n",
    "#w = 2.1\n",
    "eje_error = []\n",
    "eje_w = []\n",
    "\n",
    "tam = len(x)\n",
    "for w in np.arange(0.0,4.1,0.1):\n",
    "    l = 0\n",
    "    for i in range(0,tam):\n",
    "        y_p = x[i]*w\n",
    "\n",
    "        l = l+((y[i] - y_p)**2)\n",
    "        mse = l/tam\n",
    "        #print(y_p)\n",
    "    eje_error.append(mse)\n",
    "    eje_w.append(w)\n",
    "    print(\"La media del error cuadrado es: \",mse)\n",
    "\n",
    "print(eje_error)\n",
    "\n",
    "    "
   ]
  },
  {
   "cell_type": "code",
   "execution_count": 60,
   "metadata": {},
   "outputs": [
    {
     "data": {
      "text/plain": [
       "41"
      ]
     },
     "execution_count": 60,
     "metadata": {},
     "output_type": "execute_result"
    }
   ],
   "source": [
    "len(eje_w)\n"
   ]
  },
  {
   "cell_type": "code",
   "execution_count": 61,
   "metadata": {},
   "outputs": [
    {
     "data": {
      "text/plain": [
       "41"
      ]
     },
     "execution_count": 61,
     "metadata": {},
     "output_type": "execute_result"
    }
   ],
   "source": [
    "len(eje_error)"
   ]
  },
  {
   "cell_type": "code",
   "execution_count": 62,
   "metadata": {},
   "outputs": [
    {
     "data": {
      "image/png": "[encoded data removed]",
      "text/plain": [
       "<Figure size 432x288 with 1 Axes>"
      ]
     },
     "metadata": {
      "needs_background": "light"
     },
     "output_type": "display_data"
    }
   ],
   "source": [
    "import matplotlib.pyplot as plt\n",
    "%matplotlib inline\n",
    "plt.plot(eje_w, eje_error)\n",
    "\n",
    "plt.show()"
   ]
  },
  {
   "cell_type": "code",
   "execution_count": null,
   "metadata": {},
   "outputs": [],
   "source": []
  }
 ],
 "metadata": {
  "kernelspec": {
   "display_name": "Python 3",
   "language": "python",
   "name": "python3"
  },
  "language_info": {
   "codemirror_mode": {
    "name": "ipython",
    "version": 3
   },
   "file_extension": ".py",
   "mimetype": "text/x-python",
   "name": "python",
   "nbconvert_exporter": "python",
   "pygments_lexer": "ipython3",
   "version": "3.6.6"
  }
 },
 "nbformat": 4,
 "nbformat_minor": 2
}
