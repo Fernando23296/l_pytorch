{
 "cells": [
  {
   "cell_type": "markdown",
   "metadata": {},
   "source": [
    "### Linear Regression with PyTorch\n",
    "#### Simple Linear Regression Basics\n",
    "Nos permite entender la relacion entre dos variables continuas, donde una es una variable dependiente (y) y otra es independiente (x)\n",
    "###### Objetivo prinicipal\n",
    "Minimizar las distancias de los puntos respecto a la recta. Ajustando el coeficiente y el bias.\n",
    "\n",
    "#### Construir un Model de Regresion Lineal con PyTorch\n",
    "\n"
   ]
  },
  {
   "cell_type": "code",
   "execution_count": null,
   "metadata": {},
   "outputs": [],
   "source": []
  }
 ],
 "metadata": {
  "kernelspec": {
   "display_name": "Python 3",
   "language": "python",
   "name": "python3"
  },
  "language_info": {
   "codemirror_mode": {
    "name": "ipython",
    "version": 3
   },
   "file_extension": ".py",
   "mimetype": "text/x-python",
   "name": "python",
   "nbconvert_exporter": "python",
   "pygments_lexer": "ipython3",
   "version": "3.6.6"
  }
 },
 "nbformat": 4,
 "nbformat_minor": 2
}
