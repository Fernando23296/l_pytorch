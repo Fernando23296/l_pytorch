{
 "cells": [
  {
   "cell_type": "markdown",
   "metadata": {},
   "source": [
    "## a ) Computation Graphs and Automatic Differentiation"
   ]
  },
  {
   "cell_type": "code",
   "execution_count": 4,
   "metadata": {},
   "outputs": [
    {
     "data": {
      "text/plain": [
       "<torch._C.Generator at 0x116a0b750>"
      ]
     },
     "execution_count": 4,
     "metadata": {},
     "output_type": "execute_result"
    }
   ],
   "source": [
    "import torch\n",
    "import torch.autograd as autograd\n",
    "import torch.nn as nn\n",
    "import torch.nn.functional as F\n",
    "import torch.optim as optim\n",
    "\n",
    "torch.manual_seed(1)"
   ]
  },
  {
   "cell_type": "code",
   "execution_count": 5,
   "metadata": {},
   "outputs": [
    {
     "name": "stdout",
     "output_type": "stream",
     "text": [
      "tensor([5., 7., 9.], grad_fn=<AddBackward0>)\n",
      "<AddBackward0 object at 0x110f1abe0>\n"
     ]
    }
   ],
   "source": [
    "# Le añadimos requires_grad =  True\n",
    "x = torch.tensor([1., 2., 3], requires_grad=True)\n",
    "\n",
    "# con requires_grad, se puede seguir haciendo las operaciones de antes\n",
    "y = torch.tensor([4., 5., 6], requires_grad=True)\n",
    "z = x + y\n",
    "print(z)\n",
    "\n",
    "# Pero ahora z sabe algo extra\n",
    "print(z.grad_fn)"
   ]
  },
  {
   "cell_type": "markdown",
   "metadata": {},
   "source": [
    "Entonces los tensores saben lo que los creó. \n",
    "z sabe que no se leyó desde un archivo, no fue el resultado de una multiplicación o exponencial o lo que sea. (sabe que es producto de una suma -> \"AddBackward0\") \n",
    "Y si sigue siguiendo z.grad_fn, se encontrará en x e y.\n",
    "\n",
    "Pero, ¿cómo nos ayuda eso a calcular un gradiente?"
   ]
  },
  {
   "cell_type": "code",
   "execution_count": 13,
   "metadata": {},
   "outputs": [
    {
     "name": "stdout",
     "output_type": "stream",
     "text": [
      "tensor(21., grad_fn=<SumBackward0>)\n",
      "<SumBackward0 object at 0x110f1aa58>\n"
     ]
    }
   ],
   "source": [
    "# Sumamos todas sus entradas\n",
    "s = z.sum()\n",
    "print(s)\n",
    "print(s.grad_fn)"
   ]
  },
  {
   "cell_type": "markdown",
   "metadata": {},
   "source": [
    "Entonces, ¿cuál es la derivada de esta suma con respecto al primer componente de x? En matemáticas, queremos:\n",
    "                            ∂s/∂x0"
   ]
  },
  {
   "cell_type": "markdown",
   "metadata": {},
   "source": [
    "\"s\" sabe que fue creado como una suma del tensor \"z\". \n",
    "\n",
    "\"z\" sabe que fue la suma \"x\" + \"y\". Asi que"
   ]
  },
  {
   "cell_type": "markdown",
   "metadata": {},
   "source": [
    "s=(x0+y0)[dieron z0]+(x1+y1)[dieron z1]+(x2+y2)[dieron z2]"
   ]
  },
  {
   "cell_type": "markdown",
   "metadata": {},
   "source": [
    "Entonces \"s\" contiene suficiente información para determinar que la derivada que queremos es 1 (?)\n",
    "\n",
    "Por supuesto, esto pasa por alto el desafío de cómo calcular realmente esa derivada. El punto aquí es que s lleva consigo suficiente información como para poder calcularla. En realidad, los desarrolladores de Pytorch programan las operaciones \"sum ()\" y \"+\" para saber cómo calcular sus gradientes y ejecutar el algoritmo de propagación inversa. Una discusión en profundidad de ese algoritmo está más allá del alcance de este tutorial.\n",
    "\n",
    "Hagamos que Pytorch calcule el gradiente y veamos que teníamos razón: (tenga en cuenta que si ejecuta este bloque varias veces, el gradiente se incrementará. Esto se debe a que Pytorch acumula el gradiente en la propiedad .grad, ya que para muchos modelos esto es muy conveniente .)"
   ]
  },
  {
   "cell_type": "code",
   "execution_count": 15,
   "metadata": {},
   "outputs": [
    {
     "name": "stdout",
     "output_type": "stream",
     "text": [
      "tensor([7., 7., 7.])\n"
     ]
    }
   ],
   "source": [
    "'''\n",
    "llamar a .backward () en cualquier variable \n",
    "ejecutará backprop, comenzando desde él.\n",
    "'''\n",
    "s.backward()\n",
    "print(x.grad)\n",
    "# si lo volvemos a hacer correr, seguira incrementandose"
   ]
  },
  {
   "cell_type": "markdown",
   "metadata": {},
   "source": [
    "## b ) Gradients with Python"
   ]
  },
  {
   "cell_type": "markdown",
   "metadata": {},
   "source": [
    "<u>Tensors with Gradients</u>\n",
    "* Crear tensores con gradientes: Permite acumular gradientes"
   ]
  },
  {
   "cell_type": "code",
   "execution_count": 17,
   "metadata": {},
   "outputs": [],
   "source": [
    "import torch"
   ]
  },
  {
   "cell_type": "code",
   "execution_count": 18,
   "metadata": {},
   "outputs": [],
   "source": [
    "a = torch.ones((2, 2), requires_grad=True)"
   ]
  },
  {
   "cell_type": "code",
   "execution_count": 19,
   "metadata": {},
   "outputs": [
    {
     "data": {
      "text/plain": [
       "tensor([[1., 1.],\n",
       "        [1., 1.]], requires_grad=True)"
      ]
     },
     "execution_count": 19,
     "metadata": {},
     "output_type": "execute_result"
    }
   ],
   "source": [
    "a"
   ]
  },
  {
   "cell_type": "code",
   "execution_count": 20,
   "metadata": {},
   "outputs": [
    {
     "data": {
      "text/plain": [
       "True"
      ]
     },
     "execution_count": 20,
     "metadata": {},
     "output_type": "execute_result"
    }
   ],
   "source": [
    "a.requires_grad"
   ]
  },
  {
   "cell_type": "code",
   "execution_count": 21,
   "metadata": {},
   "outputs": [
    {
     "data": {
      "text/plain": [
       "True"
      ]
     },
     "execution_count": 21,
     "metadata": {},
     "output_type": "execute_result"
    }
   ],
   "source": [
    "#Otro modo\n",
    "a = torch.ones((2, 2))\n",
    "\n",
    "#le pone por default:\n",
    "a.requires_grad_()\n",
    "\n",
    "# Revisa si requiere gradientes\n",
    "a.requires_grad"
   ]
  },
  {
   "cell_type": "code",
   "execution_count": 23,
   "metadata": {},
   "outputs": [
    {
     "data": {
      "text/plain": [
       "False"
      ]
     },
     "execution_count": 23,
     "metadata": {},
     "output_type": "execute_result"
    }
   ],
   "source": [
    "#Esto no es una variable (no requiere gradientes)\n",
    "no_gradient = torch.ones(2, 2)\n",
    "\n",
    "no_gradient.requires_grad"
   ]
  },
  {
   "cell_type": "code",
   "execution_count": 24,
   "metadata": {},
   "outputs": [
    {
     "name": "stdout",
     "output_type": "stream",
     "text": [
      "tensor([[2., 2.],\n",
      "        [2., 2.]], grad_fn=<AddBackward0>)\n",
      "tensor([[2., 2.],\n",
      "        [2., 2.]], grad_fn=<AddBackward0>)\n"
     ]
    }
   ],
   "source": [
    "#Con gradientes, puede realizar lo mismo que el tensor comun\n",
    "b = torch.ones((2, 2), requires_grad=True)\n",
    "print(a + b)\n",
    "print(torch.add(a, b))"
   ]
  },
  {
   "cell_type": "code",
   "execution_count": 25,
   "metadata": {},
   "outputs": [
    {
     "name": "stdout",
     "output_type": "stream",
     "text": [
      "tensor([[1., 1.],\n",
      "        [1., 1.]], grad_fn=<MulBackward0>)\n",
      "tensor([[1., 1.],\n",
      "        [1., 1.]], grad_fn=<MulBackward0>)\n"
     ]
    }
   ],
   "source": [
    "#absolutamente como cualquier tensor\n",
    "print(a * b)\n",
    "print(torch.mul(a, b))"
   ]
  },
  {
   "cell_type": "markdown",
   "metadata": {},
   "source": [
    "### Pero que es realmente requires_grad\n",
    "Permite el calculo de gradientes w.r.t. Eltensor que permite todas las acumulaciones de las gradientes(?)\n",
    "<br>"
   ]
  },
  {
   "cell_type": "code",
   "execution_count": 36,
   "metadata": {},
   "outputs": [
    {
     "data": {
      "text/plain": [
       "tensor([1., 1.], requires_grad=True)"
      ]
     },
     "execution_count": 36,
     "metadata": {},
     "output_type": "execute_result"
    }
   ],
   "source": [
    "x = torch.ones(2, requires_grad=True)\n",
    "x"
   ]
  },
  {
   "cell_type": "code",
   "execution_count": 27,
   "metadata": {},
   "outputs": [
    {
     "data": {
      "text/plain": [
       "tensor([20., 20.], grad_fn=<MulBackward0>)"
      ]
     },
     "execution_count": 27,
     "metadata": {},
     "output_type": "execute_result"
    }
   ],
   "source": [
    "#y = 5*(xi+1)^2\n",
    "y = 5 * (x + 1) ** 2\n",
    "y"
   ]
  },
  {
   "cell_type": "markdown",
   "metadata": {},
   "source": [
    "Backward debe llamarse solo en un escalar (es decir, tensor de 1 elemento) o con gradiente w.r.t. La variable\n",
    "\n",
    "Entonces reduzcamos y a un escalar ...\n",
    "\n",
    "o = 1/2*(Sumatoria(yi))"
   ]
  },
  {
   "cell_type": "code",
   "execution_count": 29,
   "metadata": {},
   "outputs": [
    {
     "data": {
      "text/plain": [
       "tensor(20., grad_fn=<MulBackward0>)"
      ]
     },
     "execution_count": 29,
     "metadata": {},
     "output_type": "execute_result"
    }
   ],
   "source": [
    "o = (1/2) * torch.sum(y)\n",
    "o"
   ]
  },
  {
   "cell_type": "code",
   "execution_count": 31,
   "metadata": {},
   "outputs": [],
   "source": [
    "o.backward()"
   ]
  },
  {
   "cell_type": "code",
   "execution_count": 35,
   "metadata": {},
   "outputs": [
    {
     "data": {
      "text/plain": [
       "tensor([10., 10.])"
      ]
     },
     "execution_count": 35,
     "metadata": {},
     "output_type": "execute_result"
    }
   ],
   "source": [
    "x.grad\n"
   ]
  },
  {
   "cell_type": "markdown",
   "metadata": {},
   "source": [
    "### Prueba con otro x "
   ]
  },
  {
   "cell_type": "code",
   "execution_count": 46,
   "metadata": {},
   "outputs": [],
   "source": [
    "xx = torch.tensor([1.0,2.0], requires_grad=True)"
   ]
  },
  {
   "cell_type": "code",
   "execution_count": 47,
   "metadata": {},
   "outputs": [
    {
     "data": {
      "text/plain": [
       "tensor([20., 45.], grad_fn=<MulBackward0>)"
      ]
     },
     "execution_count": 47,
     "metadata": {},
     "output_type": "execute_result"
    }
   ],
   "source": [
    "yy = 5 * (xx + 1) ** 2\n",
    "yy"
   ]
  },
  {
   "cell_type": "code",
   "execution_count": 48,
   "metadata": {},
   "outputs": [
    {
     "data": {
      "text/plain": [
       "tensor(32.5000, grad_fn=<MulBackward0>)"
      ]
     },
     "execution_count": 48,
     "metadata": {},
     "output_type": "execute_result"
    }
   ],
   "source": [
    "oo = (1/2) * torch.sum(yy)\n",
    "oo"
   ]
  },
  {
   "cell_type": "code",
   "execution_count": 49,
   "metadata": {},
   "outputs": [
    {
     "data": {
      "text/plain": [
       "tensor([10., 15.])"
      ]
     },
     "execution_count": 49,
     "metadata": {},
     "output_type": "execute_result"
    }
   ],
   "source": [
    "oo.backward()\n",
    "xx.grad"
   ]
  },
  {
   "cell_type": "markdown",
   "metadata": {},
   "source": [
    "![](img/explicacion.jpg)"
   ]
  },
  {
   "cell_type": "code",
   "execution_count": null,
   "metadata": {},
   "outputs": [],
   "source": []
  }
 ],
 "metadata": {
  "kernelspec": {
   "display_name": "Python 3",
   "language": "python",
   "name": "python3"
  },
  "language_info": {
   "codemirror_mode": {
    "name": "ipython",
    "version": 3
   },
   "file_extension": ".py",
   "mimetype": "text/x-python",
   "name": "python",
   "nbconvert_exporter": "python",
   "pygments_lexer": "ipython3",
   "version": "3.6.6"
  }
 },
 "nbformat": 4,
 "nbformat_minor": 2
}
