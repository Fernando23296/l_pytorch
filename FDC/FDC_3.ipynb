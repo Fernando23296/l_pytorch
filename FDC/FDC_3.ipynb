{
 "cells": [
  {
   "cell_type": "markdown",
   "metadata": {},
   "source": [
    "## REGRESIÓN LOGÍSTICA"
   ]
  },
  {
   "cell_type": "markdown",
   "metadata": {},
   "source": [
    "* sigmoide\n",
    "* softmax (con mas parametros)\n",
    "* loss (ya no MSE)\n",
    "* funcion de perdida ahora, es logaritmo (investigar por que) // bianry cross entropy, log loss "
   ]
  },
  {
   "cell_type": "code",
   "execution_count": 10,
   "metadata": {},
   "outputs": [],
   "source": [
    "import numpy as np\n",
    "import matplotlib.pyplot as plt"
   ]
  },
  {
   "cell_type": "code",
   "execution_count": 11,
   "metadata": {},
   "outputs": [
    {
     "data": {
      "text/plain": [
       "array([[ 2.90314318,  1.08674134],\n",
       "       [ 1.6900898 ,  3.68194039],\n",
       "       [-0.07100784,  1.48634947],\n",
       "       [ 1.90958973,  7.28611273],\n",
       "       [ 0.13428667,  3.72277142],\n",
       "       [ 4.49397776, -2.60135812],\n",
       "       [-1.71647489, -0.2426364 ],\n",
       "       [-3.48710003, -0.4915419 ],\n",
       "       [ 2.22931061, -0.22288475],\n",
       "       [ 1.60771234,  2.74258526],\n",
       "       [ 0.91336604, -2.63806609],\n",
       "       [-2.23672803, -3.55961945],\n",
       "       [-6.63524133, -1.15203777],\n",
       "       [-1.35026217, -0.42670648],\n",
       "       [ 0.57500196,  4.52805364],\n",
       "       [-7.55500839,  0.88894334],\n",
       "       [ 2.21994159,  4.89276985],\n",
       "       [ 2.16105058, -3.59311415],\n",
       "       [-0.67812472,  0.54483829],\n",
       "       [-0.71037839,  1.65535578],\n",
       "       [ 9.58824103,  2.44574024],\n",
       "       [-0.59044674, -0.33715559],\n",
       "       [-3.3138099 , -0.14404328],\n",
       "       [ 2.0155635 ,  2.5459759 ],\n",
       "       [ 2.74680112, -1.51769627],\n",
       "       [ 0.52612253,  4.51361989],\n",
       "       [ 0.99465617,  2.66233382],\n",
       "       [ 3.08085795,  0.87538996],\n",
       "       [-1.05368854, -1.20966826],\n",
       "       [-2.54914574,  0.57722173],\n",
       "       [-2.23095165,  2.34823799],\n",
       "       [-3.75048825, -1.27166437],\n",
       "       [ 0.39862315, -2.19258366],\n",
       "       [-1.88534389,  3.3114424 ],\n",
       "       [-0.0295492 ,  1.46749132],\n",
       "       [ 3.83327565,  4.59326194],\n",
       "       [-1.34274304,  0.13038139],\n",
       "       [ 2.88648032, -6.91037034],\n",
       "       [-2.16570549,  2.227383  ],\n",
       "       [ 2.53690179,  3.82569934],\n",
       "       [ 3.51648638,  7.35895782],\n",
       "       [ 2.05341788, -3.81755665],\n",
       "       [ 1.76767154, -1.49048616],\n",
       "       [ 0.19209588,  4.24126401],\n",
       "       [ 6.09743043,  1.24462819],\n",
       "       [-0.40049547,  6.10068706],\n",
       "       [-2.17804933,  1.59957501],\n",
       "       [-2.81342871, -1.84144357],\n",
       "       [ 1.88824811,  3.88328401],\n",
       "       [-6.64816932, -4.66631196],\n",
       "       [-6.72380727, -0.77208577],\n",
       "       [ 1.84747985, -2.09881276],\n",
       "       [-2.77618479,  0.30594908],\n",
       "       [ 7.37506913, -5.14005733],\n",
       "       [-2.64953054, -4.05094705],\n",
       "       [ 2.89925623, -0.90644353],\n",
       "       [ 3.99224947, -0.19330142],\n",
       "       [-0.62870388,  1.59895614],\n",
       "       [-3.46986362, -1.1612271 ],\n",
       "       [ 0.13046718,  3.34717863],\n",
       "       [ 0.88267438, -1.62423448],\n",
       "       [-0.81396384, -2.02684412],\n",
       "       [-0.79673162, -2.0125622 ],\n",
       "       [ 0.95080632, -1.84475267],\n",
       "       [-4.84590155, -5.29542589],\n",
       "       [-3.16420898, -3.73631096],\n",
       "       [-1.10180934, -3.17768873],\n",
       "       [ 6.57009457,  2.40588201],\n",
       "       [-3.44246761, -1.66029917],\n",
       "       [ 0.50669676,  2.21368104],\n",
       "       [-0.05768916,  1.56518208],\n",
       "       [ 0.10716399,  3.03029034],\n",
       "       [-1.22296476,  3.38589308],\n",
       "       [-2.23247526,  4.03601991],\n",
       "       [ 2.1227291 ,  2.83347629],\n",
       "       [-1.07441385, -4.12511819],\n",
       "       [ 4.03438202, -4.13950543],\n",
       "       [-9.86328474,  1.88387731],\n",
       "       [ 0.28343337, -2.56733673],\n",
       "       [-1.58589012, -0.98729014],\n",
       "       [ 1.16137667,  4.64378286],\n",
       "       [ 1.53919516,  1.54044579],\n",
       "       [-1.73416837, -2.41091628],\n",
       "       [-3.01259039,  0.65629362],\n",
       "       [-0.23682858, -1.13205266],\n",
       "       [-2.54845078,  0.75605761],\n",
       "       [-1.42360645,  1.96193459],\n",
       "       [ 1.05757025,  2.66804242],\n",
       "       [-2.72351532,  1.405454  ],\n",
       "       [ 1.92577173,  0.56276357],\n",
       "       [ 2.45341081,  0.33919875],\n",
       "       [ 0.17712094,  4.49850606],\n",
       "       [-3.56531196, -4.38780218],\n",
       "       [ 0.38809149, -1.07124493],\n",
       "       [-0.51932509, -4.69487624],\n",
       "       [-0.87636494, -0.39768511],\n",
       "       [ 2.5907274 , -3.33774907],\n",
       "       [ 4.77449241, -2.79433187],\n",
       "       [-3.63314685, -1.97252833],\n",
       "       [ 2.42135834,  2.18438553]])"
      ]
     },
     "execution_count": 11,
     "metadata": {},
     "output_type": "execute_result"
    }
   ],
   "source": [
    "n = 100\n",
    "h = n//2\n",
    "dimen = 2\n",
    "data = np.random.randn(n,dimen)*3\n",
    "data"
   ]
  },
  {
   "cell_type": "code",
   "execution_count": null,
   "metadata": {},
   "outputs": [],
   "source": []
  },
  {
   "cell_type": "code",
   "execution_count": 19,
   "metadata": {},
   "outputs": [
    {
     "name": "stdout",
     "output_type": "stream",
     "text": [
      "valores de x:  [ 2.90314318  1.6900898  -0.07100784  1.90958973  0.13428667  4.49397776\n",
      " -1.71647489 -3.48710003  2.22931061  1.60771234  0.91336604 -2.23672803\n",
      " -6.63524133 -1.35026217  0.57500196 -7.55500839  2.21994159  2.16105058\n",
      " -0.67812472 -0.71037839  9.58824103 -0.59044674 -3.3138099   2.0155635\n",
      "  2.74680112  0.52612253  0.99465617  3.08085795 -1.05368854 -2.54914574\n",
      " -2.23095165 -3.75048825  0.39862315 -1.88534389 -0.0295492   3.83327565\n",
      " -1.34274304  2.88648032 -2.16570549  2.53690179  3.51648638  2.05341788\n",
      "  1.76767154  0.19209588  6.09743043 -0.40049547 -2.17804933 -2.81342871\n",
      "  1.88824811 -6.64816932 -6.72380727  1.84747985 -2.77618479  7.37506913\n",
      " -2.64953054  2.89925623  3.99224947 -0.62870388 -3.46986362  0.13046718\n",
      "  0.88267438 -0.81396384 -0.79673162  0.95080632 -4.84590155 -3.16420898\n",
      " -1.10180934  6.57009457 -3.44246761  0.50669676 -0.05768916  0.10716399\n",
      " -1.22296476 -2.23247526  2.1227291  -1.07441385  4.03438202 -9.86328474\n",
      "  0.28343337 -1.58589012  1.16137667  1.53919516 -1.73416837 -3.01259039\n",
      " -0.23682858 -2.54845078 -1.42360645  1.05757025 -2.72351532  1.92577173\n",
      "  2.45341081  0.17712094 -3.56531196  0.38809149 -0.51932509 -0.87636494\n",
      "  2.5907274   4.77449241 -3.63314685  2.42135834]\n"
     ]
    }
   ],
   "source": [
    "print(\"valores de x: \",data[:,0])"
   ]
  },
  {
   "cell_type": "code",
   "execution_count": 20,
   "metadata": {},
   "outputs": [
    {
     "name": "stdout",
     "output_type": "stream",
     "text": [
      "valores de y:  [ 1.08674134  3.68194039  1.48634947  7.28611273  3.72277142 -2.60135812\n",
      " -0.2426364  -0.4915419  -0.22288475  2.74258526 -2.63806609 -3.55961945\n",
      " -1.15203777 -0.42670648  4.52805364  0.88894334  4.89276985 -3.59311415\n",
      "  0.54483829  1.65535578  2.44574024 -0.33715559 -0.14404328  2.5459759\n",
      " -1.51769627  4.51361989  2.66233382  0.87538996 -1.20966826  0.57722173\n",
      "  2.34823799 -1.27166437 -2.19258366  3.3114424   1.46749132  4.59326194\n",
      "  0.13038139 -6.91037034  2.227383    3.82569934  7.35895782 -3.81755665\n",
      " -1.49048616  4.24126401  1.24462819  6.10068706  1.59957501 -1.84144357\n",
      "  3.88328401 -4.66631196 -0.77208577 -2.09881276  0.30594908 -5.14005733\n",
      " -4.05094705 -0.90644353 -0.19330142  1.59895614 -1.1612271   3.34717863\n",
      " -1.62423448 -2.02684412 -2.0125622  -1.84475267 -5.29542589 -3.73631096\n",
      " -3.17768873  2.40588201 -1.66029917  2.21368104  1.56518208  3.03029034\n",
      "  3.38589308  4.03601991  2.83347629 -4.12511819 -4.13950543  1.88387731\n",
      " -2.56733673 -0.98729014  4.64378286  1.54044579 -2.41091628  0.65629362\n",
      " -1.13205266  0.75605761  1.96193459  2.66804242  1.405454    0.56276357\n",
      "  0.33919875  4.49850606 -4.38780218 -1.07124493 -4.69487624 -0.39768511\n",
      " -3.33774907 -2.79433187 -1.97252833  2.18438553]\n"
     ]
    }
   ],
   "source": [
    "print(\"valores de y: \",data[:,1])"
   ]
  },
  {
   "cell_type": "code",
   "execution_count": 21,
   "metadata": {},
   "outputs": [
    {
     "data": {
      "text/plain": [
       "<matplotlib.collections.PathCollection at 0x11578c780>"
      ]
     },
     "execution_count": 21,
     "metadata": {},
     "output_type": "execute_result"
    },
    {
     "data": {
      "image/png": "[encoded data removed]",
      "text/plain": [
       "<Figure size 432x288 with 1 Axes>"
      ]
     },
     "metadata": {
      "needs_background": "light"
     },
     "output_type": "display_data"
    }
   ],
   "source": [
    "plt.scatter(data[:,0],data[:,1]) #las mitades(?)-revisar //eje x y y "
   ]
  },
  {
   "cell_type": "code",
   "execution_count": 23,
   "metadata": {},
   "outputs": [
    {
     "data": {
      "text/plain": [
       "array([[ 2.90314318,  1.08674134],\n",
       "       [ 1.6900898 ,  3.68194039],\n",
       "       [-0.07100784,  1.48634947],\n",
       "       [ 1.90958973,  7.28611273],\n",
       "       [ 0.13428667,  3.72277142],\n",
       "       [ 4.49397776, -2.60135812],\n",
       "       [-1.71647489, -0.2426364 ],\n",
       "       [-3.48710003, -0.4915419 ],\n",
       "       [ 2.22931061, -0.22288475],\n",
       "       [ 1.60771234,  2.74258526],\n",
       "       [ 0.91336604, -2.63806609],\n",
       "       [-2.23672803, -3.55961945],\n",
       "       [-6.63524133, -1.15203777],\n",
       "       [-1.35026217, -0.42670648],\n",
       "       [ 0.57500196,  4.52805364],\n",
       "       [-7.55500839,  0.88894334],\n",
       "       [ 2.21994159,  4.89276985],\n",
       "       [ 2.16105058, -3.59311415],\n",
       "       [-0.67812472,  0.54483829],\n",
       "       [-0.71037839,  1.65535578],\n",
       "       [ 9.58824103,  2.44574024],\n",
       "       [-0.59044674, -0.33715559],\n",
       "       [-3.3138099 , -0.14404328],\n",
       "       [ 2.0155635 ,  2.5459759 ],\n",
       "       [ 2.74680112, -1.51769627],\n",
       "       [ 0.52612253,  4.51361989],\n",
       "       [ 0.99465617,  2.66233382],\n",
       "       [ 3.08085795,  0.87538996],\n",
       "       [-1.05368854, -1.20966826],\n",
       "       [-2.54914574,  0.57722173],\n",
       "       [-2.23095165,  2.34823799],\n",
       "       [-3.75048825, -1.27166437],\n",
       "       [ 0.39862315, -2.19258366],\n",
       "       [-1.88534389,  3.3114424 ],\n",
       "       [-0.0295492 ,  1.46749132],\n",
       "       [ 3.83327565,  4.59326194],\n",
       "       [-1.34274304,  0.13038139],\n",
       "       [ 2.88648032, -6.91037034],\n",
       "       [-2.16570549,  2.227383  ],\n",
       "       [ 2.53690179,  3.82569934],\n",
       "       [ 3.51648638,  7.35895782],\n",
       "       [ 2.05341788, -3.81755665],\n",
       "       [ 1.76767154, -1.49048616],\n",
       "       [ 0.19209588,  4.24126401],\n",
       "       [ 6.09743043,  1.24462819],\n",
       "       [-0.40049547,  6.10068706],\n",
       "       [-2.17804933,  1.59957501],\n",
       "       [-2.81342871, -1.84144357],\n",
       "       [ 1.88824811,  3.88328401],\n",
       "       [-6.64816932, -4.66631196]])"
      ]
     },
     "execution_count": 23,
     "metadata": {},
     "output_type": "execute_result"
    }
   ],
   "source": [
    "data[:h,:] #tomamos la mitad"
   ]
  },
  {
   "cell_type": "code",
   "execution_count": 25,
   "metadata": {},
   "outputs": [],
   "source": [
    "data[:h,:] = data[:h,:] -3*np.ones((h,dimen)) #le indicamos a esta mitad que el resultado este mas cerca del resultado (????)"
   ]
  },
  {
   "cell_type": "code",
   "execution_count": 26,
   "metadata": {},
   "outputs": [],
   "source": [
    "data[h:,:] = data[h:,:]+3*np.ones((h,dimen))"
   ]
  },
  {
   "cell_type": "markdown",
   "metadata": {},
   "source": [
    "ahora los datos están mas cerca de 3 y -3 (?)"
   ]
  },
  {
   "cell_type": "code",
   "execution_count": 33,
   "metadata": {},
   "outputs": [
    {
     "data": {
      "text/plain": [
       "<matplotlib.collections.PathCollection at 0x115b874a8>"
      ]
     },
     "execution_count": 33,
     "metadata": {},
     "output_type": "execute_result"
    },
    {
     "data": {
      "image/png": "[encoded data removed]",
      "text/plain": [
       "<Figure size 432x288 with 1 Axes>"
      ]
     },
     "metadata": {
      "needs_background": "light"
     },
     "output_type": "display_data"
    }
   ],
   "source": [
    "colors = ['blue','red']\n",
    "\n",
    "color = np.array([colors[0]]*h+[colors[1]]*h).reshape(n) #?\n",
    "plt.scatter(data[:,0],data[:,1],c=color, alpha=0.6) #las mitades(?)-revisar //eje x y y "
   ]
  },
  {
   "cell_type": "code",
   "execution_count": 36,
   "metadata": {},
   "outputs": [],
   "source": [
    "target = np.array([0]*h + [1]*h).reshape(n,1) #binarizamos\n"
   ]
  },
  {
   "cell_type": "code",
   "execution_count": 37,
   "metadata": {},
   "outputs": [
    {
     "data": {
      "text/plain": [
       "array([[0],\n",
       "       [0],\n",
       "       [0],\n",
       "       [0],\n",
       "       [0],\n",
       "       [0],\n",
       "       [0],\n",
       "       [0],\n",
       "       [0],\n",
       "       [0],\n",
       "       [0],\n",
       "       [0],\n",
       "       [0],\n",
       "       [0],\n",
       "       [0],\n",
       "       [0],\n",
       "       [0],\n",
       "       [0],\n",
       "       [0],\n",
       "       [0],\n",
       "       [0],\n",
       "       [0],\n",
       "       [0],\n",
       "       [0],\n",
       "       [0],\n",
       "       [0],\n",
       "       [0],\n",
       "       [0],\n",
       "       [0],\n",
       "       [0],\n",
       "       [0],\n",
       "       [0],\n",
       "       [0],\n",
       "       [0],\n",
       "       [0],\n",
       "       [0],\n",
       "       [0],\n",
       "       [0],\n",
       "       [0],\n",
       "       [0],\n",
       "       [0],\n",
       "       [0],\n",
       "       [0],\n",
       "       [0],\n",
       "       [0],\n",
       "       [0],\n",
       "       [0],\n",
       "       [0],\n",
       "       [0],\n",
       "       [0],\n",
       "       [1],\n",
       "       [1],\n",
       "       [1],\n",
       "       [1],\n",
       "       [1],\n",
       "       [1],\n",
       "       [1],\n",
       "       [1],\n",
       "       [1],\n",
       "       [1],\n",
       "       [1],\n",
       "       [1],\n",
       "       [1],\n",
       "       [1],\n",
       "       [1],\n",
       "       [1],\n",
       "       [1],\n",
       "       [1],\n",
       "       [1],\n",
       "       [1],\n",
       "       [1],\n",
       "       [1],\n",
       "       [1],\n",
       "       [1],\n",
       "       [1],\n",
       "       [1],\n",
       "       [1],\n",
       "       [1],\n",
       "       [1],\n",
       "       [1],\n",
       "       [1],\n",
       "       [1],\n",
       "       [1],\n",
       "       [1],\n",
       "       [1],\n",
       "       [1],\n",
       "       [1],\n",
       "       [1],\n",
       "       [1],\n",
       "       [1],\n",
       "       [1],\n",
       "       [1],\n",
       "       [1],\n",
       "       [1],\n",
       "       [1],\n",
       "       [1],\n",
       "       [1],\n",
       "       [1],\n",
       "       [1],\n",
       "       [1]])"
      ]
     },
     "execution_count": 37,
     "metadata": {},
     "output_type": "execute_result"
    }
   ],
   "source": [
    "target"
   ]
  },
  {
   "cell_type": "code",
   "execution_count": null,
   "metadata": {},
   "outputs": [],
   "source": []
  }
 ],
 "metadata": {
  "kernelspec": {
   "display_name": "Python 3",
   "language": "python",
   "name": "python3"
  },
  "language_info": {
   "codemirror_mode": {
    "name": "ipython",
    "version": 3
   },
   "file_extension": ".py",
   "mimetype": "text/x-python",
   "name": "python",
   "nbconvert_exporter": "python",
   "pygments_lexer": "ipython3",
   "version": "3.6.6"
  }
 },
 "nbformat": 4,
 "nbformat_minor": 2
}
